{
  "nbformat": 4,
  "nbformat_minor": 0,
  "metadata": {
    "colab": {
      "name": "DataForPlasticityProject.ipynb",
      "provenance": [],
      "collapsed_sections": [],
      "authorship_tag": "ABX9TyPNPw8e9RnVdRSrAr26m34f",
      "include_colab_link": true
    },
    "kernelspec": {
      "name": "python3",
      "display_name": "Python 3"
    },
    "language_info": {
      "name": "python"
    }
  },
  "cells": [
    {
      "cell_type": "markdown",
      "metadata": {
        "id": "view-in-github",
        "colab_type": "text"
      },
      "source": [
        "<a href=\"https://colab.research.google.com/github/CJWhyte/NeuromatchProject/blob/main/DataForPlasticityProject.ipynb\" target=\"_parent\"><img src=\"https://colab.research.google.com/assets/colab-badge.svg\" alt=\"Open In Colab\"/></a>"
      ]
    },
    {
      "cell_type": "markdown",
      "metadata": {
        "id": "qMV0vNZZobsX"
      },
      "source": [
        "This script extracts the following data from the Allen Brain Institute dataset: \n",
        "\n",
        "*   Inhibitory (SST and VIP) and excitatory cells\n",
        "*   Passive viewing of familair and novel stim\n",
        "*   0-600ms\n",
        "*   Single scope recording\n",
        "\n",
        "Note. During the 2-photon imaging portion of the experiment, mice perform the task with the same set of images they saw during training (either image set A or B), as well as an additional novel set of images (whichever of A or B that they did not see during training). This allows evaluation of the impact of different sensory contexts on neural activity - familiarity versus novelty. Sessions with familiar images include those starting with OPHYS_0, OPHYS_1, OPHYS_2, and OPHYS_3. Sessions with novel images include those starting with OPHYS_4, OPHYS_5, and OPHYS_6. To recap:\n",
        "\n",
        "**Familiar**\n",
        "*   OPHYS_0, OPHYS_1, OPHYS_2, and OPHYS_3\n",
        "\n",
        "**Novel**\n",
        "*   OPHYS_4, OPHYS_5, and OPHYS_6.\n",
        "\n",
        "\n",
        "Interleaved between active behavior sessions are passive viewing sessions where mice are given their daily water ahead of the sesssion (and are thus satiated) and view the stimulus with the lick spout retracted so they are unable to earn water rewards. This allows comparison of neural activity in response to stimuli under different behavioral context - active task engagement and passive viewing without reward. Passive sessions include OPHYS_2_images_A_passive (passive session with familiar images), and OPHYS_5_images_A_passive (passive session with novel images). To recap:\n"
      ]
    },
    {
      "cell_type": "markdown",
      "metadata": {
        "id": "zzVEoVuKGXvY"
      },
      "source": [
        "Load necessary packages. Make sure to click restart runtime to get package to work also to save on memory set the variable named celltype to the celltype we want to extract."
      ]
    },
    {
      "cell_type": "code",
      "metadata": {
        "id": "smFvrICrZUEI"
      },
      "source": [
        "# VIP = 1, SST = 1 or Exc = 3\n",
        "celltype = 'Exc'"
      ],
      "execution_count": 134,
      "outputs": []
    },
    {
      "cell_type": "code",
      "metadata": {
        "id": "wKFxgoFgQgaX",
        "colab": {
          "base_uri": "https://localhost:8080/"
        },
        "outputId": "4ae08033-8e09-48d1-85c9-3363c3111c98"
      },
      "source": [
        "!python -m pip install --upgrade pip\n",
        "!pip install mindscope_utilities --upgrade"
      ],
      "execution_count": 135,
      "outputs": [
        {
          "output_type": "stream",
          "text": [
            "Requirement already satisfied: pip in /usr/local/lib/python3.7/dist-packages (21.1.3)\n",
            "\u001b[33mWARNING: Running pip as the 'root' user can result in broken permissions and conflicting behaviour with the system package manager. It is recommended to use a virtual environment instead: https://pip.pypa.io/warnings/venv\u001b[0m\n",
            "Requirement already satisfied: mindscope_utilities in /usr/local/lib/python3.7/dist-packages (0.1.7)\n",
            "Requirement already satisfied: flake8 in /usr/local/lib/python3.7/dist-packages (from mindscope_utilities) (3.9.2)\n",
            "Requirement already satisfied: pytest in /usr/local/lib/python3.7/dist-packages (from mindscope_utilities) (3.6.4)\n",
            "Requirement already satisfied: allensdk==2.11.2 in /usr/local/lib/python3.7/dist-packages (from mindscope_utilities) (2.11.2)\n",
            "Requirement already satisfied: marshmallow==3.0.0rc6 in /usr/local/lib/python3.7/dist-packages (from allensdk==2.11.2->mindscope_utilities) (3.0.0rc6)\n",
            "Requirement already satisfied: hdmf<2.5.0 in /usr/local/lib/python3.7/dist-packages (from allensdk==2.11.2->mindscope_utilities) (2.4.0)\n",
            "Requirement already satisfied: six<2.0.0,>=1.9.0 in /usr/local/lib/python3.7/dist-packages (from allensdk==2.11.2->mindscope_utilities) (1.15.0)\n",
            "Requirement already satisfied: future<1.0.0,>=0.14.3 in /usr/local/lib/python3.7/dist-packages (from allensdk==2.11.2->mindscope_utilities) (0.16.0)\n",
            "Requirement already satisfied: requests<3.0.0 in /usr/local/lib/python3.7/dist-packages (from allensdk==2.11.2->mindscope_utilities) (2.23.0)\n",
            "Requirement already satisfied: pandas<=0.25.3,>=0.25.1 in /usr/local/lib/python3.7/dist-packages (from allensdk==2.11.2->mindscope_utilities) (0.25.3)\n",
            "Requirement already satisfied: semver in /usr/local/lib/python3.7/dist-packages (from allensdk==2.11.2->mindscope_utilities) (2.13.0)\n",
            "Requirement already satisfied: simplejson<4.0.0,>=3.10.0 in /usr/local/lib/python3.7/dist-packages (from allensdk==2.11.2->mindscope_utilities) (3.17.3)\n",
            "Requirement already satisfied: scikit-image<0.17.0,>=0.14.0 in /usr/local/lib/python3.7/dist-packages (from allensdk==2.11.2->mindscope_utilities) (0.16.2)\n",
            "Requirement already satisfied: ndx-events<=0.2.0 in /usr/local/lib/python3.7/dist-packages (from allensdk==2.11.2->mindscope_utilities) (0.2.0)\n",
            "Requirement already satisfied: simpleitk<3.0.0,>=2.0.2 in /usr/local/lib/python3.7/dist-packages (from allensdk==2.11.2->mindscope_utilities) (2.0.2)\n",
            "Requirement already satisfied: pynrrd<1.0.0,>=0.2.1 in /usr/local/lib/python3.7/dist-packages (from allensdk==2.11.2->mindscope_utilities) (0.4.2)\n",
            "Requirement already satisfied: matplotlib<4.0.0,>=1.4.3 in /usr/local/lib/python3.7/dist-packages (from allensdk==2.11.2->mindscope_utilities) (3.2.2)\n",
            "Requirement already satisfied: numpy<1.19.0,>=1.15.4 in /usr/local/lib/python3.7/dist-packages (from allensdk==2.11.2->mindscope_utilities) (1.18.5)\n",
            "Requirement already satisfied: scikit-build<1.0.0 in /usr/local/lib/python3.7/dist-packages (from allensdk==2.11.2->mindscope_utilities) (0.11.1)\n",
            "Requirement already satisfied: jinja2<2.12.0,>=2.7.3 in /usr/local/lib/python3.7/dist-packages (from allensdk==2.11.2->mindscope_utilities) (2.11.3)\n",
            "Requirement already satisfied: glymur==0.8.19 in /usr/local/lib/python3.7/dist-packages (from allensdk==2.11.2->mindscope_utilities) (0.8.19)\n",
            "Requirement already satisfied: boto3==1.17.21 in /usr/local/lib/python3.7/dist-packages (from allensdk==2.11.2->mindscope_utilities) (1.17.21)\n",
            "Requirement already satisfied: pynwb<2.0.0,>=1.3.2 in /usr/local/lib/python3.7/dist-packages (from allensdk==2.11.2->mindscope_utilities) (1.4.0)\n",
            "Requirement already satisfied: statsmodels<=0.13.0 in /usr/local/lib/python3.7/dist-packages (from allensdk==2.11.2->mindscope_utilities) (0.10.2)\n",
            "Requirement already satisfied: requests-toolbelt<1.0.0 in /usr/local/lib/python3.7/dist-packages (from allensdk==2.11.2->mindscope_utilities) (0.9.1)\n",
            "Requirement already satisfied: psycopg2-binary<3.0.0,>=2.7 in /usr/local/lib/python3.7/dist-packages (from allensdk==2.11.2->mindscope_utilities) (2.9.1)\n",
            "Requirement already satisfied: tqdm>=4.27 in /usr/local/lib/python3.7/dist-packages (from allensdk==2.11.2->mindscope_utilities) (4.41.1)\n",
            "Requirement already satisfied: tables<4.0.0,>=3.6.0 in /usr/local/lib/python3.7/dist-packages (from allensdk==2.11.2->mindscope_utilities) (3.6.1)\n",
            "Requirement already satisfied: xarray<0.16.0 in /usr/local/lib/python3.7/dist-packages (from allensdk==2.11.2->mindscope_utilities) (0.15.1)\n",
            "Requirement already satisfied: seaborn<1.0.0 in /usr/local/lib/python3.7/dist-packages (from allensdk==2.11.2->mindscope_utilities) (0.11.1)\n",
            "Requirement already satisfied: nest-asyncio==1.2.0 in /usr/local/lib/python3.7/dist-packages (from allensdk==2.11.2->mindscope_utilities) (1.2.0)\n",
            "Requirement already satisfied: h5py<3.0.0,>=2.8 in /usr/local/lib/python3.7/dist-packages (from allensdk==2.11.2->mindscope_utilities) (2.10.0)\n",
            "Requirement already satisfied: argschema<3.0.0 in /usr/local/lib/python3.7/dist-packages (from allensdk==2.11.2->mindscope_utilities) (2.0.2)\n",
            "Requirement already satisfied: aiohttp==3.7.4 in /usr/local/lib/python3.7/dist-packages (from allensdk==2.11.2->mindscope_utilities) (3.7.4)\n",
            "Requirement already satisfied: scipy<2.0.0,>=1.4.0 in /usr/local/lib/python3.7/dist-packages (from allensdk==2.11.2->mindscope_utilities) (1.4.1)\n",
            "Requirement already satisfied: attrs>=17.3.0 in /usr/local/lib/python3.7/dist-packages (from aiohttp==3.7.4->allensdk==2.11.2->mindscope_utilities) (21.2.0)\n",
            "Requirement already satisfied: chardet<4.0,>=2.0 in /usr/local/lib/python3.7/dist-packages (from aiohttp==3.7.4->allensdk==2.11.2->mindscope_utilities) (3.0.4)\n",
            "Requirement already satisfied: multidict<7.0,>=4.5 in /usr/local/lib/python3.7/dist-packages (from aiohttp==3.7.4->allensdk==2.11.2->mindscope_utilities) (5.1.0)\n",
            "Requirement already satisfied: async-timeout<4.0,>=3.0 in /usr/local/lib/python3.7/dist-packages (from aiohttp==3.7.4->allensdk==2.11.2->mindscope_utilities) (3.0.1)\n",
            "Requirement already satisfied: typing-extensions>=3.6.5 in /usr/local/lib/python3.7/dist-packages (from aiohttp==3.7.4->allensdk==2.11.2->mindscope_utilities) (3.7.4.3)\n",
            "Requirement already satisfied: yarl<2.0,>=1.0 in /usr/local/lib/python3.7/dist-packages (from aiohttp==3.7.4->allensdk==2.11.2->mindscope_utilities) (1.6.3)\n",
            "Requirement already satisfied: botocore<1.21.0,>=1.20.21 in /usr/local/lib/python3.7/dist-packages (from boto3==1.17.21->allensdk==2.11.2->mindscope_utilities) (1.20.112)\n",
            "Requirement already satisfied: jmespath<1.0.0,>=0.7.1 in /usr/local/lib/python3.7/dist-packages (from boto3==1.17.21->allensdk==2.11.2->mindscope_utilities) (0.10.0)\n",
            "Requirement already satisfied: s3transfer<0.4.0,>=0.3.0 in /usr/local/lib/python3.7/dist-packages (from boto3==1.17.21->allensdk==2.11.2->mindscope_utilities) (0.3.7)\n",
            "Requirement already satisfied: setuptools in /usr/local/lib/python3.7/dist-packages (from glymur==0.8.19->allensdk==2.11.2->mindscope_utilities) (57.0.0)\n",
            "Requirement already satisfied: python-dateutil<3.0.0,>=2.1 in /usr/local/lib/python3.7/dist-packages (from botocore<1.21.0,>=1.20.21->boto3==1.17.21->allensdk==2.11.2->mindscope_utilities) (2.8.1)\n",
            "Requirement already satisfied: urllib3<1.27,>=1.25.4 in /usr/local/lib/python3.7/dist-packages (from botocore<1.21.0,>=1.20.21->boto3==1.17.21->allensdk==2.11.2->mindscope_utilities) (1.25.11)\n",
            "Requirement already satisfied: ruamel.yaml<1,>=0.15 in /usr/local/lib/python3.7/dist-packages (from hdmf<2.5.0->allensdk==2.11.2->mindscope_utilities) (0.17.10)\n",
            "Requirement already satisfied: jsonschema<4,>=2.6.0 in /usr/local/lib/python3.7/dist-packages (from hdmf<2.5.0->allensdk==2.11.2->mindscope_utilities) (2.6.0)\n",
            "Requirement already satisfied: MarkupSafe>=0.23 in /usr/local/lib/python3.7/dist-packages (from jinja2<2.12.0,>=2.7.3->allensdk==2.11.2->mindscope_utilities) (2.0.1)\n",
            "Requirement already satisfied: pyparsing!=2.0.4,!=2.1.2,!=2.1.6,>=2.0.1 in /usr/local/lib/python3.7/dist-packages (from matplotlib<4.0.0,>=1.4.3->allensdk==2.11.2->mindscope_utilities) (2.4.7)\n",
            "Requirement already satisfied: cycler>=0.10 in /usr/local/lib/python3.7/dist-packages (from matplotlib<4.0.0,>=1.4.3->allensdk==2.11.2->mindscope_utilities) (0.10.0)\n",
            "Requirement already satisfied: kiwisolver>=1.0.1 in /usr/local/lib/python3.7/dist-packages (from matplotlib<4.0.0,>=1.4.3->allensdk==2.11.2->mindscope_utilities) (1.3.1)\n",
            "Requirement already satisfied: pytz>=2017.2 in /usr/local/lib/python3.7/dist-packages (from pandas<=0.25.3,>=0.25.1->allensdk==2.11.2->mindscope_utilities) (2018.9)\n",
            "Requirement already satisfied: idna<3,>=2.5 in /usr/local/lib/python3.7/dist-packages (from requests<3.0.0->allensdk==2.11.2->mindscope_utilities) (2.10)\n",
            "Requirement already satisfied: certifi>=2017.4.17 in /usr/local/lib/python3.7/dist-packages (from requests<3.0.0->allensdk==2.11.2->mindscope_utilities) (2021.5.30)\n",
            "Requirement already satisfied: ruamel.yaml.clib>=0.1.2 in /usr/local/lib/python3.7/dist-packages (from ruamel.yaml<1,>=0.15->hdmf<2.5.0->allensdk==2.11.2->mindscope_utilities) (0.2.6)\n",
            "Requirement already satisfied: packaging in /usr/local/lib/python3.7/dist-packages (from scikit-build<1.0.0->allensdk==2.11.2->mindscope_utilities) (21.0)\n",
            "Requirement already satisfied: wheel>=0.29.0 in /usr/local/lib/python3.7/dist-packages (from scikit-build<1.0.0->allensdk==2.11.2->mindscope_utilities) (0.36.2)\n",
            "Requirement already satisfied: distro in /usr/local/lib/python3.7/dist-packages (from scikit-build<1.0.0->allensdk==2.11.2->mindscope_utilities) (1.5.0)\n",
            "Requirement already satisfied: PyWavelets>=0.4.0 in /usr/local/lib/python3.7/dist-packages (from scikit-image<0.17.0,>=0.14.0->allensdk==2.11.2->mindscope_utilities) (1.1.1)\n",
            "Requirement already satisfied: pillow>=4.3.0 in /usr/local/lib/python3.7/dist-packages (from scikit-image<0.17.0,>=0.14.0->allensdk==2.11.2->mindscope_utilities) (7.1.2)\n",
            "Requirement already satisfied: imageio>=2.3.0 in /usr/local/lib/python3.7/dist-packages (from scikit-image<0.17.0,>=0.14.0->allensdk==2.11.2->mindscope_utilities) (2.4.1)\n",
            "Requirement already satisfied: networkx>=2.0 in /usr/local/lib/python3.7/dist-packages (from scikit-image<0.17.0,>=0.14.0->allensdk==2.11.2->mindscope_utilities) (2.5.1)\n",
            "Requirement already satisfied: decorator<5,>=4.3 in /usr/local/lib/python3.7/dist-packages (from networkx>=2.0->scikit-image<0.17.0,>=0.14.0->allensdk==2.11.2->mindscope_utilities) (4.4.2)\n",
            "Requirement already satisfied: patsy>=0.4.0 in /usr/local/lib/python3.7/dist-packages (from statsmodels<=0.13.0->allensdk==2.11.2->mindscope_utilities) (0.5.1)\n",
            "Requirement already satisfied: numexpr>=2.6.2 in /usr/local/lib/python3.7/dist-packages (from tables<4.0.0,>=3.6.0->allensdk==2.11.2->mindscope_utilities) (2.7.3)\n",
            "Requirement already satisfied: mccabe<0.7.0,>=0.6.0 in /usr/local/lib/python3.7/dist-packages (from flake8->mindscope_utilities) (0.6.1)\n",
            "Requirement already satisfied: pyflakes<2.4.0,>=2.3.0 in /usr/local/lib/python3.7/dist-packages (from flake8->mindscope_utilities) (2.3.1)\n",
            "Requirement already satisfied: importlib-metadata in /usr/local/lib/python3.7/dist-packages (from flake8->mindscope_utilities) (4.6.1)\n",
            "Requirement already satisfied: pycodestyle<2.8.0,>=2.7.0 in /usr/local/lib/python3.7/dist-packages (from flake8->mindscope_utilities) (2.7.0)\n",
            "Requirement already satisfied: zipp>=0.5 in /usr/local/lib/python3.7/dist-packages (from importlib-metadata->flake8->mindscope_utilities) (3.5.0)\n",
            "Requirement already satisfied: py>=1.5.0 in /usr/local/lib/python3.7/dist-packages (from pytest->mindscope_utilities) (1.10.0)\n",
            "Requirement already satisfied: atomicwrites>=1.0 in /usr/local/lib/python3.7/dist-packages (from pytest->mindscope_utilities) (1.4.0)\n",
            "Requirement already satisfied: pluggy<0.8,>=0.5 in /usr/local/lib/python3.7/dist-packages (from pytest->mindscope_utilities) (0.7.1)\n",
            "Requirement already satisfied: more-itertools>=4.0.0 in /usr/local/lib/python3.7/dist-packages (from pytest->mindscope_utilities) (8.8.0)\n",
            "\u001b[33mWARNING: Running pip as the 'root' user can result in broken permissions and conflicting behaviour with the system package manager. It is recommended to use a virtual environment instead: https://pip.pypa.io/warnings/venv\u001b[0m\n"
          ],
          "name": "stdout"
        }
      ]
    },
    {
      "cell_type": "markdown",
      "metadata": {
        "id": "Aeoo4-aSQl8c"
      },
      "source": [
        "load packages"
      ]
    },
    {
      "cell_type": "code",
      "metadata": {
        "id": "KEj-7zDKQyDP"
      },
      "source": [
        "import os\n",
        "import numpy as np\n",
        "import pandas as pd\n",
        "from tqdm import tqdm\n",
        "import seaborn as sns\n",
        "import matplotlib.pyplot as plt\n",
        "\n",
        "import mindscope_utilities\n",
        "import mindscope_utilities.visual_behavior_ophys as ophys\n",
        "\n",
        "from allensdk.brain_observatory.behavior.behavior_project_cache import VisualBehaviorOphysProjectCache\n",
        "\n",
        "pd.set_option('display.max_columns', 500)"
      ],
      "execution_count": 136,
      "outputs": []
    },
    {
      "cell_type": "markdown",
      "metadata": {
        "id": "JZPbbbs7Ru7Z"
      },
      "source": [
        "load summary tables"
      ]
    },
    {
      "cell_type": "code",
      "metadata": {
        "id": "iHIoYJKRSHQS"
      },
      "source": [
        "data_storage_directory = \"/temp\" # Note: this path must exist on your local drive\n",
        "cache = VisualBehaviorOphysProjectCache.from_s3_cache(cache_dir=data_storage_directory)"
      ],
      "execution_count": 137,
      "outputs": []
    },
    {
      "cell_type": "markdown",
      "metadata": {
        "id": "2ACg0YojSJNS"
      },
      "source": [
        "`Ophys_session_table`\n",
        "\n",
        "\n",
        "contains metadata describing imaging sessions. If more than one plane was imaged during a session, one ophys session id will be associated multiple ophys experiment ids. Each ophys session id will also have a unique behavior session id.\n",
        "\n",
        "`Behavior_session_table `\n",
        "\n",
        "ontains metadata describing behavioral sessions, which may or may not be during imaging. Behavior session ids that do not have ophys session ids were training sessions.\n",
        "\n",
        "`Ophys_experiment_table`\n",
        "\n",
        "contains metadata describing imaging experiments (aka imaging planes). When mesoscope is used, one ophys session may contain up to 8 unique experiments (two visual areas by four imaging depths). Some imaging planes may not be released due to quality control issues, thus each ophys session id is associated with anywhere from one to eight unique experiment ids. Ophys experiment ids are unique and do not repeat across sessions. To find the same imaging plane that was matched across multiple sessions, use the ophys_container_id column that can be found in both ophys_session_table and ophys_experiment_table.\n",
        "\n",
        "**We show all three tables below**"
      ]
    },
    {
      "cell_type": "code",
      "metadata": {
        "id": "4S8QzFFFTl90"
      },
      "source": [
        "ophys_session_table = cache.get_ophys_session_table()\n",
        "ophys_experiment_table = cache.get_ophys_experiment_table()"
      ],
      "execution_count": 138,
      "outputs": []
    },
    {
      "cell_type": "markdown",
      "metadata": {
        "id": "TS4BRiuWnjrK"
      },
      "source": [
        "We can now view the contents of each table \n"
      ]
    },
    {
      "cell_type": "code",
      "metadata": {
        "colab": {
          "base_uri": "https://localhost:8080/"
        },
        "id": "pEsrxyYGnnhm",
        "outputId": "809eb345-8473-42e3-9380-ceb5f7f20878"
      },
      "source": [
        "ophys_session_table.session_type.unique()"
      ],
      "execution_count": 139,
      "outputs": [
        {
          "output_type": "execute_result",
          "data": {
            "text/plain": [
              "array(['OPHYS_1_images_A', 'OPHYS_2_images_A_passive', 'OPHYS_3_images_A',\n",
              "       'OPHYS_4_images_B', 'OPHYS_5_images_B_passive', 'OPHYS_6_images_B',\n",
              "       'OPHYS_1_images_B', 'OPHYS_2_images_B_passive', 'OPHYS_3_images_B',\n",
              "       'OPHYS_4_images_A', 'OPHYS_6_images_A', 'OPHYS_5_images_A_passive'],\n",
              "      dtype=object)"
            ]
          },
          "metadata": {
            "tags": []
          },
          "execution_count": 139
        }
      ]
    },
    {
      "cell_type": "markdown",
      "metadata": {
        "id": "jLTvwFAMbbl3"
      },
      "source": [
        "We want OPHYS_2_images_A_passive (familair) and OPHYS_5_images_A_passive (novel)\n"
      ]
    },
    {
      "cell_type": "code",
      "metadata": {
        "colab": {
          "base_uri": "https://localhost:8080/"
        },
        "id": "bTiRbF6fnp10",
        "outputId": "c099a8ac-d772-45ec-c188-36e4a52edb46"
      },
      "source": [
        "ophys_experiment_table.session_type.unique()"
      ],
      "execution_count": 140,
      "outputs": [
        {
          "output_type": "execute_result",
          "data": {
            "text/plain": [
              "array(['OPHYS_1_images_A', 'OPHYS_2_images_A_passive', 'OPHYS_3_images_A',\n",
              "       'OPHYS_4_images_B', 'OPHYS_5_images_B_passive', 'OPHYS_6_images_B',\n",
              "       'OPHYS_1_images_B', 'OPHYS_2_images_B_passive', 'OPHYS_3_images_B',\n",
              "       'OPHYS_4_images_A', 'OPHYS_6_images_A', 'OPHYS_5_images_A_passive'],\n",
              "      dtype=object)"
            ]
          },
          "metadata": {
            "tags": []
          },
          "execution_count": 140
        }
      ]
    },
    {
      "cell_type": "markdown",
      "metadata": {
        "id": "kZciWw0IoCzL"
      },
      "source": [
        "With the conditions of each session listed above we need more information about cell type and column names in the data which we get below"
      ]
    },
    {
      "cell_type": "code",
      "metadata": {
        "colab": {
          "base_uri": "https://localhost:8080/",
          "height": 482
        },
        "id": "4Q-3SmJtrD2w",
        "outputId": "bfa6b0fd-b722-4c06-f175-a453e5a155f0"
      },
      "source": [
        "ophys_session_table.head()"
      ],
      "execution_count": 141,
      "outputs": [
        {
          "output_type": "execute_result",
          "data": {
            "text/html": [
              "<div>\n",
              "<style scoped>\n",
              "    .dataframe tbody tr th:only-of-type {\n",
              "        vertical-align: middle;\n",
              "    }\n",
              "\n",
              "    .dataframe tbody tr th {\n",
              "        vertical-align: top;\n",
              "    }\n",
              "\n",
              "    .dataframe thead th {\n",
              "        text-align: right;\n",
              "    }\n",
              "</style>\n",
              "<table border=\"1\" class=\"dataframe\">\n",
              "  <thead>\n",
              "    <tr style=\"text-align: right;\">\n",
              "      <th></th>\n",
              "      <th>equipment_name</th>\n",
              "      <th>full_genotype</th>\n",
              "      <th>mouse_id</th>\n",
              "      <th>reporter_line</th>\n",
              "      <th>driver_line</th>\n",
              "      <th>sex</th>\n",
              "      <th>age_in_days</th>\n",
              "      <th>cre_line</th>\n",
              "      <th>indicator</th>\n",
              "      <th>session_number</th>\n",
              "      <th>prior_exposures_to_session_type</th>\n",
              "      <th>prior_exposures_to_image_set</th>\n",
              "      <th>prior_exposures_to_omissions</th>\n",
              "      <th>behavior_session_id</th>\n",
              "      <th>ophys_experiment_id</th>\n",
              "      <th>ophys_container_id</th>\n",
              "      <th>project_code</th>\n",
              "      <th>date_of_acquisition</th>\n",
              "      <th>session_type</th>\n",
              "    </tr>\n",
              "    <tr>\n",
              "      <th>ophys_session_id</th>\n",
              "      <th></th>\n",
              "      <th></th>\n",
              "      <th></th>\n",
              "      <th></th>\n",
              "      <th></th>\n",
              "      <th></th>\n",
              "      <th></th>\n",
              "      <th></th>\n",
              "      <th></th>\n",
              "      <th></th>\n",
              "      <th></th>\n",
              "      <th></th>\n",
              "      <th></th>\n",
              "      <th></th>\n",
              "      <th></th>\n",
              "      <th></th>\n",
              "      <th></th>\n",
              "      <th></th>\n",
              "      <th></th>\n",
              "    </tr>\n",
              "  </thead>\n",
              "  <tbody>\n",
              "    <tr>\n",
              "      <th>951410079</th>\n",
              "      <td>MESO.1</td>\n",
              "      <td>Sst-IRES-Cre/wt;Ai148(TIT2L-GC6f-ICL-tTA2)/wt</td>\n",
              "      <td>457841</td>\n",
              "      <td>Ai148(TIT2L-GC6f-ICL-tTA2)</td>\n",
              "      <td>[Sst-IRES-Cre]</td>\n",
              "      <td>F</td>\n",
              "      <td>206.0</td>\n",
              "      <td>Sst-IRES-Cre</td>\n",
              "      <td>GCaMP6f</td>\n",
              "      <td>1.0</td>\n",
              "      <td>0</td>\n",
              "      <td>65.0</td>\n",
              "      <td>0</td>\n",
              "      <td>951520319</td>\n",
              "      <td>[951980471, 951980473, 951980475, 951980479, 9...</td>\n",
              "      <td>[1018028339, 1018028342, 1018028345, 101802835...</td>\n",
              "      <td>VisualBehaviorMultiscope</td>\n",
              "      <td>2019-09-20 09:45:29.897856</td>\n",
              "      <td>OPHYS_1_images_A</td>\n",
              "    </tr>\n",
              "    <tr>\n",
              "      <th>952430817</th>\n",
              "      <td>MESO.1</td>\n",
              "      <td>Sst-IRES-Cre/wt;Ai148(TIT2L-GC6f-ICL-tTA2)/wt</td>\n",
              "      <td>457841</td>\n",
              "      <td>Ai148(TIT2L-GC6f-ICL-tTA2)</td>\n",
              "      <td>[Sst-IRES-Cre]</td>\n",
              "      <td>F</td>\n",
              "      <td>209.0</td>\n",
              "      <td>Sst-IRES-Cre</td>\n",
              "      <td>GCaMP6f</td>\n",
              "      <td>2.0</td>\n",
              "      <td>0</td>\n",
              "      <td>66.0</td>\n",
              "      <td>1</td>\n",
              "      <td>952554548</td>\n",
              "      <td>[953659743, 953659745, 953659749, 953659752]</td>\n",
              "      <td>[1018028339, 1018028345, 1018028354, 1018028357]</td>\n",
              "      <td>VisualBehaviorMultiscope</td>\n",
              "      <td>2019-09-23 08:13:07.627573</td>\n",
              "      <td>OPHYS_2_images_A_passive</td>\n",
              "    </tr>\n",
              "    <tr>\n",
              "      <th>954954402</th>\n",
              "      <td>MESO.1</td>\n",
              "      <td>Sst-IRES-Cre/wt;Ai148(TIT2L-GC6f-ICL-tTA2)/wt</td>\n",
              "      <td>457841</td>\n",
              "      <td>Ai148(TIT2L-GC6f-ICL-tTA2)</td>\n",
              "      <td>[Sst-IRES-Cre]</td>\n",
              "      <td>F</td>\n",
              "      <td>210.0</td>\n",
              "      <td>Sst-IRES-Cre</td>\n",
              "      <td>GCaMP6f</td>\n",
              "      <td>3.0</td>\n",
              "      <td>0</td>\n",
              "      <td>67.0</td>\n",
              "      <td>2</td>\n",
              "      <td>953982960</td>\n",
              "      <td>[958527464, 958527471, 958527474, 958527479, 9...</td>\n",
              "      <td>[1018028339, 1018028342, 1018028345, 101802835...</td>\n",
              "      <td>VisualBehaviorMultiscope</td>\n",
              "      <td>2019-09-24 16:00:00.000000</td>\n",
              "      <td>OPHYS_3_images_A</td>\n",
              "    </tr>\n",
              "    <tr>\n",
              "      <th>955775716</th>\n",
              "      <td>MESO.1</td>\n",
              "      <td>Sst-IRES-Cre/wt;Ai148(TIT2L-GC6f-ICL-tTA2)/wt</td>\n",
              "      <td>457841</td>\n",
              "      <td>Ai148(TIT2L-GC6f-ICL-tTA2)</td>\n",
              "      <td>[Sst-IRES-Cre]</td>\n",
              "      <td>F</td>\n",
              "      <td>212.0</td>\n",
              "      <td>Sst-IRES-Cre</td>\n",
              "      <td>GCaMP6f</td>\n",
              "      <td>3.0</td>\n",
              "      <td>1</td>\n",
              "      <td>68.0</td>\n",
              "      <td>3</td>\n",
              "      <td>956010809</td>\n",
              "      <td>[956941841, 956941844, 956941846]</td>\n",
              "      <td>[1018028339, 1018028342, 1018028345]</td>\n",
              "      <td>VisualBehaviorMultiscope</td>\n",
              "      <td>2019-09-26 08:44:37.199778</td>\n",
              "      <td>OPHYS_3_images_A</td>\n",
              "    </tr>\n",
              "    <tr>\n",
              "      <th>957020350</th>\n",
              "      <td>MESO.1</td>\n",
              "      <td>Sst-IRES-Cre/wt;Ai148(TIT2L-GC6f-ICL-tTA2)/wt</td>\n",
              "      <td>457841</td>\n",
              "      <td>Ai148(TIT2L-GC6f-ICL-tTA2)</td>\n",
              "      <td>[Sst-IRES-Cre]</td>\n",
              "      <td>F</td>\n",
              "      <td>213.0</td>\n",
              "      <td>Sst-IRES-Cre</td>\n",
              "      <td>GCaMP6f</td>\n",
              "      <td>4.0</td>\n",
              "      <td>0</td>\n",
              "      <td>0.0</td>\n",
              "      <td>4</td>\n",
              "      <td>957032492</td>\n",
              "      <td>[957759562, 957759564, 957759566, 957759570, 9...</td>\n",
              "      <td>[1018028339, 1018028342, 1018028345, 101802835...</td>\n",
              "      <td>VisualBehaviorMultiscope</td>\n",
              "      <td>2019-09-27 08:28:05.415005</td>\n",
              "      <td>OPHYS_4_images_B</td>\n",
              "    </tr>\n",
              "  </tbody>\n",
              "</table>\n",
              "</div>"
            ],
            "text/plain": [
              "                 equipment_name  \\\n",
              "ophys_session_id                  \n",
              "951410079                MESO.1   \n",
              "952430817                MESO.1   \n",
              "954954402                MESO.1   \n",
              "955775716                MESO.1   \n",
              "957020350                MESO.1   \n",
              "\n",
              "                                                  full_genotype  mouse_id  \\\n",
              "ophys_session_id                                                            \n",
              "951410079         Sst-IRES-Cre/wt;Ai148(TIT2L-GC6f-ICL-tTA2)/wt    457841   \n",
              "952430817         Sst-IRES-Cre/wt;Ai148(TIT2L-GC6f-ICL-tTA2)/wt    457841   \n",
              "954954402         Sst-IRES-Cre/wt;Ai148(TIT2L-GC6f-ICL-tTA2)/wt    457841   \n",
              "955775716         Sst-IRES-Cre/wt;Ai148(TIT2L-GC6f-ICL-tTA2)/wt    457841   \n",
              "957020350         Sst-IRES-Cre/wt;Ai148(TIT2L-GC6f-ICL-tTA2)/wt    457841   \n",
              "\n",
              "                               reporter_line     driver_line sex  age_in_days  \\\n",
              "ophys_session_id                                                                \n",
              "951410079         Ai148(TIT2L-GC6f-ICL-tTA2)  [Sst-IRES-Cre]   F        206.0   \n",
              "952430817         Ai148(TIT2L-GC6f-ICL-tTA2)  [Sst-IRES-Cre]   F        209.0   \n",
              "954954402         Ai148(TIT2L-GC6f-ICL-tTA2)  [Sst-IRES-Cre]   F        210.0   \n",
              "955775716         Ai148(TIT2L-GC6f-ICL-tTA2)  [Sst-IRES-Cre]   F        212.0   \n",
              "957020350         Ai148(TIT2L-GC6f-ICL-tTA2)  [Sst-IRES-Cre]   F        213.0   \n",
              "\n",
              "                      cre_line indicator  session_number  \\\n",
              "ophys_session_id                                           \n",
              "951410079         Sst-IRES-Cre   GCaMP6f             1.0   \n",
              "952430817         Sst-IRES-Cre   GCaMP6f             2.0   \n",
              "954954402         Sst-IRES-Cre   GCaMP6f             3.0   \n",
              "955775716         Sst-IRES-Cre   GCaMP6f             3.0   \n",
              "957020350         Sst-IRES-Cre   GCaMP6f             4.0   \n",
              "\n",
              "                  prior_exposures_to_session_type  \\\n",
              "ophys_session_id                                    \n",
              "951410079                                       0   \n",
              "952430817                                       0   \n",
              "954954402                                       0   \n",
              "955775716                                       1   \n",
              "957020350                                       0   \n",
              "\n",
              "                  prior_exposures_to_image_set  prior_exposures_to_omissions  \\\n",
              "ophys_session_id                                                               \n",
              "951410079                                 65.0                             0   \n",
              "952430817                                 66.0                             1   \n",
              "954954402                                 67.0                             2   \n",
              "955775716                                 68.0                             3   \n",
              "957020350                                  0.0                             4   \n",
              "\n",
              "                  behavior_session_id  \\\n",
              "ophys_session_id                        \n",
              "951410079                   951520319   \n",
              "952430817                   952554548   \n",
              "954954402                   953982960   \n",
              "955775716                   956010809   \n",
              "957020350                   957032492   \n",
              "\n",
              "                                                ophys_experiment_id  \\\n",
              "ophys_session_id                                                      \n",
              "951410079         [951980471, 951980473, 951980475, 951980479, 9...   \n",
              "952430817              [953659743, 953659745, 953659749, 953659752]   \n",
              "954954402         [958527464, 958527471, 958527474, 958527479, 9...   \n",
              "955775716                         [956941841, 956941844, 956941846]   \n",
              "957020350         [957759562, 957759564, 957759566, 957759570, 9...   \n",
              "\n",
              "                                                 ophys_container_id  \\\n",
              "ophys_session_id                                                      \n",
              "951410079         [1018028339, 1018028342, 1018028345, 101802835...   \n",
              "952430817          [1018028339, 1018028345, 1018028354, 1018028357]   \n",
              "954954402         [1018028339, 1018028342, 1018028345, 101802835...   \n",
              "955775716                      [1018028339, 1018028342, 1018028345]   \n",
              "957020350         [1018028339, 1018028342, 1018028345, 101802835...   \n",
              "\n",
              "                              project_code         date_of_acquisition  \\\n",
              "ophys_session_id                                                         \n",
              "951410079         VisualBehaviorMultiscope  2019-09-20 09:45:29.897856   \n",
              "952430817         VisualBehaviorMultiscope  2019-09-23 08:13:07.627573   \n",
              "954954402         VisualBehaviorMultiscope  2019-09-24 16:00:00.000000   \n",
              "955775716         VisualBehaviorMultiscope  2019-09-26 08:44:37.199778   \n",
              "957020350         VisualBehaviorMultiscope  2019-09-27 08:28:05.415005   \n",
              "\n",
              "                              session_type  \n",
              "ophys_session_id                            \n",
              "951410079                 OPHYS_1_images_A  \n",
              "952430817         OPHYS_2_images_A_passive  \n",
              "954954402                 OPHYS_3_images_A  \n",
              "955775716                 OPHYS_3_images_A  \n",
              "957020350                 OPHYS_4_images_B  "
            ]
          },
          "metadata": {
            "tags": []
          },
          "execution_count": 141
        }
      ]
    },
    {
      "cell_type": "code",
      "metadata": {
        "colab": {
          "base_uri": "https://localhost:8080/",
          "height": 416
        },
        "id": "OkTdaTd8rQhS",
        "outputId": "4866ce87-b9fe-4fff-8755-21efb6e5abd4"
      },
      "source": [
        "ophys_experiment_table.head()"
      ],
      "execution_count": 142,
      "outputs": [
        {
          "output_type": "execute_result",
          "data": {
            "text/html": [
              "<div>\n",
              "<style scoped>\n",
              "    .dataframe tbody tr th:only-of-type {\n",
              "        vertical-align: middle;\n",
              "    }\n",
              "\n",
              "    .dataframe tbody tr th {\n",
              "        vertical-align: top;\n",
              "    }\n",
              "\n",
              "    .dataframe thead th {\n",
              "        text-align: right;\n",
              "    }\n",
              "</style>\n",
              "<table border=\"1\" class=\"dataframe\">\n",
              "  <thead>\n",
              "    <tr style=\"text-align: right;\">\n",
              "      <th></th>\n",
              "      <th>equipment_name</th>\n",
              "      <th>full_genotype</th>\n",
              "      <th>mouse_id</th>\n",
              "      <th>reporter_line</th>\n",
              "      <th>driver_line</th>\n",
              "      <th>sex</th>\n",
              "      <th>age_in_days</th>\n",
              "      <th>cre_line</th>\n",
              "      <th>indicator</th>\n",
              "      <th>session_number</th>\n",
              "      <th>prior_exposures_to_session_type</th>\n",
              "      <th>prior_exposures_to_image_set</th>\n",
              "      <th>prior_exposures_to_omissions</th>\n",
              "      <th>ophys_session_id</th>\n",
              "      <th>behavior_session_id</th>\n",
              "      <th>ophys_container_id</th>\n",
              "      <th>project_code</th>\n",
              "      <th>imaging_depth</th>\n",
              "      <th>targeted_structure</th>\n",
              "      <th>date_of_acquisition</th>\n",
              "      <th>session_type</th>\n",
              "      <th>file_id</th>\n",
              "    </tr>\n",
              "    <tr>\n",
              "      <th>ophys_experiment_id</th>\n",
              "      <th></th>\n",
              "      <th></th>\n",
              "      <th></th>\n",
              "      <th></th>\n",
              "      <th></th>\n",
              "      <th></th>\n",
              "      <th></th>\n",
              "      <th></th>\n",
              "      <th></th>\n",
              "      <th></th>\n",
              "      <th></th>\n",
              "      <th></th>\n",
              "      <th></th>\n",
              "      <th></th>\n",
              "      <th></th>\n",
              "      <th></th>\n",
              "      <th></th>\n",
              "      <th></th>\n",
              "      <th></th>\n",
              "      <th></th>\n",
              "      <th></th>\n",
              "      <th></th>\n",
              "    </tr>\n",
              "  </thead>\n",
              "  <tbody>\n",
              "    <tr>\n",
              "      <th>951980471</th>\n",
              "      <td>MESO.1</td>\n",
              "      <td>Sst-IRES-Cre/wt;Ai148(TIT2L-GC6f-ICL-tTA2)/wt</td>\n",
              "      <td>457841</td>\n",
              "      <td>Ai148(TIT2L-GC6f-ICL-tTA2)</td>\n",
              "      <td>[Sst-IRES-Cre]</td>\n",
              "      <td>F</td>\n",
              "      <td>206.0</td>\n",
              "      <td>Sst-IRES-Cre</td>\n",
              "      <td>GCaMP6f</td>\n",
              "      <td>1.0</td>\n",
              "      <td>0</td>\n",
              "      <td>65.0</td>\n",
              "      <td>0</td>\n",
              "      <td>951410079</td>\n",
              "      <td>951520319</td>\n",
              "      <td>1018028342</td>\n",
              "      <td>VisualBehaviorMultiscope</td>\n",
              "      <td>150</td>\n",
              "      <td>VISp</td>\n",
              "      <td>2019-09-20 09:45:29.897856</td>\n",
              "      <td>OPHYS_1_images_A</td>\n",
              "      <td>1085394308</td>\n",
              "    </tr>\n",
              "    <tr>\n",
              "      <th>951980484</th>\n",
              "      <td>MESO.1</td>\n",
              "      <td>Sst-IRES-Cre/wt;Ai148(TIT2L-GC6f-ICL-tTA2)/wt</td>\n",
              "      <td>457841</td>\n",
              "      <td>Ai148(TIT2L-GC6f-ICL-tTA2)</td>\n",
              "      <td>[Sst-IRES-Cre]</td>\n",
              "      <td>F</td>\n",
              "      <td>206.0</td>\n",
              "      <td>Sst-IRES-Cre</td>\n",
              "      <td>GCaMP6f</td>\n",
              "      <td>1.0</td>\n",
              "      <td>0</td>\n",
              "      <td>65.0</td>\n",
              "      <td>0</td>\n",
              "      <td>951410079</td>\n",
              "      <td>951520319</td>\n",
              "      <td>1018028351</td>\n",
              "      <td>VisualBehaviorMultiscope</td>\n",
              "      <td>75</td>\n",
              "      <td>VISl</td>\n",
              "      <td>2019-09-20 09:45:29.897856</td>\n",
              "      <td>OPHYS_1_images_A</td>\n",
              "      <td>1085400876</td>\n",
              "    </tr>\n",
              "    <tr>\n",
              "      <th>951980473</th>\n",
              "      <td>MESO.1</td>\n",
              "      <td>Sst-IRES-Cre/wt;Ai148(TIT2L-GC6f-ICL-tTA2)/wt</td>\n",
              "      <td>457841</td>\n",
              "      <td>Ai148(TIT2L-GC6f-ICL-tTA2)</td>\n",
              "      <td>[Sst-IRES-Cre]</td>\n",
              "      <td>F</td>\n",
              "      <td>206.0</td>\n",
              "      <td>Sst-IRES-Cre</td>\n",
              "      <td>GCaMP6f</td>\n",
              "      <td>1.0</td>\n",
              "      <td>0</td>\n",
              "      <td>65.0</td>\n",
              "      <td>0</td>\n",
              "      <td>951410079</td>\n",
              "      <td>951520319</td>\n",
              "      <td>1018028345</td>\n",
              "      <td>VisualBehaviorMultiscope</td>\n",
              "      <td>225</td>\n",
              "      <td>VISp</td>\n",
              "      <td>2019-09-20 09:45:29.897856</td>\n",
              "      <td>OPHYS_1_images_A</td>\n",
              "      <td>1085400919</td>\n",
              "    </tr>\n",
              "    <tr>\n",
              "      <th>951980479</th>\n",
              "      <td>MESO.1</td>\n",
              "      <td>Sst-IRES-Cre/wt;Ai148(TIT2L-GC6f-ICL-tTA2)/wt</td>\n",
              "      <td>457841</td>\n",
              "      <td>Ai148(TIT2L-GC6f-ICL-tTA2)</td>\n",
              "      <td>[Sst-IRES-Cre]</td>\n",
              "      <td>F</td>\n",
              "      <td>206.0</td>\n",
              "      <td>Sst-IRES-Cre</td>\n",
              "      <td>GCaMP6f</td>\n",
              "      <td>1.0</td>\n",
              "      <td>0</td>\n",
              "      <td>65.0</td>\n",
              "      <td>0</td>\n",
              "      <td>951410079</td>\n",
              "      <td>951520319</td>\n",
              "      <td>1018028354</td>\n",
              "      <td>VisualBehaviorMultiscope</td>\n",
              "      <td>150</td>\n",
              "      <td>VISl</td>\n",
              "      <td>2019-09-20 09:45:29.897856</td>\n",
              "      <td>OPHYS_1_images_A</td>\n",
              "      <td>1085400977</td>\n",
              "    </tr>\n",
              "    <tr>\n",
              "      <th>951980475</th>\n",
              "      <td>MESO.1</td>\n",
              "      <td>Sst-IRES-Cre/wt;Ai148(TIT2L-GC6f-ICL-tTA2)/wt</td>\n",
              "      <td>457841</td>\n",
              "      <td>Ai148(TIT2L-GC6f-ICL-tTA2)</td>\n",
              "      <td>[Sst-IRES-Cre]</td>\n",
              "      <td>F</td>\n",
              "      <td>206.0</td>\n",
              "      <td>Sst-IRES-Cre</td>\n",
              "      <td>GCaMP6f</td>\n",
              "      <td>1.0</td>\n",
              "      <td>0</td>\n",
              "      <td>65.0</td>\n",
              "      <td>0</td>\n",
              "      <td>951410079</td>\n",
              "      <td>951520319</td>\n",
              "      <td>1018028339</td>\n",
              "      <td>VisualBehaviorMultiscope</td>\n",
              "      <td>75</td>\n",
              "      <td>VISp</td>\n",
              "      <td>2019-09-20 09:45:29.897856</td>\n",
              "      <td>OPHYS_1_images_A</td>\n",
              "      <td>1085400920</td>\n",
              "    </tr>\n",
              "  </tbody>\n",
              "</table>\n",
              "</div>"
            ],
            "text/plain": [
              "                    equipment_name  \\\n",
              "ophys_experiment_id                  \n",
              "951980471                   MESO.1   \n",
              "951980484                   MESO.1   \n",
              "951980473                   MESO.1   \n",
              "951980479                   MESO.1   \n",
              "951980475                   MESO.1   \n",
              "\n",
              "                                                     full_genotype  mouse_id  \\\n",
              "ophys_experiment_id                                                            \n",
              "951980471            Sst-IRES-Cre/wt;Ai148(TIT2L-GC6f-ICL-tTA2)/wt    457841   \n",
              "951980484            Sst-IRES-Cre/wt;Ai148(TIT2L-GC6f-ICL-tTA2)/wt    457841   \n",
              "951980473            Sst-IRES-Cre/wt;Ai148(TIT2L-GC6f-ICL-tTA2)/wt    457841   \n",
              "951980479            Sst-IRES-Cre/wt;Ai148(TIT2L-GC6f-ICL-tTA2)/wt    457841   \n",
              "951980475            Sst-IRES-Cre/wt;Ai148(TIT2L-GC6f-ICL-tTA2)/wt    457841   \n",
              "\n",
              "                                  reporter_line     driver_line sex  \\\n",
              "ophys_experiment_id                                                   \n",
              "951980471            Ai148(TIT2L-GC6f-ICL-tTA2)  [Sst-IRES-Cre]   F   \n",
              "951980484            Ai148(TIT2L-GC6f-ICL-tTA2)  [Sst-IRES-Cre]   F   \n",
              "951980473            Ai148(TIT2L-GC6f-ICL-tTA2)  [Sst-IRES-Cre]   F   \n",
              "951980479            Ai148(TIT2L-GC6f-ICL-tTA2)  [Sst-IRES-Cre]   F   \n",
              "951980475            Ai148(TIT2L-GC6f-ICL-tTA2)  [Sst-IRES-Cre]   F   \n",
              "\n",
              "                     age_in_days      cre_line indicator  session_number  \\\n",
              "ophys_experiment_id                                                        \n",
              "951980471                  206.0  Sst-IRES-Cre   GCaMP6f             1.0   \n",
              "951980484                  206.0  Sst-IRES-Cre   GCaMP6f             1.0   \n",
              "951980473                  206.0  Sst-IRES-Cre   GCaMP6f             1.0   \n",
              "951980479                  206.0  Sst-IRES-Cre   GCaMP6f             1.0   \n",
              "951980475                  206.0  Sst-IRES-Cre   GCaMP6f             1.0   \n",
              "\n",
              "                     prior_exposures_to_session_type  \\\n",
              "ophys_experiment_id                                    \n",
              "951980471                                          0   \n",
              "951980484                                          0   \n",
              "951980473                                          0   \n",
              "951980479                                          0   \n",
              "951980475                                          0   \n",
              "\n",
              "                     prior_exposures_to_image_set  \\\n",
              "ophys_experiment_id                                 \n",
              "951980471                                    65.0   \n",
              "951980484                                    65.0   \n",
              "951980473                                    65.0   \n",
              "951980479                                    65.0   \n",
              "951980475                                    65.0   \n",
              "\n",
              "                     prior_exposures_to_omissions  ophys_session_id  \\\n",
              "ophys_experiment_id                                                   \n",
              "951980471                                       0         951410079   \n",
              "951980484                                       0         951410079   \n",
              "951980473                                       0         951410079   \n",
              "951980479                                       0         951410079   \n",
              "951980475                                       0         951410079   \n",
              "\n",
              "                     behavior_session_id  ophys_container_id  \\\n",
              "ophys_experiment_id                                            \n",
              "951980471                      951520319          1018028342   \n",
              "951980484                      951520319          1018028351   \n",
              "951980473                      951520319          1018028345   \n",
              "951980479                      951520319          1018028354   \n",
              "951980475                      951520319          1018028339   \n",
              "\n",
              "                                 project_code  imaging_depth  \\\n",
              "ophys_experiment_id                                            \n",
              "951980471            VisualBehaviorMultiscope            150   \n",
              "951980484            VisualBehaviorMultiscope             75   \n",
              "951980473            VisualBehaviorMultiscope            225   \n",
              "951980479            VisualBehaviorMultiscope            150   \n",
              "951980475            VisualBehaviorMultiscope             75   \n",
              "\n",
              "                    targeted_structure         date_of_acquisition  \\\n",
              "ophys_experiment_id                                                  \n",
              "951980471                         VISp  2019-09-20 09:45:29.897856   \n",
              "951980484                         VISl  2019-09-20 09:45:29.897856   \n",
              "951980473                         VISp  2019-09-20 09:45:29.897856   \n",
              "951980479                         VISl  2019-09-20 09:45:29.897856   \n",
              "951980475                         VISp  2019-09-20 09:45:29.897856   \n",
              "\n",
              "                         session_type     file_id  \n",
              "ophys_experiment_id                                \n",
              "951980471            OPHYS_1_images_A  1085394308  \n",
              "951980484            OPHYS_1_images_A  1085400876  \n",
              "951980473            OPHYS_1_images_A  1085400919  \n",
              "951980479            OPHYS_1_images_A  1085400977  \n",
              "951980475            OPHYS_1_images_A  1085400920  "
            ]
          },
          "metadata": {
            "tags": []
          },
          "execution_count": 142
        }
      ]
    },
    {
      "cell_type": "markdown",
      "metadata": {
        "id": "2NKrmWVfxRpT"
      },
      "source": [
        "We are now going to look at the contents of the session type dictionary to identify labels of the sessions we want\n"
      ]
    },
    {
      "cell_type": "code",
      "metadata": {
        "id": "8QWrlPIchmnV",
        "colab": {
          "base_uri": "https://localhost:8080/"
        },
        "outputId": "373cb6f5-aa07-4348-cc75-b518b2a930e8"
      },
      "source": [
        "# Dictionary with session types\n",
        "session_type = {'familiar_active': ['OPHYS_0', 'OPHYS_1', 'OPHYS_2', 'OPHYS_3'],\n",
        "                'novel_active':    ['OPHYS_4', 'OPHYS_5', 'OPHYS_6'],\n",
        "                'familiar_pasive': ['OPHYS_2_images_A_passive'],\n",
        "                'novel_pasive':    ['OPHYS_5_images_A_passive','OPHYS_5_images_B_passive']} # note: I think \"OPHYS_5_images_B_passive\" is novel, but not sure\n",
        "\n",
        "cre_line_type = ['Sst-IRES-Cre', 'Vip-IRES-Cre', 'Slc17a7-IRES2-Cre']\n",
        "\n",
        "print(f'*Ophys session types in the current dataset:*\\n\\n {ophys_session_table.session_type.unique()}',)      "
      ],
      "execution_count": 143,
      "outputs": [
        {
          "output_type": "stream",
          "text": [
            "*Ophys session types in the current dataset:*\n",
            "\n",
            " ['OPHYS_1_images_A' 'OPHYS_2_images_A_passive' 'OPHYS_3_images_A'\n",
            " 'OPHYS_4_images_B' 'OPHYS_5_images_B_passive' 'OPHYS_6_images_B'\n",
            " 'OPHYS_1_images_B' 'OPHYS_2_images_B_passive' 'OPHYS_3_images_B'\n",
            " 'OPHYS_4_images_A' 'OPHYS_6_images_A' 'OPHYS_5_images_A_passive']\n"
          ],
          "name": "stdout"
        }
      ]
    },
    {
      "cell_type": "markdown",
      "metadata": {
        "id": "HumitR16iN9M"
      },
      "source": [
        "Okay! Lets load two example planes to compare familiar vs novel responses for the active condition."
      ]
    },
    {
      "cell_type": "code",
      "metadata": {
        "id": "sPi4mY6Fih3K"
      },
      "source": [
        "# Active vs passive\n",
        "ind_passive = (ophys_experiment_table.session_type.str.contains(session_type['familiar_pasive'][0]) |\n",
        "               ophys_experiment_table.session_type.str.contains(session_type['novel_pasive'][0])    |\n",
        "               ophys_experiment_table.session_type.str.contains(session_type['novel_pasive'][1]))\n",
        "ind_passive[ind_passive==False] = 'active'\n",
        "ind_passive[ind_passive==True]  = 'pasive'\n",
        "ophys_experiment_table['behavior_condition'] = ind_passive\n",
        "\n",
        "# Familiar vs novel\n",
        "fam = session_type['familiar_active'] + session_type['familiar_pasive']\n",
        "\n",
        "i_fam = pd.Series([False]*ophys_experiment_table.shape[0])\n",
        "for f in fam:\n",
        "  i_fam = (i_fam | ophys_experiment_table.session_type.str.contains(f))\n",
        "i_fam[i_fam==True]  = 'familiar'\n",
        "i_fam[i_fam==False] = 'novel'  \n",
        "ophys_experiment_table['experimental_condition'] = i_fam"
      ],
      "execution_count": 144,
      "outputs": []
    },
    {
      "cell_type": "markdown",
      "metadata": {
        "id": "gHGqGgXlitAJ"
      },
      "source": [
        "We will now find a container that has both familiar and novel sessions in the active condition."
      ]
    },
    {
      "cell_type": "code",
      "metadata": {
        "id": "o1X5MVfAjFGe"
      },
      "source": [
        "#-------- Containers\n",
        "\n",
        "if celltype == 'VIP':\n",
        "  i_fam = ophys_experiment_table.query('cre_line == \"Vip-IRES-Cre\" and behavior_condition == \"active\" and experimental_condition == \"familiar\"')['ophys_container_id']\n",
        "  i_nov = ophys_experiment_table.query('cre_line == \"Vip-IRES-Cre\" and behavior_condition == \"active\" and experimental_condition == \"novel\"')['ophys_container_id']\n",
        "elif celltype == 'SST':\n",
        "  i_fam = ophys_experiment_table.query('cre_line == \"Sst-IRES-Cre\" and behavior_condition == \"active\" and experimental_condition == \"familiar\"')['ophys_container_id']\n",
        "  i_nov = ophys_experiment_table.query('cre_line == \"Sst-IRES-Cre\" and behavior_condition == \"active\" and experimental_condition == \"novel\"')['ophys_container_id']\n",
        "elif celltype == 'Exc':\n",
        "  i_fam = ophys_experiment_table.query('cre_line == \"Vip-IRES-Cre\" and behavior_condition == \"active\" and experimental_condition == \"familiar\"')['ophys_container_id']\n",
        "  i_nov = ophys_experiment_table.query('cre_line == \"Vip-IRES-Cre\" and behavior_condition == \"active\" and experimental_condition == \"novel\"')['ophys_container_id']\n",
        "\n",
        "# Which containers are in both conditions for all three cells\n",
        "unic_fam = i_fam.unique()\n",
        "i_both = []\n",
        "\n",
        "# VIP cells\n",
        "for i,row in enumerate(unic_fam):\n",
        "  if (row == i_nov.values).any():\n",
        "    i_both.append(i)\n",
        "\n",
        "# Choose the first containers with fam & nov conditions \n",
        "id_contain = unic_fam[i_both[0]]\n",
        "\n"
      ],
      "execution_count": 145,
      "outputs": []
    },
    {
      "cell_type": "markdown",
      "metadata": {
        "id": "fkXv3CJ6lHUk"
      },
      "source": [
        "We now need to select the experiments in a specific container"
      ]
    },
    {
      "cell_type": "code",
      "metadata": {
        "id": "54az7fZTlP98",
        "colab": {
          "base_uri": "https://localhost:8080/",
          "height": 225
        },
        "outputId": "493a480a-5565-429e-bcf6-8daecd1cd467"
      },
      "source": [
        " \n",
        "if celltype == 'VIP':\n",
        "   exper_famil = ophys_experiment_table.query('cre_line == \"Vip-IRES-Cre\" and behavior_condition == \"active\" and experimental_condition == \"familiar\" and ophys_container_id == @id_contain')\n",
        "   exper_novel = ophys_experiment_table.query('cre_line == \"Vip-IRES-Cre\" and behavior_condition == \"active\" and experimental_condition == \"novel\" and ophys_container_id == @id_contain')\n",
        "elif celltype == 'SST':\n",
        "   exper_famil = ophys_experiment_table.query('cre_line == \"Sst-IRES-Cre\" and behavior_condition == \"active\" and experimental_condition == \"familiar\" and ophys_container_id == @id_contain')\n",
        "   exper_novel = ophys_experiment_table.query('cre_line == \"Sst-IRES-Cre\" and behavior_condition == \"active\" and experimental_condition == \"novel\" and ophys_container_id == @id_contain')\n",
        "elif celltype == 'Exp':\n",
        "   exper_famil = ophys_experiment_table.query('cre_line == \"Slc17a7-IRES2-Cre\" and behavior_condition == \"active\" and experimental_condition == \"familiar\" and ophys_container_id == @id_contain')\n",
        "   exper_novel = ophys_experiment_table.query('cre_line == \"Slc17a7-IRES2-Cre\" and behavior_condition == \"active\" and experimental_condition == \"novel\" and ophys_container_id == @id_contain')\n",
        "\n",
        "#example header\n",
        "exper_famil.head()\n",
        "exper_novel.head()"
      ],
      "execution_count": 146,
      "outputs": [
        {
          "output_type": "execute_result",
          "data": {
            "text/html": [
              "<div>\n",
              "<style scoped>\n",
              "    .dataframe tbody tr th:only-of-type {\n",
              "        vertical-align: middle;\n",
              "    }\n",
              "\n",
              "    .dataframe tbody tr th {\n",
              "        vertical-align: top;\n",
              "    }\n",
              "\n",
              "    .dataframe thead th {\n",
              "        text-align: right;\n",
              "    }\n",
              "</style>\n",
              "<table border=\"1\" class=\"dataframe\">\n",
              "  <thead>\n",
              "    <tr style=\"text-align: right;\">\n",
              "      <th></th>\n",
              "      <th>equipment_name</th>\n",
              "      <th>full_genotype</th>\n",
              "      <th>mouse_id</th>\n",
              "      <th>reporter_line</th>\n",
              "      <th>driver_line</th>\n",
              "      <th>sex</th>\n",
              "      <th>age_in_days</th>\n",
              "      <th>cre_line</th>\n",
              "      <th>indicator</th>\n",
              "      <th>session_number</th>\n",
              "      <th>prior_exposures_to_session_type</th>\n",
              "      <th>prior_exposures_to_image_set</th>\n",
              "      <th>prior_exposures_to_omissions</th>\n",
              "      <th>ophys_session_id</th>\n",
              "      <th>behavior_session_id</th>\n",
              "      <th>ophys_container_id</th>\n",
              "      <th>project_code</th>\n",
              "      <th>imaging_depth</th>\n",
              "      <th>targeted_structure</th>\n",
              "      <th>date_of_acquisition</th>\n",
              "      <th>session_type</th>\n",
              "      <th>file_id</th>\n",
              "      <th>behavior_condition</th>\n",
              "      <th>experimental_condition</th>\n",
              "    </tr>\n",
              "    <tr>\n",
              "      <th>ophys_experiment_id</th>\n",
              "      <th></th>\n",
              "      <th></th>\n",
              "      <th></th>\n",
              "      <th></th>\n",
              "      <th></th>\n",
              "      <th></th>\n",
              "      <th></th>\n",
              "      <th></th>\n",
              "      <th></th>\n",
              "      <th></th>\n",
              "      <th></th>\n",
              "      <th></th>\n",
              "      <th></th>\n",
              "      <th></th>\n",
              "      <th></th>\n",
              "      <th></th>\n",
              "      <th></th>\n",
              "      <th></th>\n",
              "      <th></th>\n",
              "      <th></th>\n",
              "      <th></th>\n",
              "      <th></th>\n",
              "      <th></th>\n",
              "      <th></th>\n",
              "    </tr>\n",
              "  </thead>\n",
              "  <tbody>\n",
              "    <tr>\n",
              "      <th>795953296</th>\n",
              "      <td>CAM2P.4</td>\n",
              "      <td>Vip-IRES-Cre/wt;Ai148(TIT2L-GC6f-ICL-tTA2)/wt</td>\n",
              "      <td>412036</td>\n",
              "      <td>Ai148(TIT2L-GC6f-ICL-tTA2)</td>\n",
              "      <td>[Vip-IRES-Cre]</td>\n",
              "      <td>F</td>\n",
              "      <td>152.0</td>\n",
              "      <td>Vip-IRES-Cre</td>\n",
              "      <td>GCaMP6f</td>\n",
              "      <td>4.0</td>\n",
              "      <td>0</td>\n",
              "      <td>0.0</td>\n",
              "      <td>4</td>\n",
              "      <td>795625712</td>\n",
              "      <td>795742990</td>\n",
              "      <td>791352433</td>\n",
              "      <td>VisualBehavior</td>\n",
              "      <td>175</td>\n",
              "      <td>VISp</td>\n",
              "      <td>2018-12-14 20:17:05.000000</td>\n",
              "      <td>OPHYS_4_images_B</td>\n",
              "      <td>859887431</td>\n",
              "      <td>active</td>\n",
              "      <td>novel</td>\n",
              "    </tr>\n",
              "    <tr>\n",
              "      <th>796308505</th>\n",
              "      <td>CAM2P.4</td>\n",
              "      <td>Vip-IRES-Cre/wt;Ai148(TIT2L-GC6f-ICL-tTA2)/wt</td>\n",
              "      <td>412036</td>\n",
              "      <td>Ai148(TIT2L-GC6f-ICL-tTA2)</td>\n",
              "      <td>[Vip-IRES-Cre]</td>\n",
              "      <td>F</td>\n",
              "      <td>154.0</td>\n",
              "      <td>Vip-IRES-Cre</td>\n",
              "      <td>GCaMP6f</td>\n",
              "      <td>6.0</td>\n",
              "      <td>0</td>\n",
              "      <td>2.0</td>\n",
              "      <td>6</td>\n",
              "      <td>796236521</td>\n",
              "      <td>796251270</td>\n",
              "      <td>791352433</td>\n",
              "      <td>VisualBehavior</td>\n",
              "      <td>175</td>\n",
              "      <td>VISp</td>\n",
              "      <td>2018-12-16 20:44:48.000000</td>\n",
              "      <td>OPHYS_6_images_B</td>\n",
              "      <td>859887448</td>\n",
              "      <td>active</td>\n",
              "      <td>novel</td>\n",
              "    </tr>\n",
              "  </tbody>\n",
              "</table>\n",
              "</div>"
            ],
            "text/plain": [
              "                    equipment_name  \\\n",
              "ophys_experiment_id                  \n",
              "795953296                  CAM2P.4   \n",
              "796308505                  CAM2P.4   \n",
              "\n",
              "                                                     full_genotype  mouse_id  \\\n",
              "ophys_experiment_id                                                            \n",
              "795953296            Vip-IRES-Cre/wt;Ai148(TIT2L-GC6f-ICL-tTA2)/wt    412036   \n",
              "796308505            Vip-IRES-Cre/wt;Ai148(TIT2L-GC6f-ICL-tTA2)/wt    412036   \n",
              "\n",
              "                                  reporter_line     driver_line sex  \\\n",
              "ophys_experiment_id                                                   \n",
              "795953296            Ai148(TIT2L-GC6f-ICL-tTA2)  [Vip-IRES-Cre]   F   \n",
              "796308505            Ai148(TIT2L-GC6f-ICL-tTA2)  [Vip-IRES-Cre]   F   \n",
              "\n",
              "                     age_in_days      cre_line indicator  session_number  \\\n",
              "ophys_experiment_id                                                        \n",
              "795953296                  152.0  Vip-IRES-Cre   GCaMP6f             4.0   \n",
              "796308505                  154.0  Vip-IRES-Cre   GCaMP6f             6.0   \n",
              "\n",
              "                     prior_exposures_to_session_type  \\\n",
              "ophys_experiment_id                                    \n",
              "795953296                                          0   \n",
              "796308505                                          0   \n",
              "\n",
              "                     prior_exposures_to_image_set  \\\n",
              "ophys_experiment_id                                 \n",
              "795953296                                     0.0   \n",
              "796308505                                     2.0   \n",
              "\n",
              "                     prior_exposures_to_omissions  ophys_session_id  \\\n",
              "ophys_experiment_id                                                   \n",
              "795953296                                       4         795625712   \n",
              "796308505                                       6         796236521   \n",
              "\n",
              "                     behavior_session_id  ophys_container_id    project_code  \\\n",
              "ophys_experiment_id                                                            \n",
              "795953296                      795742990           791352433  VisualBehavior   \n",
              "796308505                      796251270           791352433  VisualBehavior   \n",
              "\n",
              "                     imaging_depth targeted_structure  \\\n",
              "ophys_experiment_id                                     \n",
              "795953296                      175               VISp   \n",
              "796308505                      175               VISp   \n",
              "\n",
              "                            date_of_acquisition      session_type    file_id  \\\n",
              "ophys_experiment_id                                                            \n",
              "795953296            2018-12-14 20:17:05.000000  OPHYS_4_images_B  859887431   \n",
              "796308505            2018-12-16 20:44:48.000000  OPHYS_6_images_B  859887448   \n",
              "\n",
              "                    behavior_condition experimental_condition  \n",
              "ophys_experiment_id                                            \n",
              "795953296                       active                  novel  \n",
              "796308505                       active                  novel  "
            ]
          },
          "metadata": {
            "tags": []
          },
          "execution_count": 146
        }
      ]
    },
    {
      "cell_type": "markdown",
      "metadata": {
        "id": "KN-WDzUAnH2G"
      },
      "source": [
        "From this we will load two sessions, one for familiar and one for novel"
      ]
    },
    {
      "cell_type": "code",
      "metadata": {
        "id": "z6g-vVqBpRFZ"
      },
      "source": [
        "# Ophys experimental ID (choose the first experiment of familiar and novel conditions) for each cell type\n",
        "ophys_experiment_id_fam = exper_famil.index[0]\n",
        "ophys_experiment_id_nov = exper_novel.index[0]\n",
        "\n",
        "\n",
        "# Download particular ophys experiments\n",
        "fam_experiment = cache.get_behavior_ophys_experiment(ophys_experiment_id_fam)\n",
        "nov_experiment = cache.get_behavior_ophys_experiment(ophys_experiment_id_nov)"
      ],
      "execution_count": 147,
      "outputs": []
    },
    {
      "cell_type": "markdown",
      "metadata": {
        "id": "PfIPjN_8pZ_5"
      },
      "source": [
        "With this data now in hand we need to streucture it into a convenient format"
      ]
    },
    {
      "cell_type": "code",
      "metadata": {
        "id": "CPk-BDIHpYo_"
      },
      "source": [
        "metadata_keys = [\n",
        "    'ophys_experiment_id',\n",
        "    'ophys_session_id',\n",
        "    'targeted_structure',\n",
        "    'imaging_depth',\n",
        "    'equipment_name',\n",
        "    'cre_line',\n",
        "    'mouse_id',\n",
        "    'sex',\n",
        "]"
      ],
      "execution_count": 148,
      "outputs": []
    },
    {
      "cell_type": "code",
      "metadata": {
        "id": "DD4ywyWwpZn5",
        "colab": {
          "base_uri": "https://localhost:8080/",
          "height": 303
        },
        "outputId": "ef1db68e-e2a1-45e5-c538-327a70462cdb"
      },
      "source": [
        "fam_experiment_neural_data = ophys.build_tidy_cell_df(fam_experiment)\n",
        "nov_experiment_neural_data = ophys.build_tidy_cell_df(nov_experiment)\n",
        "\n",
        "for metadata_key in metadata_keys:\n",
        "  # VIP\n",
        "  fam_experiment_neural_data[metadata_key] = fam_experiment.metadata[metadata_key]\n",
        "  nov_experiment_neural_data[metadata_key] = nov_experiment.metadata[metadata_key]\n",
        "\n",
        "fam_experiment_neural_data.head()\n",
        "nov_experiment_neural_data.head()"
      ],
      "execution_count": 149,
      "outputs": [
        {
          "output_type": "execute_result",
          "data": {
            "text/html": [
              "<div>\n",
              "<style scoped>\n",
              "    .dataframe tbody tr th:only-of-type {\n",
              "        vertical-align: middle;\n",
              "    }\n",
              "\n",
              "    .dataframe tbody tr th {\n",
              "        vertical-align: top;\n",
              "    }\n",
              "\n",
              "    .dataframe thead th {\n",
              "        text-align: right;\n",
              "    }\n",
              "</style>\n",
              "<table border=\"1\" class=\"dataframe\">\n",
              "  <thead>\n",
              "    <tr style=\"text-align: right;\">\n",
              "      <th></th>\n",
              "      <th>timestamps</th>\n",
              "      <th>dff</th>\n",
              "      <th>events</th>\n",
              "      <th>filtered_events</th>\n",
              "      <th>cell_roi_id</th>\n",
              "      <th>cell_specimen_id</th>\n",
              "      <th>ophys_experiment_id</th>\n",
              "      <th>ophys_session_id</th>\n",
              "      <th>targeted_structure</th>\n",
              "      <th>imaging_depth</th>\n",
              "      <th>equipment_name</th>\n",
              "      <th>cre_line</th>\n",
              "      <th>mouse_id</th>\n",
              "      <th>sex</th>\n",
              "    </tr>\n",
              "  </thead>\n",
              "  <tbody>\n",
              "    <tr>\n",
              "      <th>0</th>\n",
              "      <td>3.17722</td>\n",
              "      <td>0.665995</td>\n",
              "      <td>0.0</td>\n",
              "      <td>0.0</td>\n",
              "      <td>1080895959</td>\n",
              "      <td>1086493416</td>\n",
              "      <td>795953296</td>\n",
              "      <td>795625712</td>\n",
              "      <td>VISp</td>\n",
              "      <td>175</td>\n",
              "      <td>CAM2P.4</td>\n",
              "      <td>Vip-IRES-Cre</td>\n",
              "      <td>412036</td>\n",
              "      <td>F</td>\n",
              "    </tr>\n",
              "    <tr>\n",
              "      <th>1</th>\n",
              "      <td>3.20953</td>\n",
              "      <td>0.319544</td>\n",
              "      <td>0.0</td>\n",
              "      <td>0.0</td>\n",
              "      <td>1080895959</td>\n",
              "      <td>1086493416</td>\n",
              "      <td>795953296</td>\n",
              "      <td>795625712</td>\n",
              "      <td>VISp</td>\n",
              "      <td>175</td>\n",
              "      <td>CAM2P.4</td>\n",
              "      <td>Vip-IRES-Cre</td>\n",
              "      <td>412036</td>\n",
              "      <td>F</td>\n",
              "    </tr>\n",
              "    <tr>\n",
              "      <th>2</th>\n",
              "      <td>3.24183</td>\n",
              "      <td>0.568772</td>\n",
              "      <td>0.0</td>\n",
              "      <td>0.0</td>\n",
              "      <td>1080895959</td>\n",
              "      <td>1086493416</td>\n",
              "      <td>795953296</td>\n",
              "      <td>795625712</td>\n",
              "      <td>VISp</td>\n",
              "      <td>175</td>\n",
              "      <td>CAM2P.4</td>\n",
              "      <td>Vip-IRES-Cre</td>\n",
              "      <td>412036</td>\n",
              "      <td>F</td>\n",
              "    </tr>\n",
              "    <tr>\n",
              "      <th>3</th>\n",
              "      <td>3.27414</td>\n",
              "      <td>0.414089</td>\n",
              "      <td>0.0</td>\n",
              "      <td>0.0</td>\n",
              "      <td>1080895959</td>\n",
              "      <td>1086493416</td>\n",
              "      <td>795953296</td>\n",
              "      <td>795625712</td>\n",
              "      <td>VISp</td>\n",
              "      <td>175</td>\n",
              "      <td>CAM2P.4</td>\n",
              "      <td>Vip-IRES-Cre</td>\n",
              "      <td>412036</td>\n",
              "      <td>F</td>\n",
              "    </tr>\n",
              "    <tr>\n",
              "      <th>4</th>\n",
              "      <td>3.30644</td>\n",
              "      <td>0.352505</td>\n",
              "      <td>0.0</td>\n",
              "      <td>0.0</td>\n",
              "      <td>1080895959</td>\n",
              "      <td>1086493416</td>\n",
              "      <td>795953296</td>\n",
              "      <td>795625712</td>\n",
              "      <td>VISp</td>\n",
              "      <td>175</td>\n",
              "      <td>CAM2P.4</td>\n",
              "      <td>Vip-IRES-Cre</td>\n",
              "      <td>412036</td>\n",
              "      <td>F</td>\n",
              "    </tr>\n",
              "  </tbody>\n",
              "</table>\n",
              "</div>"
            ],
            "text/plain": [
              "   timestamps       dff  events  filtered_events cell_roi_id cell_specimen_id  \\\n",
              "0     3.17722  0.665995     0.0              0.0  1080895959       1086493416   \n",
              "1     3.20953  0.319544     0.0              0.0  1080895959       1086493416   \n",
              "2     3.24183  0.568772     0.0              0.0  1080895959       1086493416   \n",
              "3     3.27414  0.414089     0.0              0.0  1080895959       1086493416   \n",
              "4     3.30644  0.352505     0.0              0.0  1080895959       1086493416   \n",
              "\n",
              "   ophys_experiment_id  ophys_session_id targeted_structure  imaging_depth  \\\n",
              "0            795953296         795625712               VISp            175   \n",
              "1            795953296         795625712               VISp            175   \n",
              "2            795953296         795625712               VISp            175   \n",
              "3            795953296         795625712               VISp            175   \n",
              "4            795953296         795625712               VISp            175   \n",
              "\n",
              "  equipment_name      cre_line  mouse_id sex  \n",
              "0        CAM2P.4  Vip-IRES-Cre    412036   F  \n",
              "1        CAM2P.4  Vip-IRES-Cre    412036   F  \n",
              "2        CAM2P.4  Vip-IRES-Cre    412036   F  \n",
              "3        CAM2P.4  Vip-IRES-Cre    412036   F  \n",
              "4        CAM2P.4  Vip-IRES-Cre    412036   F  "
            ]
          },
          "metadata": {
            "tags": []
          },
          "execution_count": 149
        }
      ]
    },
    {
      "cell_type": "markdown",
      "metadata": {
        "id": "Gv3yvJW3p21N"
      },
      "source": [
        "We now grab the cell IDs. We will only use one cell for the time being"
      ]
    },
    {
      "cell_type": "code",
      "metadata": {
        "id": "w0mRi6f6p7Pi",
        "colab": {
          "base_uri": "https://localhost:8080/"
        },
        "outputId": "c3f9728c-eba1-4926-d1ec-18de364f3cd2"
      },
      "source": [
        "cell_ids = fam_experiment_neural_data['cell_specimen_id'].unique()\n",
        "print('there are {} unique cells'.format(len(cell_ids)))\n",
        "print('cell ids are: {}'.format(cell_ids))\n",
        "\n",
        "# Choose only one neuron ID\n",
        "cell_id = cell_ids[0:5]\n"
      ],
      "execution_count": 166,
      "outputs": [
        {
          "output_type": "stream",
          "text": [
            "there are 27 unique cells\n",
            "cell ids are: [1086490397, 1086490441, 1086490480, 1086490510, 1086490597, ..., 1086491347, 1086491377, 1086491491, 1086491597, 1086491653]\n",
            "Length: 27\n",
            "Categories (27, int64): [1086490397, 1086490441, 1086490480, 1086490510, ..., 1086491377, 1086491491,\n",
            "                         1086491597, 1086491653]\n"
          ],
          "name": "stdout"
        }
      ]
    },
    {
      "cell_type": "code",
      "metadata": {
        "id": "gBXtm26Zp7fG",
        "colab": {
          "base_uri": "https://localhost:8080/",
          "height": 303
        },
        "outputId": "15cad469-e7b2-400b-f493-470cfa5a25da"
      },
      "source": [
        "# for example plots of full time series\n",
        "fam_single_cell_timeseries = fam_experiment_neural_data.query('cell_specimen_id == @cell_id[0]')\n",
        "nov_single_cell_timeseries = nov_experiment_neural_data.query('cell_specimen_id == @cell_id[0]')\n",
        "\n",
        "fam_single_cell_timeseries.head(5)\n",
        "# nov_single_cell_timeseries.head(5)"
      ],
      "execution_count": 167,
      "outputs": [
        {
          "output_type": "execute_result",
          "data": {
            "text/html": [
              "<div>\n",
              "<style scoped>\n",
              "    .dataframe tbody tr th:only-of-type {\n",
              "        vertical-align: middle;\n",
              "    }\n",
              "\n",
              "    .dataframe tbody tr th {\n",
              "        vertical-align: top;\n",
              "    }\n",
              "\n",
              "    .dataframe thead th {\n",
              "        text-align: right;\n",
              "    }\n",
              "</style>\n",
              "<table border=\"1\" class=\"dataframe\">\n",
              "  <thead>\n",
              "    <tr style=\"text-align: right;\">\n",
              "      <th></th>\n",
              "      <th>timestamps</th>\n",
              "      <th>dff</th>\n",
              "      <th>events</th>\n",
              "      <th>filtered_events</th>\n",
              "      <th>cell_roi_id</th>\n",
              "      <th>cell_specimen_id</th>\n",
              "      <th>ophys_experiment_id</th>\n",
              "      <th>ophys_session_id</th>\n",
              "      <th>targeted_structure</th>\n",
              "      <th>imaging_depth</th>\n",
              "      <th>equipment_name</th>\n",
              "      <th>cre_line</th>\n",
              "      <th>mouse_id</th>\n",
              "      <th>sex</th>\n",
              "    </tr>\n",
              "  </thead>\n",
              "  <tbody>\n",
              "    <tr>\n",
              "      <th>0</th>\n",
              "      <td>2.55274</td>\n",
              "      <td>0.215474</td>\n",
              "      <td>0.0</td>\n",
              "      <td>0.0</td>\n",
              "      <td>1080900658</td>\n",
              "      <td>1086490397</td>\n",
              "      <td>792815735</td>\n",
              "      <td>792619807</td>\n",
              "      <td>VISp</td>\n",
              "      <td>175</td>\n",
              "      <td>CAM2P.4</td>\n",
              "      <td>Vip-IRES-Cre</td>\n",
              "      <td>412036</td>\n",
              "      <td>F</td>\n",
              "    </tr>\n",
              "    <tr>\n",
              "      <th>1</th>\n",
              "      <td>2.58505</td>\n",
              "      <td>0.281105</td>\n",
              "      <td>0.0</td>\n",
              "      <td>0.0</td>\n",
              "      <td>1080900658</td>\n",
              "      <td>1086490397</td>\n",
              "      <td>792815735</td>\n",
              "      <td>792619807</td>\n",
              "      <td>VISp</td>\n",
              "      <td>175</td>\n",
              "      <td>CAM2P.4</td>\n",
              "      <td>Vip-IRES-Cre</td>\n",
              "      <td>412036</td>\n",
              "      <td>F</td>\n",
              "    </tr>\n",
              "    <tr>\n",
              "      <th>2</th>\n",
              "      <td>2.61736</td>\n",
              "      <td>0.277351</td>\n",
              "      <td>0.0</td>\n",
              "      <td>0.0</td>\n",
              "      <td>1080900658</td>\n",
              "      <td>1086490397</td>\n",
              "      <td>792815735</td>\n",
              "      <td>792619807</td>\n",
              "      <td>VISp</td>\n",
              "      <td>175</td>\n",
              "      <td>CAM2P.4</td>\n",
              "      <td>Vip-IRES-Cre</td>\n",
              "      <td>412036</td>\n",
              "      <td>F</td>\n",
              "    </tr>\n",
              "    <tr>\n",
              "      <th>3</th>\n",
              "      <td>2.64967</td>\n",
              "      <td>0.403304</td>\n",
              "      <td>0.0</td>\n",
              "      <td>0.0</td>\n",
              "      <td>1080900658</td>\n",
              "      <td>1086490397</td>\n",
              "      <td>792815735</td>\n",
              "      <td>792619807</td>\n",
              "      <td>VISp</td>\n",
              "      <td>175</td>\n",
              "      <td>CAM2P.4</td>\n",
              "      <td>Vip-IRES-Cre</td>\n",
              "      <td>412036</td>\n",
              "      <td>F</td>\n",
              "    </tr>\n",
              "    <tr>\n",
              "      <th>4</th>\n",
              "      <td>2.68198</td>\n",
              "      <td>0.342359</td>\n",
              "      <td>0.0</td>\n",
              "      <td>0.0</td>\n",
              "      <td>1080900658</td>\n",
              "      <td>1086490397</td>\n",
              "      <td>792815735</td>\n",
              "      <td>792619807</td>\n",
              "      <td>VISp</td>\n",
              "      <td>175</td>\n",
              "      <td>CAM2P.4</td>\n",
              "      <td>Vip-IRES-Cre</td>\n",
              "      <td>412036</td>\n",
              "      <td>F</td>\n",
              "    </tr>\n",
              "  </tbody>\n",
              "</table>\n",
              "</div>"
            ],
            "text/plain": [
              "   timestamps       dff  events  filtered_events cell_roi_id cell_specimen_id  \\\n",
              "0     2.55274  0.215474     0.0              0.0  1080900658       1086490397   \n",
              "1     2.58505  0.281105     0.0              0.0  1080900658       1086490397   \n",
              "2     2.61736  0.277351     0.0              0.0  1080900658       1086490397   \n",
              "3     2.64967  0.403304     0.0              0.0  1080900658       1086490397   \n",
              "4     2.68198  0.342359     0.0              0.0  1080900658       1086490397   \n",
              "\n",
              "   ophys_experiment_id  ophys_session_id targeted_structure  imaging_depth  \\\n",
              "0            792815735         792619807               VISp            175   \n",
              "1            792815735         792619807               VISp            175   \n",
              "2            792815735         792619807               VISp            175   \n",
              "3            792815735         792619807               VISp            175   \n",
              "4            792815735         792619807               VISp            175   \n",
              "\n",
              "  equipment_name      cre_line  mouse_id sex  \n",
              "0        CAM2P.4  Vip-IRES-Cre    412036   F  \n",
              "1        CAM2P.4  Vip-IRES-Cre    412036   F  \n",
              "2        CAM2P.4  Vip-IRES-Cre    412036   F  \n",
              "3        CAM2P.4  Vip-IRES-Cre    412036   F  \n",
              "4        CAM2P.4  Vip-IRES-Cre    412036   F  "
            ]
          },
          "metadata": {
            "tags": []
          },
          "execution_count": 167
        }
      ]
    },
    {
      "cell_type": "markdown",
      "metadata": {
        "id": "e_RcAuCiqmmh"
      },
      "source": [
        "Beautiful. Each neuron has three varieties of traces. \n",
        "\n",
        "`dff column` is the calcium fluorescence signal, normalized to background fluorescence.\n",
        "\n",
        "`events column` is deconvolved events from dff trace, which approximates neural firing rate and removes the slow decay of the Calcium signal (for more details, you can read EVENT DETECTION section in Visual Behavior whitepaper).\n",
        "\n",
        "`filtered_events` column is events smoothed with a half-gaussian kernel.\n",
        "\n",
        "We plot the deltaF/F time series for the full duration of the experiment below"
      ]
    },
    {
      "cell_type": "code",
      "metadata": {
        "id": "BHGANOPcrRVH",
        "colab": {
          "base_uri": "https://localhost:8080/",
          "height": 332
        },
        "outputId": "3151af3b-e9db-4453-9543-af479e019196"
      },
      "source": [
        "# VIP\n",
        "fig, ax = plt.subplots(figsize=(15,5))\n",
        "\n",
        "fam_single_cell_timeseries.plot(\n",
        "    x = 'timestamps',\n",
        "    y = ['dff'],\n",
        "    ax = ax,\n",
        "    color='blue',\n",
        "    alpha = 0.8\n",
        ")\n",
        "\n",
        "nov_single_cell_timeseries.plot(\n",
        "    x = 'timestamps',\n",
        "    y = ['dff'],\n",
        "    ax = ax,\n",
        "    color='green',\n",
        "    alpha = 0.5\n",
        ")\n",
        "\n",
        "ax.axes.axes.set_xlim(500,2000);\n"
      ],
      "execution_count": 168,
      "outputs": [
        {
          "output_type": "display_data",
          "data": {
            "image/png": "[encoded data removed]",
            "text/plain": [
              "<Figure size 1080x360 with 1 Axes>"
            ]
          },
          "metadata": {
            "tags": [],
            "needs_background": "light"
          }
        }
      ]
    },
    {
      "cell_type": "markdown",
      "metadata": {
        "id": "sBdTijQnrt5y"
      },
      "source": [
        "All we need now is to load the stimulus data into memory"
      ]
    },
    {
      "cell_type": "code",
      "metadata": {
        "id": "jWuseBAtryTC",
        "colab": {
          "base_uri": "https://localhost:8080/",
          "height": 403
        },
        "outputId": "52df7a7d-eb1d-4bff-b6b6-b8052664a719"
      },
      "source": [
        "fam_stimulus_table = fam_experiment.stimulus_presentations\n",
        "nov_stimulus_table = nov_experiment.stimulus_presentations\n",
        "\n",
        "fam_stimulus_table.head(10)\n",
        "# nov_stimulus_table.head(10)"
      ],
      "execution_count": 169,
      "outputs": [
        {
          "output_type": "execute_result",
          "data": {
            "text/html": [
              "<div>\n",
              "<style scoped>\n",
              "    .dataframe tbody tr th:only-of-type {\n",
              "        vertical-align: middle;\n",
              "    }\n",
              "\n",
              "    .dataframe tbody tr th {\n",
              "        vertical-align: top;\n",
              "    }\n",
              "\n",
              "    .dataframe thead th {\n",
              "        text-align: right;\n",
              "    }\n",
              "</style>\n",
              "<table border=\"1\" class=\"dataframe\">\n",
              "  <thead>\n",
              "    <tr style=\"text-align: right;\">\n",
              "      <th></th>\n",
              "      <th>duration</th>\n",
              "      <th>end_frame</th>\n",
              "      <th>image_index</th>\n",
              "      <th>image_name</th>\n",
              "      <th>image_set</th>\n",
              "      <th>index</th>\n",
              "      <th>omitted</th>\n",
              "      <th>start_frame</th>\n",
              "      <th>start_time</th>\n",
              "      <th>stop_time</th>\n",
              "      <th>is_change</th>\n",
              "    </tr>\n",
              "    <tr>\n",
              "      <th>stimulus_presentations_id</th>\n",
              "      <th></th>\n",
              "      <th></th>\n",
              "      <th></th>\n",
              "      <th></th>\n",
              "      <th></th>\n",
              "      <th></th>\n",
              "      <th></th>\n",
              "      <th></th>\n",
              "      <th></th>\n",
              "      <th></th>\n",
              "      <th></th>\n",
              "    </tr>\n",
              "  </thead>\n",
              "  <tbody>\n",
              "    <tr>\n",
              "      <th>0</th>\n",
              "      <td>0.25024</td>\n",
              "      <td>18000.0</td>\n",
              "      <td>0</td>\n",
              "      <td>im065</td>\n",
              "      <td>Natural_Images_Lum_Matched_set_training_2017.0...</td>\n",
              "      <td>0</td>\n",
              "      <td>False</td>\n",
              "      <td>17985</td>\n",
              "      <td>306.84438</td>\n",
              "      <td>307.09462</td>\n",
              "      <td>False</td>\n",
              "    </tr>\n",
              "    <tr>\n",
              "      <th>1</th>\n",
              "      <td>0.25021</td>\n",
              "      <td>18045.0</td>\n",
              "      <td>0</td>\n",
              "      <td>im065</td>\n",
              "      <td>Natural_Images_Lum_Matched_set_training_2017.0...</td>\n",
              "      <td>1</td>\n",
              "      <td>False</td>\n",
              "      <td>18030</td>\n",
              "      <td>307.59503</td>\n",
              "      <td>307.84524</td>\n",
              "      <td>False</td>\n",
              "    </tr>\n",
              "    <tr>\n",
              "      <th>2</th>\n",
              "      <td>0.25023</td>\n",
              "      <td>18090.0</td>\n",
              "      <td>0</td>\n",
              "      <td>im065</td>\n",
              "      <td>Natural_Images_Lum_Matched_set_training_2017.0...</td>\n",
              "      <td>2</td>\n",
              "      <td>False</td>\n",
              "      <td>18075</td>\n",
              "      <td>308.34564</td>\n",
              "      <td>308.59587</td>\n",
              "      <td>False</td>\n",
              "    </tr>\n",
              "    <tr>\n",
              "      <th>3</th>\n",
              "      <td>0.25028</td>\n",
              "      <td>18135.0</td>\n",
              "      <td>0</td>\n",
              "      <td>im065</td>\n",
              "      <td>Natural_Images_Lum_Matched_set_training_2017.0...</td>\n",
              "      <td>3</td>\n",
              "      <td>False</td>\n",
              "      <td>18120</td>\n",
              "      <td>309.09622</td>\n",
              "      <td>309.34650</td>\n",
              "      <td>False</td>\n",
              "    </tr>\n",
              "    <tr>\n",
              "      <th>4</th>\n",
              "      <td>0.25018</td>\n",
              "      <td>18180.0</td>\n",
              "      <td>0</td>\n",
              "      <td>im065</td>\n",
              "      <td>Natural_Images_Lum_Matched_set_training_2017.0...</td>\n",
              "      <td>4</td>\n",
              "      <td>False</td>\n",
              "      <td>18165</td>\n",
              "      <td>309.84689</td>\n",
              "      <td>310.09707</td>\n",
              "      <td>False</td>\n",
              "    </tr>\n",
              "    <tr>\n",
              "      <th>5</th>\n",
              "      <td>0.25018</td>\n",
              "      <td>18225.0</td>\n",
              "      <td>6</td>\n",
              "      <td>im085</td>\n",
              "      <td>Natural_Images_Lum_Matched_set_training_2017.0...</td>\n",
              "      <td>5</td>\n",
              "      <td>False</td>\n",
              "      <td>18210</td>\n",
              "      <td>310.59751</td>\n",
              "      <td>310.84769</td>\n",
              "      <td>True</td>\n",
              "    </tr>\n",
              "    <tr>\n",
              "      <th>6</th>\n",
              "      <td>0.25026</td>\n",
              "      <td>18270.0</td>\n",
              "      <td>6</td>\n",
              "      <td>im085</td>\n",
              "      <td>Natural_Images_Lum_Matched_set_training_2017.0...</td>\n",
              "      <td>6</td>\n",
              "      <td>False</td>\n",
              "      <td>18255</td>\n",
              "      <td>311.34811</td>\n",
              "      <td>311.59837</td>\n",
              "      <td>False</td>\n",
              "    </tr>\n",
              "    <tr>\n",
              "      <th>7</th>\n",
              "      <td>0.25021</td>\n",
              "      <td>18315.0</td>\n",
              "      <td>6</td>\n",
              "      <td>im085</td>\n",
              "      <td>Natural_Images_Lum_Matched_set_training_2017.0...</td>\n",
              "      <td>7</td>\n",
              "      <td>False</td>\n",
              "      <td>18300</td>\n",
              "      <td>312.09867</td>\n",
              "      <td>312.34888</td>\n",
              "      <td>False</td>\n",
              "    </tr>\n",
              "    <tr>\n",
              "      <th>8</th>\n",
              "      <td>0.25023</td>\n",
              "      <td>18360.0</td>\n",
              "      <td>6</td>\n",
              "      <td>im085</td>\n",
              "      <td>Natural_Images_Lum_Matched_set_training_2017.0...</td>\n",
              "      <td>8</td>\n",
              "      <td>False</td>\n",
              "      <td>18345</td>\n",
              "      <td>312.84932</td>\n",
              "      <td>313.09955</td>\n",
              "      <td>False</td>\n",
              "    </tr>\n",
              "    <tr>\n",
              "      <th>9</th>\n",
              "      <td>0.25023</td>\n",
              "      <td>18405.0</td>\n",
              "      <td>6</td>\n",
              "      <td>im085</td>\n",
              "      <td>Natural_Images_Lum_Matched_set_training_2017.0...</td>\n",
              "      <td>9</td>\n",
              "      <td>False</td>\n",
              "      <td>18390</td>\n",
              "      <td>313.59993</td>\n",
              "      <td>313.85016</td>\n",
              "      <td>False</td>\n",
              "    </tr>\n",
              "  </tbody>\n",
              "</table>\n",
              "</div>"
            ],
            "text/plain": [
              "                           duration  end_frame  image_index image_name  \\\n",
              "stimulus_presentations_id                                                \n",
              "0                           0.25024    18000.0            0      im065   \n",
              "1                           0.25021    18045.0            0      im065   \n",
              "2                           0.25023    18090.0            0      im065   \n",
              "3                           0.25028    18135.0            0      im065   \n",
              "4                           0.25018    18180.0            0      im065   \n",
              "5                           0.25018    18225.0            6      im085   \n",
              "6                           0.25026    18270.0            6      im085   \n",
              "7                           0.25021    18315.0            6      im085   \n",
              "8                           0.25023    18360.0            6      im085   \n",
              "9                           0.25023    18405.0            6      im085   \n",
              "\n",
              "                                                                   image_set  \\\n",
              "stimulus_presentations_id                                                      \n",
              "0                          Natural_Images_Lum_Matched_set_training_2017.0...   \n",
              "1                          Natural_Images_Lum_Matched_set_training_2017.0...   \n",
              "2                          Natural_Images_Lum_Matched_set_training_2017.0...   \n",
              "3                          Natural_Images_Lum_Matched_set_training_2017.0...   \n",
              "4                          Natural_Images_Lum_Matched_set_training_2017.0...   \n",
              "5                          Natural_Images_Lum_Matched_set_training_2017.0...   \n",
              "6                          Natural_Images_Lum_Matched_set_training_2017.0...   \n",
              "7                          Natural_Images_Lum_Matched_set_training_2017.0...   \n",
              "8                          Natural_Images_Lum_Matched_set_training_2017.0...   \n",
              "9                          Natural_Images_Lum_Matched_set_training_2017.0...   \n",
              "\n",
              "                           index  omitted  start_frame  start_time  stop_time  \\\n",
              "stimulus_presentations_id                                                       \n",
              "0                              0    False        17985   306.84438  307.09462   \n",
              "1                              1    False        18030   307.59503  307.84524   \n",
              "2                              2    False        18075   308.34564  308.59587   \n",
              "3                              3    False        18120   309.09622  309.34650   \n",
              "4                              4    False        18165   309.84689  310.09707   \n",
              "5                              5    False        18210   310.59751  310.84769   \n",
              "6                              6    False        18255   311.34811  311.59837   \n",
              "7                              7    False        18300   312.09867  312.34888   \n",
              "8                              8    False        18345   312.84932  313.09955   \n",
              "9                              9    False        18390   313.59993  313.85016   \n",
              "\n",
              "                           is_change  \n",
              "stimulus_presentations_id             \n",
              "0                              False  \n",
              "1                              False  \n",
              "2                              False  \n",
              "3                              False  \n",
              "4                              False  \n",
              "5                               True  \n",
              "6                              False  \n",
              "7                              False  \n",
              "8                              False  \n",
              "9                              False  "
            ]
          },
          "metadata": {
            "tags": []
          },
          "execution_count": 169
        }
      ]
    },
    {
      "cell_type": "markdown",
      "metadata": {
        "id": "qsSVvJ1Jr4KY"
      },
      "source": [
        "With the stimulus information and the neural data now both in memory we can create an event triggered response using the `mindscope_utilities` function."
      ]
    },
    {
      "cell_type": "code",
      "metadata": {
        "id": "9FyNCo9SsUvx"
      },
      "source": [
        "EventTimeSeries_fam = np.zeros([117130, 5])\n",
        "for i,cell_index in enumerate(cell_id):\n",
        "  etr_fam = mindscope_utilities.event_triggered_response(\n",
        "      data = fam_experiment_neural_data.query('cell_specimen_id == @cell_index'),\n",
        "      t = 'timestamps',\n",
        "      y = 'dff',\n",
        "      event_times = fam_stimulus_table.query('is_change == False and omitted == False')['start_time'],\n",
        "      t_before=0,\n",
        "      t_after=.5,\n",
        "      output_sampling_rate = 50,\n",
        "  )\n",
        "  EventTimeSeries_fam[:,i] = etr_fam.dff;\n"
      ],
      "execution_count": 188,
      "outputs": []
    },
    {
      "cell_type": "code",
      "metadata": {
        "id": "ZhnDNA5s1stb"
      },
      "source": [
        "EventTimeSeries_nov = np.zeros([114894,4,5]) # time, \n",
        "for i,cell_index in enumerate(cell_id):\n",
        "  etr_nov = mindscope_utilities.event_triggered_response(\n",
        "      data = nov_experiment_neural_data.query('cell_specimen_id == @cell_index'),\n",
        "      t = 'timestamps',\n",
        "      y = 'dff',\n",
        "      event_times = nov_stimulus_table.query('is_change == False and omitted == False')['start_time'],\n",
        "      t_before=0,\n",
        "      t_after=.5,\n",
        "      output_sampling_rate = 50,\n",
        "  )\n",
        "  EventTimeSeries_nov[:,:,i] = etr_nov;\n",
        "\n",
        "\n"
      ],
      "execution_count": 217,
      "outputs": []
    },
    {
      "cell_type": "code",
      "metadata": {
        "id": "5_pjdEbwMde5",
        "outputId": "d6fcd343-ae15-45b2-d01f-bfdcbd6ae3b6",
        "colab": {
          "base_uri": "https://localhost:8080/",
          "height": 217
        }
      },
      "source": [
        "print(np.shape(EventTimeSeries_nov))\n",
        "\n",
        "etr_nov.head()"
      ],
      "execution_count": 216,
      "outputs": [
        {
          "output_type": "stream",
          "text": [
            "(114894, 4, 5)\n"
          ],
          "name": "stdout"
        },
        {
          "output_type": "execute_result",
          "data": {
            "text/html": [
              "<div>\n",
              "<style scoped>\n",
              "    .dataframe tbody tr th:only-of-type {\n",
              "        vertical-align: middle;\n",
              "    }\n",
              "\n",
              "    .dataframe tbody tr th {\n",
              "        vertical-align: top;\n",
              "    }\n",
              "\n",
              "    .dataframe thead th {\n",
              "        text-align: right;\n",
              "    }\n",
              "</style>\n",
              "<table border=\"1\" class=\"dataframe\">\n",
              "  <thead>\n",
              "    <tr style=\"text-align: right;\">\n",
              "      <th></th>\n",
              "      <th>time</th>\n",
              "      <th>dff</th>\n",
              "      <th>event_number</th>\n",
              "      <th>event_time</th>\n",
              "    </tr>\n",
              "  </thead>\n",
              "  <tbody>\n",
              "    <tr>\n",
              "      <th>0</th>\n",
              "      <td>0.00</td>\n",
              "      <td>-0.020619</td>\n",
              "      <td>0</td>\n",
              "      <td>306.90981</td>\n",
              "    </tr>\n",
              "    <tr>\n",
              "      <th>1</th>\n",
              "      <td>0.02</td>\n",
              "      <td>0.002829</td>\n",
              "      <td>0</td>\n",
              "      <td>306.90981</td>\n",
              "    </tr>\n",
              "    <tr>\n",
              "      <th>2</th>\n",
              "      <td>0.04</td>\n",
              "      <td>0.084104</td>\n",
              "      <td>0</td>\n",
              "      <td>306.90981</td>\n",
              "    </tr>\n",
              "    <tr>\n",
              "      <th>3</th>\n",
              "      <td>0.06</td>\n",
              "      <td>0.095482</td>\n",
              "      <td>0</td>\n",
              "      <td>306.90981</td>\n",
              "    </tr>\n",
              "    <tr>\n",
              "      <th>4</th>\n",
              "      <td>0.08</td>\n",
              "      <td>0.069763</td>\n",
              "      <td>0</td>\n",
              "      <td>306.90981</td>\n",
              "    </tr>\n",
              "  </tbody>\n",
              "</table>\n",
              "</div>"
            ],
            "text/plain": [
              "   time       dff  event_number  event_time\n",
              "0  0.00 -0.020619             0   306.90981\n",
              "1  0.02  0.002829             0   306.90981\n",
              "2  0.04  0.084104             0   306.90981\n",
              "3  0.06  0.095482             0   306.90981\n",
              "4  0.08  0.069763             0   306.90981"
            ]
          },
          "metadata": {
            "tags": []
          },
          "execution_count": 216
        }
      ]
    },
    {
      "cell_type": "markdown",
      "metadata": {
        "id": "ngaeeQ64sYO8"
      },
      "source": [
        "ALRIGHT! Lets make some plots."
      ]
    },
    {
      "cell_type": "code",
      "metadata": {
        "id": "3exi42GkscRZ",
        "colab": {
          "base_uri": "https://localhost:8080/",
          "height": 294
        },
        "outputId": "d542154f-c9cf-4755-dc51-24e560866c25"
      },
      "source": [
        "sns.lineplot(\n",
        "    data=etr_fam,\n",
        "    x='time',\n",
        "    y='dff',\n",
        "    n_boot=200,\n",
        "    color='blue',\n",
        "    label='familiar'\n",
        ")\n",
        "sns.lineplot(\n",
        "    data=etr_nov,\n",
        "    x='time',\n",
        "    y='dff',\n",
        "    n_boot=200,\n",
        "    color='green',\n",
        "    label='novel'\n",
        ")"
      ],
      "execution_count": 197,
      "outputs": [
        {
          "output_type": "execute_result",
          "data": {
            "text/plain": [
              "<matplotlib.axes._subplots.AxesSubplot at 0x7fdd85ab2810>"
            ]
          },
          "metadata": {
            "tags": []
          },
          "execution_count": 197
        },
        {
          "output_type": "display_data",
          "data": {
            "image/png": "[encoded data removed]",
            "text/plain": [
              "<Figure size 432x288 with 1 Axes>"
            ]
          },
          "metadata": {
            "tags": [],
            "needs_background": "light"
          }
        }
      ]
    },
    {
      "cell_type": "markdown",
      "metadata": {
        "id": "FHeVvf4ng2yA"
      },
      "source": [
        "Make histogram"
      ]
    },
    {
      "cell_type": "code",
      "metadata": {
        "colab": {
          "base_uri": "https://localhost:8080/",
          "height": 378
        },
        "id": "mTKN2vHwg1m_",
        "outputId": "1c17cc48-2d2f-45a5-f58b-f5be5675794a"
      },
      "source": [
        "plt.hist(etr_nov.dff, density = True)\n",
        "plt.hist(etr_fam.dff, density = True)"
      ],
      "execution_count": 193,
      "outputs": [
        {
          "output_type": "execute_result",
          "data": {
            "text/plain": [
              "(array([8.27285527e-03, 7.07490285e-01, 6.61774702e+00, 4.62603025e+00,\n",
              "        5.62016960e-01, 5.18933649e-02, 6.98357913e-03, 3.33063004e-03,\n",
              "        3.22319037e-04, 3.22319037e-04]),\n",
              " array([-0.22725109, -0.14778769, -0.06832429,  0.01113912,  0.09060252,\n",
              "         0.17006592,  0.24952932,  0.32899273,  0.40845613,  0.48791953,\n",
              "         0.56738293]),\n",
              " <a list of 10 Patch objects>)"
            ]
          },
          "metadata": {
            "tags": []
          },
          "execution_count": 193
        },
        {
          "output_type": "display_data",
          "data": {
            "image/png": "[encoded data removed]",
            "text/plain": [
              "<Figure size 432x288 with 1 Axes>"
            ]
          },
          "metadata": {
            "tags": [],
            "needs_background": "light"
          }
        }
      ]
    },
    {
      "cell_type": "markdown",
      "metadata": {
        "id": "3-0PLH8bGyA3"
      },
      "source": [
        "**Save outputs**"
      ]
    },
    {
      "cell_type": "code",
      "metadata": {
        "id": "TMQjO6CsI27F"
      },
      "source": [
        "# if celltype == 'VIP':\n",
        "#   0\n",
        "\n",
        "# elif celltype == 'SST':\n",
        "#   0\n",
        "\n",
        "# elif celltype == 'Exp':\n",
        "\n",
        "\n",
        "np.savetxt('trytry.csv',EventTimeSeries_fam)\n",
        "\n",
        "\n",
        "\n"
      ],
      "execution_count": 194,
      "outputs": []
    }
  ]
}