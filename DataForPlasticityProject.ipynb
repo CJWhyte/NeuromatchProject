{
  "nbformat": 4,
  "nbformat_minor": 0,
  "metadata": {
    "colab": {
      "name": "DataForPlasticityProject.ipynb",
      "provenance": [],
      "collapsed_sections": [],
      "authorship_tag": "ABX9TyPG9BWi09U84RuHbSYSEGvW",
      "include_colab_link": true
    },
    "kernelspec": {
      "name": "python3",
      "display_name": "Python 3"
    },
    "language_info": {
      "name": "python"
    }
  },
  "cells": [
    {
      "cell_type": "markdown",
      "metadata": {
        "id": "view-in-github",
        "colab_type": "text"
      },
      "source": [
        "<a href=\"https://colab.research.google.com/github/CJWhyte/NeuromatchProject/blob/main/DataForPlasticityProject.ipynb\" target=\"_parent\"><img src=\"https://colab.research.google.com/assets/colab-badge.svg\" alt=\"Open In Colab\"/></a>"
      ]
    },
    {
      "cell_type": "markdown",
      "metadata": {
        "id": "qMV0vNZZobsX"
      },
      "source": [
        "This script extracts the following data from the Allen Brain Institute dataset: \n",
        "\n",
        "*   Inhibitory (SST and VIP) and excitatory cells\n",
        "*   Passive viewing of familair and novel stim\n",
        "*   0-600ms\n",
        "*   Single scope recording\n",
        "\n",
        "Note. During the 2-photon imaging portion of the experiment, mice perform the task with the same set of images they saw during training (either image set A or B), as well as an additional novel set of images (whichever of A or B that they did not see during training). This allows evaluation of the impact of different sensory contexts on neural activity - familiarity versus novelty. Sessions with familiar images include those starting with OPHYS_0, OPHYS_1, OPHYS_2, and OPHYS_3. Sessions with novel images include those starting with OPHYS_4, OPHYS_5, and OPHYS_6. To recap:\n",
        "\n",
        "**Familiar**\n",
        "*   OPHYS_0, OPHYS_1, OPHYS_2, and OPHYS_3\n",
        "\n",
        "**Novel**\n",
        "*   OPHYS_4, OPHYS_5, and OPHYS_6.\n",
        "\n",
        "\n",
        "Interleaved between active behavior sessions are passive viewing sessions where mice are given their daily water ahead of the sesssion (and are thus satiated) and view the stimulus with the lick spout retracted so they are unable to earn water rewards. This allows comparison of neural activity in response to stimuli under different behavioral context - active task engagement and passive viewing without reward. Passive sessions include OPHYS_2_images_A_passive (passive session with familiar images), and OPHYS_5_images_A_passive (passive session with novel images). To recap:\n",
        "\n",
        "**Passive: Familiar**\n",
        "*   OPHYS_2_images_A_passive\n",
        "\n",
        "**Passive: Novel**\n",
        "*   OPHYS_5_images_A_passive\n",
        "\n",
        "**These are the two sessions that we need!**"
      ]
    },
    {
      "cell_type": "markdown",
      "metadata": {
        "id": "zzVEoVuKGXvY"
      },
      "source": [
        "Load necessary packages. Make sure to click restart runtime to get package to work"
      ]
    },
    {
      "cell_type": "code",
      "metadata": {
        "id": "wKFxgoFgQgaX",
        "colab": {
          "base_uri": "https://localhost:8080/"
        },
        "outputId": "87656785-498f-4e7c-d015-324496ef60c4"
      },
      "source": [
        "!python -m pip install --upgrade pip\n",
        "!pip install mindscope_utilities --upgrade"
      ],
      "execution_count": 1,
      "outputs": [
        {
          "output_type": "stream",
          "text": [
            "Requirement already satisfied: pip in /usr/local/lib/python3.7/dist-packages (21.1.3)\n",
            "\u001b[33mWARNING: Running pip as the 'root' user can result in broken permissions and conflicting behaviour with the system package manager. It is recommended to use a virtual environment instead: https://pip.pypa.io/warnings/venv\u001b[0m\n",
            "Requirement already satisfied: mindscope_utilities in /usr/local/lib/python3.7/dist-packages (0.1.7)\n",
            "Requirement already satisfied: flake8 in /usr/local/lib/python3.7/dist-packages (from mindscope_utilities) (3.9.2)\n",
            "Requirement already satisfied: allensdk==2.11.2 in /usr/local/lib/python3.7/dist-packages (from mindscope_utilities) (2.11.2)\n",
            "Requirement already satisfied: pytest in /usr/local/lib/python3.7/dist-packages (from mindscope_utilities) (3.6.4)\n",
            "Requirement already satisfied: marshmallow==3.0.0rc6 in /usr/local/lib/python3.7/dist-packages (from allensdk==2.11.2->mindscope_utilities) (3.0.0rc6)\n",
            "Requirement already satisfied: six<2.0.0,>=1.9.0 in /usr/local/lib/python3.7/dist-packages (from allensdk==2.11.2->mindscope_utilities) (1.15.0)\n",
            "Requirement already satisfied: matplotlib<4.0.0,>=1.4.3 in /usr/local/lib/python3.7/dist-packages (from allensdk==2.11.2->mindscope_utilities) (3.2.2)\n",
            "Requirement already satisfied: scikit-image<0.17.0,>=0.14.0 in /usr/local/lib/python3.7/dist-packages (from allensdk==2.11.2->mindscope_utilities) (0.16.2)\n",
            "Requirement already satisfied: statsmodels<=0.13.0 in /usr/local/lib/python3.7/dist-packages (from allensdk==2.11.2->mindscope_utilities) (0.10.2)\n",
            "Requirement already satisfied: glymur==0.8.19 in /usr/local/lib/python3.7/dist-packages (from allensdk==2.11.2->mindscope_utilities) (0.8.19)\n",
            "Requirement already satisfied: scikit-build<1.0.0 in /usr/local/lib/python3.7/dist-packages (from allensdk==2.11.2->mindscope_utilities) (0.11.1)\n",
            "Requirement already satisfied: jinja2<2.12.0,>=2.7.3 in /usr/local/lib/python3.7/dist-packages (from allensdk==2.11.2->mindscope_utilities) (2.11.3)\n",
            "Requirement already satisfied: ndx-events<=0.2.0 in /usr/local/lib/python3.7/dist-packages (from allensdk==2.11.2->mindscope_utilities) (0.2.0)\n",
            "Requirement already satisfied: boto3==1.17.21 in /usr/local/lib/python3.7/dist-packages (from allensdk==2.11.2->mindscope_utilities) (1.17.21)\n",
            "Requirement already satisfied: h5py<3.0.0,>=2.8 in /usr/local/lib/python3.7/dist-packages (from allensdk==2.11.2->mindscope_utilities) (2.10.0)\n",
            "Requirement already satisfied: pynrrd<1.0.0,>=0.2.1 in /usr/local/lib/python3.7/dist-packages (from allensdk==2.11.2->mindscope_utilities) (0.4.2)\n",
            "Requirement already satisfied: xarray<0.16.0 in /usr/local/lib/python3.7/dist-packages (from allensdk==2.11.2->mindscope_utilities) (0.15.1)\n",
            "Requirement already satisfied: pynwb<2.0.0,>=1.3.2 in /usr/local/lib/python3.7/dist-packages (from allensdk==2.11.2->mindscope_utilities) (1.4.0)\n",
            "Requirement already satisfied: future<1.0.0,>=0.14.3 in /usr/local/lib/python3.7/dist-packages (from allensdk==2.11.2->mindscope_utilities) (0.16.0)\n",
            "Requirement already satisfied: requests<3.0.0 in /usr/local/lib/python3.7/dist-packages (from allensdk==2.11.2->mindscope_utilities) (2.23.0)\n",
            "Requirement already satisfied: nest-asyncio==1.2.0 in /usr/local/lib/python3.7/dist-packages (from allensdk==2.11.2->mindscope_utilities) (1.2.0)\n",
            "Requirement already satisfied: pandas<=0.25.3,>=0.25.1 in /usr/local/lib/python3.7/dist-packages (from allensdk==2.11.2->mindscope_utilities) (0.25.3)\n",
            "Requirement already satisfied: argschema<3.0.0 in /usr/local/lib/python3.7/dist-packages (from allensdk==2.11.2->mindscope_utilities) (2.0.2)\n",
            "Requirement already satisfied: simpleitk<3.0.0,>=2.0.2 in /usr/local/lib/python3.7/dist-packages (from allensdk==2.11.2->mindscope_utilities) (2.0.2)\n",
            "Requirement already satisfied: semver in /usr/local/lib/python3.7/dist-packages (from allensdk==2.11.2->mindscope_utilities) (2.13.0)\n",
            "Requirement already satisfied: hdmf<2.5.0 in /usr/local/lib/python3.7/dist-packages (from allensdk==2.11.2->mindscope_utilities) (2.4.0)\n",
            "Requirement already satisfied: seaborn<1.0.0 in /usr/local/lib/python3.7/dist-packages (from allensdk==2.11.2->mindscope_utilities) (0.11.1)\n",
            "Requirement already satisfied: simplejson<4.0.0,>=3.10.0 in /usr/local/lib/python3.7/dist-packages (from allensdk==2.11.2->mindscope_utilities) (3.17.3)\n",
            "Requirement already satisfied: scipy<2.0.0,>=1.4.0 in /usr/local/lib/python3.7/dist-packages (from allensdk==2.11.2->mindscope_utilities) (1.4.1)\n",
            "Requirement already satisfied: numpy<1.19.0,>=1.15.4 in /usr/local/lib/python3.7/dist-packages (from allensdk==2.11.2->mindscope_utilities) (1.18.5)\n",
            "Requirement already satisfied: psycopg2-binary<3.0.0,>=2.7 in /usr/local/lib/python3.7/dist-packages (from allensdk==2.11.2->mindscope_utilities) (2.9.1)\n",
            "Requirement already satisfied: requests-toolbelt<1.0.0 in /usr/local/lib/python3.7/dist-packages (from allensdk==2.11.2->mindscope_utilities) (0.9.1)\n",
            "Requirement already satisfied: tables<4.0.0,>=3.6.0 in /usr/local/lib/python3.7/dist-packages (from allensdk==2.11.2->mindscope_utilities) (3.6.1)\n",
            "Requirement already satisfied: tqdm>=4.27 in /usr/local/lib/python3.7/dist-packages (from allensdk==2.11.2->mindscope_utilities) (4.41.1)\n",
            "Requirement already satisfied: aiohttp==3.7.4 in /usr/local/lib/python3.7/dist-packages (from allensdk==2.11.2->mindscope_utilities) (3.7.4)\n",
            "Requirement already satisfied: async-timeout<4.0,>=3.0 in /usr/local/lib/python3.7/dist-packages (from aiohttp==3.7.4->allensdk==2.11.2->mindscope_utilities) (3.0.1)\n",
            "Requirement already satisfied: attrs>=17.3.0 in /usr/local/lib/python3.7/dist-packages (from aiohttp==3.7.4->allensdk==2.11.2->mindscope_utilities) (21.2.0)\n",
            "Requirement already satisfied: typing-extensions>=3.6.5 in /usr/local/lib/python3.7/dist-packages (from aiohttp==3.7.4->allensdk==2.11.2->mindscope_utilities) (3.7.4.3)\n",
            "Requirement already satisfied: chardet<4.0,>=2.0 in /usr/local/lib/python3.7/dist-packages (from aiohttp==3.7.4->allensdk==2.11.2->mindscope_utilities) (3.0.4)\n",
            "Requirement already satisfied: yarl<2.0,>=1.0 in /usr/local/lib/python3.7/dist-packages (from aiohttp==3.7.4->allensdk==2.11.2->mindscope_utilities) (1.6.3)\n",
            "Requirement already satisfied: multidict<7.0,>=4.5 in /usr/local/lib/python3.7/dist-packages (from aiohttp==3.7.4->allensdk==2.11.2->mindscope_utilities) (5.1.0)\n",
            "Requirement already satisfied: jmespath<1.0.0,>=0.7.1 in /usr/local/lib/python3.7/dist-packages (from boto3==1.17.21->allensdk==2.11.2->mindscope_utilities) (0.10.0)\n",
            "Requirement already satisfied: s3transfer<0.4.0,>=0.3.0 in /usr/local/lib/python3.7/dist-packages (from boto3==1.17.21->allensdk==2.11.2->mindscope_utilities) (0.3.7)\n",
            "Requirement already satisfied: botocore<1.21.0,>=1.20.21 in /usr/local/lib/python3.7/dist-packages (from boto3==1.17.21->allensdk==2.11.2->mindscope_utilities) (1.20.112)\n",
            "Requirement already satisfied: setuptools in /usr/local/lib/python3.7/dist-packages (from glymur==0.8.19->allensdk==2.11.2->mindscope_utilities) (57.0.0)\n",
            "Requirement already satisfied: urllib3<1.27,>=1.25.4 in /usr/local/lib/python3.7/dist-packages (from botocore<1.21.0,>=1.20.21->boto3==1.17.21->allensdk==2.11.2->mindscope_utilities) (1.25.11)\n",
            "Requirement already satisfied: python-dateutil<3.0.0,>=2.1 in /usr/local/lib/python3.7/dist-packages (from botocore<1.21.0,>=1.20.21->boto3==1.17.21->allensdk==2.11.2->mindscope_utilities) (2.8.1)\n",
            "Requirement already satisfied: ruamel.yaml<1,>=0.15 in /usr/local/lib/python3.7/dist-packages (from hdmf<2.5.0->allensdk==2.11.2->mindscope_utilities) (0.17.10)\n",
            "Requirement already satisfied: jsonschema<4,>=2.6.0 in /usr/local/lib/python3.7/dist-packages (from hdmf<2.5.0->allensdk==2.11.2->mindscope_utilities) (2.6.0)\n",
            "Requirement already satisfied: MarkupSafe>=0.23 in /usr/local/lib/python3.7/dist-packages (from jinja2<2.12.0,>=2.7.3->allensdk==2.11.2->mindscope_utilities) (2.0.1)\n",
            "Requirement already satisfied: pyparsing!=2.0.4,!=2.1.2,!=2.1.6,>=2.0.1 in /usr/local/lib/python3.7/dist-packages (from matplotlib<4.0.0,>=1.4.3->allensdk==2.11.2->mindscope_utilities) (2.4.7)\n",
            "Requirement already satisfied: cycler>=0.10 in /usr/local/lib/python3.7/dist-packages (from matplotlib<4.0.0,>=1.4.3->allensdk==2.11.2->mindscope_utilities) (0.10.0)\n",
            "Requirement already satisfied: kiwisolver>=1.0.1 in /usr/local/lib/python3.7/dist-packages (from matplotlib<4.0.0,>=1.4.3->allensdk==2.11.2->mindscope_utilities) (1.3.1)\n",
            "Requirement already satisfied: pytz>=2017.2 in /usr/local/lib/python3.7/dist-packages (from pandas<=0.25.3,>=0.25.1->allensdk==2.11.2->mindscope_utilities) (2018.9)\n",
            "Requirement already satisfied: idna<3,>=2.5 in /usr/local/lib/python3.7/dist-packages (from requests<3.0.0->allensdk==2.11.2->mindscope_utilities) (2.10)\n",
            "Requirement already satisfied: certifi>=2017.4.17 in /usr/local/lib/python3.7/dist-packages (from requests<3.0.0->allensdk==2.11.2->mindscope_utilities) (2021.5.30)\n",
            "Requirement already satisfied: ruamel.yaml.clib>=0.1.2 in /usr/local/lib/python3.7/dist-packages (from ruamel.yaml<1,>=0.15->hdmf<2.5.0->allensdk==2.11.2->mindscope_utilities) (0.2.6)\n",
            "Requirement already satisfied: wheel>=0.29.0 in /usr/local/lib/python3.7/dist-packages (from scikit-build<1.0.0->allensdk==2.11.2->mindscope_utilities) (0.36.2)\n",
            "Requirement already satisfied: distro in /usr/local/lib/python3.7/dist-packages (from scikit-build<1.0.0->allensdk==2.11.2->mindscope_utilities) (1.5.0)\n",
            "Requirement already satisfied: packaging in /usr/local/lib/python3.7/dist-packages (from scikit-build<1.0.0->allensdk==2.11.2->mindscope_utilities) (20.9)\n",
            "Requirement already satisfied: imageio>=2.3.0 in /usr/local/lib/python3.7/dist-packages (from scikit-image<0.17.0,>=0.14.0->allensdk==2.11.2->mindscope_utilities) (2.4.1)\n",
            "Requirement already satisfied: PyWavelets>=0.4.0 in /usr/local/lib/python3.7/dist-packages (from scikit-image<0.17.0,>=0.14.0->allensdk==2.11.2->mindscope_utilities) (1.1.1)\n",
            "Requirement already satisfied: pillow>=4.3.0 in /usr/local/lib/python3.7/dist-packages (from scikit-image<0.17.0,>=0.14.0->allensdk==2.11.2->mindscope_utilities) (7.1.2)\n",
            "Requirement already satisfied: networkx>=2.0 in /usr/local/lib/python3.7/dist-packages (from scikit-image<0.17.0,>=0.14.0->allensdk==2.11.2->mindscope_utilities) (2.5.1)\n",
            "Requirement already satisfied: decorator<5,>=4.3 in /usr/local/lib/python3.7/dist-packages (from networkx>=2.0->scikit-image<0.17.0,>=0.14.0->allensdk==2.11.2->mindscope_utilities) (4.4.2)\n",
            "Requirement already satisfied: patsy>=0.4.0 in /usr/local/lib/python3.7/dist-packages (from statsmodels<=0.13.0->allensdk==2.11.2->mindscope_utilities) (0.5.1)\n",
            "Requirement already satisfied: numexpr>=2.6.2 in /usr/local/lib/python3.7/dist-packages (from tables<4.0.0,>=3.6.0->allensdk==2.11.2->mindscope_utilities) (2.7.3)\n",
            "Requirement already satisfied: pycodestyle<2.8.0,>=2.7.0 in /usr/local/lib/python3.7/dist-packages (from flake8->mindscope_utilities) (2.7.0)\n",
            "Requirement already satisfied: mccabe<0.7.0,>=0.6.0 in /usr/local/lib/python3.7/dist-packages (from flake8->mindscope_utilities) (0.6.1)\n",
            "Requirement already satisfied: importlib-metadata in /usr/local/lib/python3.7/dist-packages (from flake8->mindscope_utilities) (4.6.0)\n",
            "Requirement already satisfied: pyflakes<2.4.0,>=2.3.0 in /usr/local/lib/python3.7/dist-packages (from flake8->mindscope_utilities) (2.3.1)\n",
            "Requirement already satisfied: zipp>=0.5 in /usr/local/lib/python3.7/dist-packages (from importlib-metadata->flake8->mindscope_utilities) (3.4.1)\n",
            "Requirement already satisfied: more-itertools>=4.0.0 in /usr/local/lib/python3.7/dist-packages (from pytest->mindscope_utilities) (8.8.0)\n",
            "Requirement already satisfied: atomicwrites>=1.0 in /usr/local/lib/python3.7/dist-packages (from pytest->mindscope_utilities) (1.4.0)\n",
            "Requirement already satisfied: pluggy<0.8,>=0.5 in /usr/local/lib/python3.7/dist-packages (from pytest->mindscope_utilities) (0.7.1)\n",
            "Requirement already satisfied: py>=1.5.0 in /usr/local/lib/python3.7/dist-packages (from pytest->mindscope_utilities) (1.10.0)\n",
            "\u001b[33mWARNING: Running pip as the 'root' user can result in broken permissions and conflicting behaviour with the system package manager. It is recommended to use a virtual environment instead: https://pip.pypa.io/warnings/venv\u001b[0m\n"
          ],
          "name": "stdout"
        }
      ]
    },
    {
      "cell_type": "markdown",
      "metadata": {
        "id": "Aeoo4-aSQl8c"
      },
      "source": [
        "load packages"
      ]
    },
    {
      "cell_type": "code",
      "metadata": {
        "id": "KEj-7zDKQyDP"
      },
      "source": [
        "import os\n",
        "import numpy as np\n",
        "import pandas as pd\n",
        "from tqdm import tqdm\n",
        "import seaborn as sns\n",
        "import matplotlib.pyplot as plt\n",
        "\n",
        "import mindscope_utilities\n",
        "import mindscope_utilities.visual_behavior_ophys as ophys\n",
        "\n",
        "from allensdk.brain_observatory.behavior.behavior_project_cache import VisualBehaviorOphysProjectCache\n",
        "\n",
        "pd.set_option('display.max_columns', 500)"
      ],
      "execution_count": 2,
      "outputs": []
    },
    {
      "cell_type": "markdown",
      "metadata": {
        "id": "JZPbbbs7Ru7Z"
      },
      "source": [
        "load summary tables"
      ]
    },
    {
      "cell_type": "code",
      "metadata": {
        "id": "iHIoYJKRSHQS",
        "colab": {
          "base_uri": "https://localhost:8080/"
        },
        "outputId": "5bc6e1ff-1f78-4b57-cc39-0804043c3cf6"
      },
      "source": [
        "data_storage_directory = \"/temp\" # Note: this path must exist on your local drive\n",
        "cache = VisualBehaviorOphysProjectCache.from_s3_cache(cache_dir=data_storage_directory)"
      ],
      "execution_count": 3,
      "outputs": [
        {
          "output_type": "stream",
          "text": [
            "ophys_session_table.csv: 100%|██████████| 165k/165k [00:00<00:00, 1.03MMB/s] \n",
            "behavior_session_table.csv: 100%|██████████| 885k/885k [00:00<00:00, 4.92MMB/s] \n",
            "ophys_experiment_table.csv: 100%|██████████| 336k/336k [00:00<00:00, 2.03MMB/s] \n"
          ],
          "name": "stderr"
        }
      ]
    },
    {
      "cell_type": "markdown",
      "metadata": {
        "id": "2ACg0YojSJNS"
      },
      "source": [
        "`Ophys_session_table`\n",
        "\n",
        "\n",
        "contains metadata describing imaging sessions. If more than one plane was imaged during a session, one ophys session id will be associated multiple ophys experiment ids. Each ophys session id will also have a unique behavior session id.\n",
        "\n",
        "`Behavior_session_table `\n",
        "\n",
        "ontains metadata describing behavioral sessions, which may or may not be during imaging. Behavior session ids that do not have ophys session ids were training sessions.\n",
        "\n",
        "`Ophys_experiment_table`\n",
        "\n",
        "contains metadata describing imaging experiments (aka imaging planes). When mesoscope is used, one ophys session may contain up to 8 unique experiments (two visual areas by four imaging depths). Some imaging planes may not be released due to quality control issues, thus each ophys session id is associated with anywhere from one to eight unique experiment ids. Ophys experiment ids are unique and do not repeat across sessions. To find the same imaging plane that was matched across multiple sessions, use the ophys_container_id column that can be found in both ophys_session_table and ophys_experiment_table.\n",
        "\n",
        "**We show all three tables below**"
      ]
    },
    {
      "cell_type": "code",
      "metadata": {
        "id": "4S8QzFFFTl90"
      },
      "source": [
        "session_table = cache.get_ophys_session_table()\n",
        "experiment_table = cache.get_ophys_experiment_table()"
      ],
      "execution_count": 4,
      "outputs": []
    },
    {
      "cell_type": "markdown",
      "metadata": {
        "id": "TS4BRiuWnjrK"
      },
      "source": [
        "We now view the contents of each table "
      ]
    },
    {
      "cell_type": "code",
      "metadata": {
        "colab": {
          "base_uri": "https://localhost:8080/"
        },
        "id": "pEsrxyYGnnhm",
        "outputId": "af6abf28-2173-468d-9e26-739fcba57542"
      },
      "source": [
        "session_table.session_type.unique()"
      ],
      "execution_count": 5,
      "outputs": [
        {
          "output_type": "execute_result",
          "data": {
            "text/plain": [
              "array(['OPHYS_1_images_A', 'OPHYS_2_images_A_passive', 'OPHYS_3_images_A',\n",
              "       'OPHYS_4_images_B', 'OPHYS_5_images_B_passive', 'OPHYS_6_images_B',\n",
              "       'OPHYS_1_images_B', 'OPHYS_2_images_B_passive', 'OPHYS_3_images_B',\n",
              "       'OPHYS_4_images_A', 'OPHYS_6_images_A', 'OPHYS_5_images_A_passive'],\n",
              "      dtype=object)"
            ]
          },
          "metadata": {
            "tags": []
          },
          "execution_count": 5
        }
      ]
    },
    {
      "cell_type": "markdown",
      "metadata": {
        "id": "jLTvwFAMbbl3"
      },
      "source": [
        "We want OPHYS_2_images_A_passive (familair) and OPHYS_5_images_A_passive (novel)\n"
      ]
    },
    {
      "cell_type": "code",
      "metadata": {
        "colab": {
          "base_uri": "https://localhost:8080/"
        },
        "id": "bTiRbF6fnp10",
        "outputId": "dc4c0f66-4f7b-41b5-fafc-975ee85594e4"
      },
      "source": [
        "experiment_table.session_type.unique()"
      ],
      "execution_count": 6,
      "outputs": [
        {
          "output_type": "execute_result",
          "data": {
            "text/plain": [
              "array(['OPHYS_1_images_A', 'OPHYS_2_images_A_passive', 'OPHYS_3_images_A',\n",
              "       'OPHYS_4_images_B', 'OPHYS_5_images_B_passive', 'OPHYS_6_images_B',\n",
              "       'OPHYS_1_images_B', 'OPHYS_2_images_B_passive', 'OPHYS_3_images_B',\n",
              "       'OPHYS_4_images_A', 'OPHYS_6_images_A', 'OPHYS_5_images_A_passive'],\n",
              "      dtype=object)"
            ]
          },
          "metadata": {
            "tags": []
          },
          "execution_count": 6
        }
      ]
    },
    {
      "cell_type": "markdown",
      "metadata": {
        "id": "kZciWw0IoCzL"
      },
      "source": [
        "With the conditions of each session listed above we need more information about cell type and column names in the data which we get below"
      ]
    },
    {
      "cell_type": "code",
      "metadata": {
        "colab": {
          "base_uri": "https://localhost:8080/",
          "height": 482
        },
        "id": "4Q-3SmJtrD2w",
        "outputId": "ca49ccdc-930f-4d5f-df9c-836c8b4a3a52"
      },
      "source": [
        "session_table.head()"
      ],
      "execution_count": 7,
      "outputs": [
        {
          "output_type": "execute_result",
          "data": {
            "text/html": [
              "<div>\n",
              "<style scoped>\n",
              "    .dataframe tbody tr th:only-of-type {\n",
              "        vertical-align: middle;\n",
              "    }\n",
              "\n",
              "    .dataframe tbody tr th {\n",
              "        vertical-align: top;\n",
              "    }\n",
              "\n",
              "    .dataframe thead th {\n",
              "        text-align: right;\n",
              "    }\n",
              "</style>\n",
              "<table border=\"1\" class=\"dataframe\">\n",
              "  <thead>\n",
              "    <tr style=\"text-align: right;\">\n",
              "      <th></th>\n",
              "      <th>equipment_name</th>\n",
              "      <th>full_genotype</th>\n",
              "      <th>mouse_id</th>\n",
              "      <th>reporter_line</th>\n",
              "      <th>driver_line</th>\n",
              "      <th>sex</th>\n",
              "      <th>age_in_days</th>\n",
              "      <th>cre_line</th>\n",
              "      <th>indicator</th>\n",
              "      <th>session_number</th>\n",
              "      <th>prior_exposures_to_session_type</th>\n",
              "      <th>prior_exposures_to_image_set</th>\n",
              "      <th>prior_exposures_to_omissions</th>\n",
              "      <th>behavior_session_id</th>\n",
              "      <th>ophys_experiment_id</th>\n",
              "      <th>ophys_container_id</th>\n",
              "      <th>project_code</th>\n",
              "      <th>date_of_acquisition</th>\n",
              "      <th>session_type</th>\n",
              "    </tr>\n",
              "    <tr>\n",
              "      <th>ophys_session_id</th>\n",
              "      <th></th>\n",
              "      <th></th>\n",
              "      <th></th>\n",
              "      <th></th>\n",
              "      <th></th>\n",
              "      <th></th>\n",
              "      <th></th>\n",
              "      <th></th>\n",
              "      <th></th>\n",
              "      <th></th>\n",
              "      <th></th>\n",
              "      <th></th>\n",
              "      <th></th>\n",
              "      <th></th>\n",
              "      <th></th>\n",
              "      <th></th>\n",
              "      <th></th>\n",
              "      <th></th>\n",
              "      <th></th>\n",
              "    </tr>\n",
              "  </thead>\n",
              "  <tbody>\n",
              "    <tr>\n",
              "      <th>951410079</th>\n",
              "      <td>MESO.1</td>\n",
              "      <td>Sst-IRES-Cre/wt;Ai148(TIT2L-GC6f-ICL-tTA2)/wt</td>\n",
              "      <td>457841</td>\n",
              "      <td>Ai148(TIT2L-GC6f-ICL-tTA2)</td>\n",
              "      <td>[Sst-IRES-Cre]</td>\n",
              "      <td>F</td>\n",
              "      <td>206.0</td>\n",
              "      <td>Sst-IRES-Cre</td>\n",
              "      <td>GCaMP6f</td>\n",
              "      <td>1.0</td>\n",
              "      <td>0</td>\n",
              "      <td>65.0</td>\n",
              "      <td>0</td>\n",
              "      <td>951520319</td>\n",
              "      <td>[951980471, 951980473, 951980475, 951980479, 9...</td>\n",
              "      <td>[1018028339, 1018028342, 1018028345, 101802835...</td>\n",
              "      <td>VisualBehaviorMultiscope</td>\n",
              "      <td>2019-09-20 09:45:29.897856</td>\n",
              "      <td>OPHYS_1_images_A</td>\n",
              "    </tr>\n",
              "    <tr>\n",
              "      <th>952430817</th>\n",
              "      <td>MESO.1</td>\n",
              "      <td>Sst-IRES-Cre/wt;Ai148(TIT2L-GC6f-ICL-tTA2)/wt</td>\n",
              "      <td>457841</td>\n",
              "      <td>Ai148(TIT2L-GC6f-ICL-tTA2)</td>\n",
              "      <td>[Sst-IRES-Cre]</td>\n",
              "      <td>F</td>\n",
              "      <td>209.0</td>\n",
              "      <td>Sst-IRES-Cre</td>\n",
              "      <td>GCaMP6f</td>\n",
              "      <td>2.0</td>\n",
              "      <td>0</td>\n",
              "      <td>66.0</td>\n",
              "      <td>1</td>\n",
              "      <td>952554548</td>\n",
              "      <td>[953659743, 953659745, 953659749, 953659752]</td>\n",
              "      <td>[1018028339, 1018028345, 1018028354, 1018028357]</td>\n",
              "      <td>VisualBehaviorMultiscope</td>\n",
              "      <td>2019-09-23 08:13:07.627573</td>\n",
              "      <td>OPHYS_2_images_A_passive</td>\n",
              "    </tr>\n",
              "    <tr>\n",
              "      <th>954954402</th>\n",
              "      <td>MESO.1</td>\n",
              "      <td>Sst-IRES-Cre/wt;Ai148(TIT2L-GC6f-ICL-tTA2)/wt</td>\n",
              "      <td>457841</td>\n",
              "      <td>Ai148(TIT2L-GC6f-ICL-tTA2)</td>\n",
              "      <td>[Sst-IRES-Cre]</td>\n",
              "      <td>F</td>\n",
              "      <td>210.0</td>\n",
              "      <td>Sst-IRES-Cre</td>\n",
              "      <td>GCaMP6f</td>\n",
              "      <td>3.0</td>\n",
              "      <td>0</td>\n",
              "      <td>67.0</td>\n",
              "      <td>2</td>\n",
              "      <td>953982960</td>\n",
              "      <td>[958527464, 958527471, 958527474, 958527479, 9...</td>\n",
              "      <td>[1018028339, 1018028342, 1018028345, 101802835...</td>\n",
              "      <td>VisualBehaviorMultiscope</td>\n",
              "      <td>2019-09-24 16:00:00.000000</td>\n",
              "      <td>OPHYS_3_images_A</td>\n",
              "    </tr>\n",
              "    <tr>\n",
              "      <th>955775716</th>\n",
              "      <td>MESO.1</td>\n",
              "      <td>Sst-IRES-Cre/wt;Ai148(TIT2L-GC6f-ICL-tTA2)/wt</td>\n",
              "      <td>457841</td>\n",
              "      <td>Ai148(TIT2L-GC6f-ICL-tTA2)</td>\n",
              "      <td>[Sst-IRES-Cre]</td>\n",
              "      <td>F</td>\n",
              "      <td>212.0</td>\n",
              "      <td>Sst-IRES-Cre</td>\n",
              "      <td>GCaMP6f</td>\n",
              "      <td>3.0</td>\n",
              "      <td>1</td>\n",
              "      <td>68.0</td>\n",
              "      <td>3</td>\n",
              "      <td>956010809</td>\n",
              "      <td>[956941841, 956941844, 956941846]</td>\n",
              "      <td>[1018028339, 1018028342, 1018028345]</td>\n",
              "      <td>VisualBehaviorMultiscope</td>\n",
              "      <td>2019-09-26 08:44:37.199778</td>\n",
              "      <td>OPHYS_3_images_A</td>\n",
              "    </tr>\n",
              "    <tr>\n",
              "      <th>957020350</th>\n",
              "      <td>MESO.1</td>\n",
              "      <td>Sst-IRES-Cre/wt;Ai148(TIT2L-GC6f-ICL-tTA2)/wt</td>\n",
              "      <td>457841</td>\n",
              "      <td>Ai148(TIT2L-GC6f-ICL-tTA2)</td>\n",
              "      <td>[Sst-IRES-Cre]</td>\n",
              "      <td>F</td>\n",
              "      <td>213.0</td>\n",
              "      <td>Sst-IRES-Cre</td>\n",
              "      <td>GCaMP6f</td>\n",
              "      <td>4.0</td>\n",
              "      <td>0</td>\n",
              "      <td>0.0</td>\n",
              "      <td>4</td>\n",
              "      <td>957032492</td>\n",
              "      <td>[957759562, 957759564, 957759566, 957759570, 9...</td>\n",
              "      <td>[1018028339, 1018028342, 1018028345, 101802835...</td>\n",
              "      <td>VisualBehaviorMultiscope</td>\n",
              "      <td>2019-09-27 08:28:05.415005</td>\n",
              "      <td>OPHYS_4_images_B</td>\n",
              "    </tr>\n",
              "  </tbody>\n",
              "</table>\n",
              "</div>"
            ],
            "text/plain": [
              "                 equipment_name  \\\n",
              "ophys_session_id                  \n",
              "951410079                MESO.1   \n",
              "952430817                MESO.1   \n",
              "954954402                MESO.1   \n",
              "955775716                MESO.1   \n",
              "957020350                MESO.1   \n",
              "\n",
              "                                                  full_genotype  mouse_id  \\\n",
              "ophys_session_id                                                            \n",
              "951410079         Sst-IRES-Cre/wt;Ai148(TIT2L-GC6f-ICL-tTA2)/wt    457841   \n",
              "952430817         Sst-IRES-Cre/wt;Ai148(TIT2L-GC6f-ICL-tTA2)/wt    457841   \n",
              "954954402         Sst-IRES-Cre/wt;Ai148(TIT2L-GC6f-ICL-tTA2)/wt    457841   \n",
              "955775716         Sst-IRES-Cre/wt;Ai148(TIT2L-GC6f-ICL-tTA2)/wt    457841   \n",
              "957020350         Sst-IRES-Cre/wt;Ai148(TIT2L-GC6f-ICL-tTA2)/wt    457841   \n",
              "\n",
              "                               reporter_line     driver_line sex  age_in_days  \\\n",
              "ophys_session_id                                                                \n",
              "951410079         Ai148(TIT2L-GC6f-ICL-tTA2)  [Sst-IRES-Cre]   F        206.0   \n",
              "952430817         Ai148(TIT2L-GC6f-ICL-tTA2)  [Sst-IRES-Cre]   F        209.0   \n",
              "954954402         Ai148(TIT2L-GC6f-ICL-tTA2)  [Sst-IRES-Cre]   F        210.0   \n",
              "955775716         Ai148(TIT2L-GC6f-ICL-tTA2)  [Sst-IRES-Cre]   F        212.0   \n",
              "957020350         Ai148(TIT2L-GC6f-ICL-tTA2)  [Sst-IRES-Cre]   F        213.0   \n",
              "\n",
              "                      cre_line indicator  session_number  \\\n",
              "ophys_session_id                                           \n",
              "951410079         Sst-IRES-Cre   GCaMP6f             1.0   \n",
              "952430817         Sst-IRES-Cre   GCaMP6f             2.0   \n",
              "954954402         Sst-IRES-Cre   GCaMP6f             3.0   \n",
              "955775716         Sst-IRES-Cre   GCaMP6f             3.0   \n",
              "957020350         Sst-IRES-Cre   GCaMP6f             4.0   \n",
              "\n",
              "                  prior_exposures_to_session_type  \\\n",
              "ophys_session_id                                    \n",
              "951410079                                       0   \n",
              "952430817                                       0   \n",
              "954954402                                       0   \n",
              "955775716                                       1   \n",
              "957020350                                       0   \n",
              "\n",
              "                  prior_exposures_to_image_set  prior_exposures_to_omissions  \\\n",
              "ophys_session_id                                                               \n",
              "951410079                                 65.0                             0   \n",
              "952430817                                 66.0                             1   \n",
              "954954402                                 67.0                             2   \n",
              "955775716                                 68.0                             3   \n",
              "957020350                                  0.0                             4   \n",
              "\n",
              "                  behavior_session_id  \\\n",
              "ophys_session_id                        \n",
              "951410079                   951520319   \n",
              "952430817                   952554548   \n",
              "954954402                   953982960   \n",
              "955775716                   956010809   \n",
              "957020350                   957032492   \n",
              "\n",
              "                                                ophys_experiment_id  \\\n",
              "ophys_session_id                                                      \n",
              "951410079         [951980471, 951980473, 951980475, 951980479, 9...   \n",
              "952430817              [953659743, 953659745, 953659749, 953659752]   \n",
              "954954402         [958527464, 958527471, 958527474, 958527479, 9...   \n",
              "955775716                         [956941841, 956941844, 956941846]   \n",
              "957020350         [957759562, 957759564, 957759566, 957759570, 9...   \n",
              "\n",
              "                                                 ophys_container_id  \\\n",
              "ophys_session_id                                                      \n",
              "951410079         [1018028339, 1018028342, 1018028345, 101802835...   \n",
              "952430817          [1018028339, 1018028345, 1018028354, 1018028357]   \n",
              "954954402         [1018028339, 1018028342, 1018028345, 101802835...   \n",
              "955775716                      [1018028339, 1018028342, 1018028345]   \n",
              "957020350         [1018028339, 1018028342, 1018028345, 101802835...   \n",
              "\n",
              "                              project_code         date_of_acquisition  \\\n",
              "ophys_session_id                                                         \n",
              "951410079         VisualBehaviorMultiscope  2019-09-20 09:45:29.897856   \n",
              "952430817         VisualBehaviorMultiscope  2019-09-23 08:13:07.627573   \n",
              "954954402         VisualBehaviorMultiscope  2019-09-24 16:00:00.000000   \n",
              "955775716         VisualBehaviorMultiscope  2019-09-26 08:44:37.199778   \n",
              "957020350         VisualBehaviorMultiscope  2019-09-27 08:28:05.415005   \n",
              "\n",
              "                              session_type  \n",
              "ophys_session_id                            \n",
              "951410079                 OPHYS_1_images_A  \n",
              "952430817         OPHYS_2_images_A_passive  \n",
              "954954402                 OPHYS_3_images_A  \n",
              "955775716                 OPHYS_3_images_A  \n",
              "957020350                 OPHYS_4_images_B  "
            ]
          },
          "metadata": {
            "tags": []
          },
          "execution_count": 7
        }
      ]
    },
    {
      "cell_type": "code",
      "metadata": {
        "colab": {
          "base_uri": "https://localhost:8080/",
          "height": 416
        },
        "id": "OkTdaTd8rQhS",
        "outputId": "f265a67e-fc45-418b-e18f-4b229b99e0ca"
      },
      "source": [
        "experiment_table.head()"
      ],
      "execution_count": 8,
      "outputs": [
        {
          "output_type": "execute_result",
          "data": {
            "text/html": [
              "<div>\n",
              "<style scoped>\n",
              "    .dataframe tbody tr th:only-of-type {\n",
              "        vertical-align: middle;\n",
              "    }\n",
              "\n",
              "    .dataframe tbody tr th {\n",
              "        vertical-align: top;\n",
              "    }\n",
              "\n",
              "    .dataframe thead th {\n",
              "        text-align: right;\n",
              "    }\n",
              "</style>\n",
              "<table border=\"1\" class=\"dataframe\">\n",
              "  <thead>\n",
              "    <tr style=\"text-align: right;\">\n",
              "      <th></th>\n",
              "      <th>equipment_name</th>\n",
              "      <th>full_genotype</th>\n",
              "      <th>mouse_id</th>\n",
              "      <th>reporter_line</th>\n",
              "      <th>driver_line</th>\n",
              "      <th>sex</th>\n",
              "      <th>age_in_days</th>\n",
              "      <th>cre_line</th>\n",
              "      <th>indicator</th>\n",
              "      <th>session_number</th>\n",
              "      <th>prior_exposures_to_session_type</th>\n",
              "      <th>prior_exposures_to_image_set</th>\n",
              "      <th>prior_exposures_to_omissions</th>\n",
              "      <th>ophys_session_id</th>\n",
              "      <th>behavior_session_id</th>\n",
              "      <th>ophys_container_id</th>\n",
              "      <th>project_code</th>\n",
              "      <th>imaging_depth</th>\n",
              "      <th>targeted_structure</th>\n",
              "      <th>date_of_acquisition</th>\n",
              "      <th>session_type</th>\n",
              "      <th>file_id</th>\n",
              "    </tr>\n",
              "    <tr>\n",
              "      <th>ophys_experiment_id</th>\n",
              "      <th></th>\n",
              "      <th></th>\n",
              "      <th></th>\n",
              "      <th></th>\n",
              "      <th></th>\n",
              "      <th></th>\n",
              "      <th></th>\n",
              "      <th></th>\n",
              "      <th></th>\n",
              "      <th></th>\n",
              "      <th></th>\n",
              "      <th></th>\n",
              "      <th></th>\n",
              "      <th></th>\n",
              "      <th></th>\n",
              "      <th></th>\n",
              "      <th></th>\n",
              "      <th></th>\n",
              "      <th></th>\n",
              "      <th></th>\n",
              "      <th></th>\n",
              "      <th></th>\n",
              "    </tr>\n",
              "  </thead>\n",
              "  <tbody>\n",
              "    <tr>\n",
              "      <th>951980471</th>\n",
              "      <td>MESO.1</td>\n",
              "      <td>Sst-IRES-Cre/wt;Ai148(TIT2L-GC6f-ICL-tTA2)/wt</td>\n",
              "      <td>457841</td>\n",
              "      <td>Ai148(TIT2L-GC6f-ICL-tTA2)</td>\n",
              "      <td>[Sst-IRES-Cre]</td>\n",
              "      <td>F</td>\n",
              "      <td>206.0</td>\n",
              "      <td>Sst-IRES-Cre</td>\n",
              "      <td>GCaMP6f</td>\n",
              "      <td>1.0</td>\n",
              "      <td>0</td>\n",
              "      <td>65.0</td>\n",
              "      <td>0</td>\n",
              "      <td>951410079</td>\n",
              "      <td>951520319</td>\n",
              "      <td>1018028342</td>\n",
              "      <td>VisualBehaviorMultiscope</td>\n",
              "      <td>150</td>\n",
              "      <td>VISp</td>\n",
              "      <td>2019-09-20 09:45:29.897856</td>\n",
              "      <td>OPHYS_1_images_A</td>\n",
              "      <td>1085394308</td>\n",
              "    </tr>\n",
              "    <tr>\n",
              "      <th>951980484</th>\n",
              "      <td>MESO.1</td>\n",
              "      <td>Sst-IRES-Cre/wt;Ai148(TIT2L-GC6f-ICL-tTA2)/wt</td>\n",
              "      <td>457841</td>\n",
              "      <td>Ai148(TIT2L-GC6f-ICL-tTA2)</td>\n",
              "      <td>[Sst-IRES-Cre]</td>\n",
              "      <td>F</td>\n",
              "      <td>206.0</td>\n",
              "      <td>Sst-IRES-Cre</td>\n",
              "      <td>GCaMP6f</td>\n",
              "      <td>1.0</td>\n",
              "      <td>0</td>\n",
              "      <td>65.0</td>\n",
              "      <td>0</td>\n",
              "      <td>951410079</td>\n",
              "      <td>951520319</td>\n",
              "      <td>1018028351</td>\n",
              "      <td>VisualBehaviorMultiscope</td>\n",
              "      <td>75</td>\n",
              "      <td>VISl</td>\n",
              "      <td>2019-09-20 09:45:29.897856</td>\n",
              "      <td>OPHYS_1_images_A</td>\n",
              "      <td>1085400876</td>\n",
              "    </tr>\n",
              "    <tr>\n",
              "      <th>951980473</th>\n",
              "      <td>MESO.1</td>\n",
              "      <td>Sst-IRES-Cre/wt;Ai148(TIT2L-GC6f-ICL-tTA2)/wt</td>\n",
              "      <td>457841</td>\n",
              "      <td>Ai148(TIT2L-GC6f-ICL-tTA2)</td>\n",
              "      <td>[Sst-IRES-Cre]</td>\n",
              "      <td>F</td>\n",
              "      <td>206.0</td>\n",
              "      <td>Sst-IRES-Cre</td>\n",
              "      <td>GCaMP6f</td>\n",
              "      <td>1.0</td>\n",
              "      <td>0</td>\n",
              "      <td>65.0</td>\n",
              "      <td>0</td>\n",
              "      <td>951410079</td>\n",
              "      <td>951520319</td>\n",
              "      <td>1018028345</td>\n",
              "      <td>VisualBehaviorMultiscope</td>\n",
              "      <td>225</td>\n",
              "      <td>VISp</td>\n",
              "      <td>2019-09-20 09:45:29.897856</td>\n",
              "      <td>OPHYS_1_images_A</td>\n",
              "      <td>1085400919</td>\n",
              "    </tr>\n",
              "    <tr>\n",
              "      <th>951980479</th>\n",
              "      <td>MESO.1</td>\n",
              "      <td>Sst-IRES-Cre/wt;Ai148(TIT2L-GC6f-ICL-tTA2)/wt</td>\n",
              "      <td>457841</td>\n",
              "      <td>Ai148(TIT2L-GC6f-ICL-tTA2)</td>\n",
              "      <td>[Sst-IRES-Cre]</td>\n",
              "      <td>F</td>\n",
              "      <td>206.0</td>\n",
              "      <td>Sst-IRES-Cre</td>\n",
              "      <td>GCaMP6f</td>\n",
              "      <td>1.0</td>\n",
              "      <td>0</td>\n",
              "      <td>65.0</td>\n",
              "      <td>0</td>\n",
              "      <td>951410079</td>\n",
              "      <td>951520319</td>\n",
              "      <td>1018028354</td>\n",
              "      <td>VisualBehaviorMultiscope</td>\n",
              "      <td>150</td>\n",
              "      <td>VISl</td>\n",
              "      <td>2019-09-20 09:45:29.897856</td>\n",
              "      <td>OPHYS_1_images_A</td>\n",
              "      <td>1085400977</td>\n",
              "    </tr>\n",
              "    <tr>\n",
              "      <th>951980475</th>\n",
              "      <td>MESO.1</td>\n",
              "      <td>Sst-IRES-Cre/wt;Ai148(TIT2L-GC6f-ICL-tTA2)/wt</td>\n",
              "      <td>457841</td>\n",
              "      <td>Ai148(TIT2L-GC6f-ICL-tTA2)</td>\n",
              "      <td>[Sst-IRES-Cre]</td>\n",
              "      <td>F</td>\n",
              "      <td>206.0</td>\n",
              "      <td>Sst-IRES-Cre</td>\n",
              "      <td>GCaMP6f</td>\n",
              "      <td>1.0</td>\n",
              "      <td>0</td>\n",
              "      <td>65.0</td>\n",
              "      <td>0</td>\n",
              "      <td>951410079</td>\n",
              "      <td>951520319</td>\n",
              "      <td>1018028339</td>\n",
              "      <td>VisualBehaviorMultiscope</td>\n",
              "      <td>75</td>\n",
              "      <td>VISp</td>\n",
              "      <td>2019-09-20 09:45:29.897856</td>\n",
              "      <td>OPHYS_1_images_A</td>\n",
              "      <td>1085400920</td>\n",
              "    </tr>\n",
              "  </tbody>\n",
              "</table>\n",
              "</div>"
            ],
            "text/plain": [
              "                    equipment_name  \\\n",
              "ophys_experiment_id                  \n",
              "951980471                   MESO.1   \n",
              "951980484                   MESO.1   \n",
              "951980473                   MESO.1   \n",
              "951980479                   MESO.1   \n",
              "951980475                   MESO.1   \n",
              "\n",
              "                                                     full_genotype  mouse_id  \\\n",
              "ophys_experiment_id                                                            \n",
              "951980471            Sst-IRES-Cre/wt;Ai148(TIT2L-GC6f-ICL-tTA2)/wt    457841   \n",
              "951980484            Sst-IRES-Cre/wt;Ai148(TIT2L-GC6f-ICL-tTA2)/wt    457841   \n",
              "951980473            Sst-IRES-Cre/wt;Ai148(TIT2L-GC6f-ICL-tTA2)/wt    457841   \n",
              "951980479            Sst-IRES-Cre/wt;Ai148(TIT2L-GC6f-ICL-tTA2)/wt    457841   \n",
              "951980475            Sst-IRES-Cre/wt;Ai148(TIT2L-GC6f-ICL-tTA2)/wt    457841   \n",
              "\n",
              "                                  reporter_line     driver_line sex  \\\n",
              "ophys_experiment_id                                                   \n",
              "951980471            Ai148(TIT2L-GC6f-ICL-tTA2)  [Sst-IRES-Cre]   F   \n",
              "951980484            Ai148(TIT2L-GC6f-ICL-tTA2)  [Sst-IRES-Cre]   F   \n",
              "951980473            Ai148(TIT2L-GC6f-ICL-tTA2)  [Sst-IRES-Cre]   F   \n",
              "951980479            Ai148(TIT2L-GC6f-ICL-tTA2)  [Sst-IRES-Cre]   F   \n",
              "951980475            Ai148(TIT2L-GC6f-ICL-tTA2)  [Sst-IRES-Cre]   F   \n",
              "\n",
              "                     age_in_days      cre_line indicator  session_number  \\\n",
              "ophys_experiment_id                                                        \n",
              "951980471                  206.0  Sst-IRES-Cre   GCaMP6f             1.0   \n",
              "951980484                  206.0  Sst-IRES-Cre   GCaMP6f             1.0   \n",
              "951980473                  206.0  Sst-IRES-Cre   GCaMP6f             1.0   \n",
              "951980479                  206.0  Sst-IRES-Cre   GCaMP6f             1.0   \n",
              "951980475                  206.0  Sst-IRES-Cre   GCaMP6f             1.0   \n",
              "\n",
              "                     prior_exposures_to_session_type  \\\n",
              "ophys_experiment_id                                    \n",
              "951980471                                          0   \n",
              "951980484                                          0   \n",
              "951980473                                          0   \n",
              "951980479                                          0   \n",
              "951980475                                          0   \n",
              "\n",
              "                     prior_exposures_to_image_set  \\\n",
              "ophys_experiment_id                                 \n",
              "951980471                                    65.0   \n",
              "951980484                                    65.0   \n",
              "951980473                                    65.0   \n",
              "951980479                                    65.0   \n",
              "951980475                                    65.0   \n",
              "\n",
              "                     prior_exposures_to_omissions  ophys_session_id  \\\n",
              "ophys_experiment_id                                                   \n",
              "951980471                                       0         951410079   \n",
              "951980484                                       0         951410079   \n",
              "951980473                                       0         951410079   \n",
              "951980479                                       0         951410079   \n",
              "951980475                                       0         951410079   \n",
              "\n",
              "                     behavior_session_id  ophys_container_id  \\\n",
              "ophys_experiment_id                                            \n",
              "951980471                      951520319          1018028342   \n",
              "951980484                      951520319          1018028351   \n",
              "951980473                      951520319          1018028345   \n",
              "951980479                      951520319          1018028354   \n",
              "951980475                      951520319          1018028339   \n",
              "\n",
              "                                 project_code  imaging_depth  \\\n",
              "ophys_experiment_id                                            \n",
              "951980471            VisualBehaviorMultiscope            150   \n",
              "951980484            VisualBehaviorMultiscope             75   \n",
              "951980473            VisualBehaviorMultiscope            225   \n",
              "951980479            VisualBehaviorMultiscope            150   \n",
              "951980475            VisualBehaviorMultiscope             75   \n",
              "\n",
              "                    targeted_structure         date_of_acquisition  \\\n",
              "ophys_experiment_id                                                  \n",
              "951980471                         VISp  2019-09-20 09:45:29.897856   \n",
              "951980484                         VISl  2019-09-20 09:45:29.897856   \n",
              "951980473                         VISp  2019-09-20 09:45:29.897856   \n",
              "951980479                         VISl  2019-09-20 09:45:29.897856   \n",
              "951980475                         VISp  2019-09-20 09:45:29.897856   \n",
              "\n",
              "                         session_type     file_id  \n",
              "ophys_experiment_id                                \n",
              "951980471            OPHYS_1_images_A  1085394308  \n",
              "951980484            OPHYS_1_images_A  1085400876  \n",
              "951980473            OPHYS_1_images_A  1085400919  \n",
              "951980479            OPHYS_1_images_A  1085400977  \n",
              "951980475            OPHYS_1_images_A  1085400920  "
            ]
          },
          "metadata": {
            "tags": []
          },
          "execution_count": 8
        }
      ]
    },
    {
      "cell_type": "markdown",
      "metadata": {
        "id": "2NKrmWVfxRpT"
      },
      "source": [
        "We are now going to load data from a single passive viewing session using the session id listed above when the animal has seen the image 66 times before so it is a FAMILIAR session"
      ]
    },
    {
      "cell_type": "code",
      "metadata": {
        "colab": {
          "base_uri": "https://localhost:8080/"
        },
        "id": "90EAoy17xkLK",
        "outputId": "624b0f5a-9443-4440-a25a-133a83634c7c"
      },
      "source": [
        "ophys_session_id_familiar = 952430817\n",
        "session_table.loc[ophys_session_id_familiar]"
      ],
      "execution_count": 9,
      "outputs": [
        {
          "output_type": "execute_result",
          "data": {
            "text/plain": [
              "equipment_name                                                               MESO.1\n",
              "full_genotype                         Sst-IRES-Cre/wt;Ai148(TIT2L-GC6f-ICL-tTA2)/wt\n",
              "mouse_id                                                                     457841\n",
              "reporter_line                                            Ai148(TIT2L-GC6f-ICL-tTA2)\n",
              "driver_line                                                          [Sst-IRES-Cre]\n",
              "sex                                                                               F\n",
              "age_in_days                                                                     209\n",
              "cre_line                                                               Sst-IRES-Cre\n",
              "indicator                                                                   GCaMP6f\n",
              "session_number                                                                    2\n",
              "prior_exposures_to_session_type                                                   0\n",
              "prior_exposures_to_image_set                                                     66\n",
              "prior_exposures_to_omissions                                                      1\n",
              "behavior_session_id                                                       952554548\n",
              "ophys_experiment_id                    [953659743, 953659745, 953659749, 953659752]\n",
              "ophys_container_id                 [1018028339, 1018028345, 1018028354, 1018028357]\n",
              "project_code                                               VisualBehaviorMultiscope\n",
              "date_of_acquisition                                      2019-09-23 08:13:07.627573\n",
              "session_type                                               OPHYS_2_images_A_passive\n",
              "Name: 952430817, dtype: object"
            ]
          },
          "metadata": {
            "tags": []
          },
          "execution_count": 9
        }
      ]
    },
    {
      "cell_type": "markdown",
      "metadata": {
        "id": "UoC3WLvd0xix"
      },
      "source": [
        "We now download all of the experiments associated with this session ID"
      ]
    },
    {
      "cell_type": "code",
      "metadata": {
        "id": "jifATOQ21Vb-",
        "colab": {
          "base_uri": "https://localhost:8080/"
        },
        "outputId": "b40a88cf-baf6-481e-ca2c-903db53218f3"
      },
      "source": [
        "experiments = {}\n",
        "ophys_experiment_ids = session_table.loc[ophys_session_id_familiar]['ophys_experiment_id']\n",
        "for ophys_experiment_id in ophys_experiment_ids:\n",
        "    experiments[ophys_experiment_id] = cache.get_behavior_ophys_experiment(ophys_experiment_id)"
      ],
      "execution_count": 10,
      "outputs": [
        {
          "output_type": "stream",
          "text": [
            "behavior_ophys_experiment_953659743.nwb: 100%|██████████| 252M/252M [00:20<00:00, 12.4MMB/s]\n",
            "behavior_ophys_experiment_953659745.nwb: 100%|██████████| 247M/247M [00:12<00:00, 19.3MMB/s]\n",
            "behavior_ophys_experiment_953659749.nwb: 100%|██████████| 261M/261M [00:13<00:00, 20.0MMB/s]\n",
            "behavior_ophys_experiment_953659752.nwb: 100%|██████████| 256M/256M [00:14<00:00, 17.8MMB/s]\n"
          ],
          "name": "stderr"
        }
      ]
    },
    {
      "cell_type": "markdown",
      "metadata": {
        "id": "dysWhLds1wSh"
      },
      "source": [
        "For this familiar session we will now load all of the associated experiments into memory"
      ]
    },
    {
      "cell_type": "code",
      "metadata": {
        "colab": {
          "base_uri": "https://localhost:8080/"
        },
        "id": "t2neEbTH6VBr",
        "outputId": "84cfdb34-3f49-41bb-d7b4-04fda9892ee3"
      },
      "source": [
        "neural_data = []\n",
        "for ophys_experiment_id in tqdm(experiments.keys()): #tqdm is a package that shows progress bars for items that are iterated over\n",
        "    this_experiment = experiments[ophys_experiment_id]\n",
        "    this_experiment_neural_data = ophys.build_tidy_cell_df(this_experiment)\n",
        "    \n",
        "    # add some columns with metadata for the experiment\n",
        "    metadata_keys = [\n",
        "        'ophys_experiment_id',\n",
        "        'ophys_session_id',\n",
        "        'targeted_structure',\n",
        "        'imaging_depth',\n",
        "        'equipment_name',\n",
        "        'cre_line',\n",
        "        'mouse_id',\n",
        "        'sex',\n",
        "    ]\n",
        "    for metadata_key in metadata_keys:\n",
        "        this_experiment_neural_data[metadata_key] = this_experiment.metadata[metadata_key]\n",
        "        \n",
        "    # append the data for this experiment to a list\n",
        "    neural_data.append(this_experiment_neural_data)\n",
        "    \n",
        "# concatate the list of dataframes into a single dataframe\n",
        "neural_data = pd.concat(neural_data)"
      ],
      "execution_count": 11,
      "outputs": [
        {
          "output_type": "stream",
          "text": [
            "100%|██████████| 4/4 [00:21<00:00,  5.37s/it]\n"
          ],
          "name": "stderr"
        }
      ]
    },
    {
      "cell_type": "markdown",
      "metadata": {
        "id": "1ZV9mVjd6k_i"
      },
      "source": [
        "With the neural data now in memory we can inspect column labels"
      ]
    },
    {
      "cell_type": "code",
      "metadata": {
        "colab": {
          "base_uri": "https://localhost:8080/",
          "height": 201
        },
        "id": "KdrFwZv07KYO",
        "outputId": "775d8753-9309-4a88-fece-9de7ec923a41"
      },
      "source": [
        "neural_data.head()"
      ],
      "execution_count": 12,
      "outputs": [
        {
          "output_type": "execute_result",
          "data": {
            "text/html": [
              "<div>\n",
              "<style scoped>\n",
              "    .dataframe tbody tr th:only-of-type {\n",
              "        vertical-align: middle;\n",
              "    }\n",
              "\n",
              "    .dataframe tbody tr th {\n",
              "        vertical-align: top;\n",
              "    }\n",
              "\n",
              "    .dataframe thead th {\n",
              "        text-align: right;\n",
              "    }\n",
              "</style>\n",
              "<table border=\"1\" class=\"dataframe\">\n",
              "  <thead>\n",
              "    <tr style=\"text-align: right;\">\n",
              "      <th></th>\n",
              "      <th>timestamps</th>\n",
              "      <th>dff</th>\n",
              "      <th>events</th>\n",
              "      <th>filtered_events</th>\n",
              "      <th>cell_roi_id</th>\n",
              "      <th>cell_specimen_id</th>\n",
              "      <th>ophys_experiment_id</th>\n",
              "      <th>ophys_session_id</th>\n",
              "      <th>targeted_structure</th>\n",
              "      <th>imaging_depth</th>\n",
              "      <th>equipment_name</th>\n",
              "      <th>cre_line</th>\n",
              "      <th>mouse_id</th>\n",
              "      <th>sex</th>\n",
              "    </tr>\n",
              "  </thead>\n",
              "  <tbody>\n",
              "    <tr>\n",
              "      <th>0</th>\n",
              "      <td>9.60844</td>\n",
              "      <td>0.424997</td>\n",
              "      <td>0.0</td>\n",
              "      <td>0.0</td>\n",
              "      <td>1080739705</td>\n",
              "      <td>1086622595</td>\n",
              "      <td>953659743</td>\n",
              "      <td>952430817</td>\n",
              "      <td>VISp</td>\n",
              "      <td>225</td>\n",
              "      <td>MESO.1</td>\n",
              "      <td>Sst-IRES-Cre</td>\n",
              "      <td>457841</td>\n",
              "      <td>F</td>\n",
              "    </tr>\n",
              "    <tr>\n",
              "      <th>1</th>\n",
              "      <td>9.70165</td>\n",
              "      <td>0.279344</td>\n",
              "      <td>0.0</td>\n",
              "      <td>0.0</td>\n",
              "      <td>1080739705</td>\n",
              "      <td>1086622595</td>\n",
              "      <td>953659743</td>\n",
              "      <td>952430817</td>\n",
              "      <td>VISp</td>\n",
              "      <td>225</td>\n",
              "      <td>MESO.1</td>\n",
              "      <td>Sst-IRES-Cre</td>\n",
              "      <td>457841</td>\n",
              "      <td>F</td>\n",
              "    </tr>\n",
              "    <tr>\n",
              "      <th>2</th>\n",
              "      <td>9.79486</td>\n",
              "      <td>0.029540</td>\n",
              "      <td>0.0</td>\n",
              "      <td>0.0</td>\n",
              "      <td>1080739705</td>\n",
              "      <td>1086622595</td>\n",
              "      <td>953659743</td>\n",
              "      <td>952430817</td>\n",
              "      <td>VISp</td>\n",
              "      <td>225</td>\n",
              "      <td>MESO.1</td>\n",
              "      <td>Sst-IRES-Cre</td>\n",
              "      <td>457841</td>\n",
              "      <td>F</td>\n",
              "    </tr>\n",
              "    <tr>\n",
              "      <th>3</th>\n",
              "      <td>9.88807</td>\n",
              "      <td>-0.035826</td>\n",
              "      <td>0.0</td>\n",
              "      <td>0.0</td>\n",
              "      <td>1080739705</td>\n",
              "      <td>1086622595</td>\n",
              "      <td>953659743</td>\n",
              "      <td>952430817</td>\n",
              "      <td>VISp</td>\n",
              "      <td>225</td>\n",
              "      <td>MESO.1</td>\n",
              "      <td>Sst-IRES-Cre</td>\n",
              "      <td>457841</td>\n",
              "      <td>F</td>\n",
              "    </tr>\n",
              "    <tr>\n",
              "      <th>4</th>\n",
              "      <td>9.98128</td>\n",
              "      <td>0.044807</td>\n",
              "      <td>0.0</td>\n",
              "      <td>0.0</td>\n",
              "      <td>1080739705</td>\n",
              "      <td>1086622595</td>\n",
              "      <td>953659743</td>\n",
              "      <td>952430817</td>\n",
              "      <td>VISp</td>\n",
              "      <td>225</td>\n",
              "      <td>MESO.1</td>\n",
              "      <td>Sst-IRES-Cre</td>\n",
              "      <td>457841</td>\n",
              "      <td>F</td>\n",
              "    </tr>\n",
              "  </tbody>\n",
              "</table>\n",
              "</div>"
            ],
            "text/plain": [
              "   timestamps       dff  events  filtered_events  cell_roi_id  \\\n",
              "0     9.60844  0.424997     0.0              0.0   1080739705   \n",
              "1     9.70165  0.279344     0.0              0.0   1080739705   \n",
              "2     9.79486  0.029540     0.0              0.0   1080739705   \n",
              "3     9.88807 -0.035826     0.0              0.0   1080739705   \n",
              "4     9.98128  0.044807     0.0              0.0   1080739705   \n",
              "\n",
              "   cell_specimen_id  ophys_experiment_id  ophys_session_id targeted_structure  \\\n",
              "0        1086622595            953659743         952430817               VISp   \n",
              "1        1086622595            953659743         952430817               VISp   \n",
              "2        1086622595            953659743         952430817               VISp   \n",
              "3        1086622595            953659743         952430817               VISp   \n",
              "4        1086622595            953659743         952430817               VISp   \n",
              "\n",
              "   imaging_depth equipment_name      cre_line  mouse_id sex  \n",
              "0            225         MESO.1  Sst-IRES-Cre    457841   F  \n",
              "1            225         MESO.1  Sst-IRES-Cre    457841   F  \n",
              "2            225         MESO.1  Sst-IRES-Cre    457841   F  \n",
              "3            225         MESO.1  Sst-IRES-Cre    457841   F  \n",
              "4            225         MESO.1  Sst-IRES-Cre    457841   F  "
            ]
          },
          "metadata": {
            "tags": []
          },
          "execution_count": 12
        }
      ]
    },
    {
      "cell_type": "markdown",
      "metadata": {
        "id": "OV34OCuW89Iw"
      },
      "source": [
        "We now need to grab the IDs for specific cells"
      ]
    },
    {
      "cell_type": "code",
      "metadata": {
        "id": "4KXeffOi9sv4"
      },
      "source": [
        "cell_ids = neural_data['cell_specimen_id'].unique()"
      ],
      "execution_count": 13,
      "outputs": []
    },
    {
      "cell_type": "markdown",
      "metadata": {
        "id": "5p0piYcP7QEI"
      },
      "source": [
        "With the neural data now in memory we load the associated stimulus data"
      ]
    },
    {
      "cell_type": "code",
      "metadata": {
        "colab": {
          "base_uri": "https://localhost:8080/",
          "height": 383
        },
        "id": "SMFejMIG7kOS",
        "outputId": "cb0e6f1f-6d62-4c47-c6df-98f62d103e5f"
      },
      "source": [
        "stimulus_table = experiments[ophys_experiment_ids[0]].stimulus_presentations.drop(columns = ['image_set']) # dropping the 'image_set' column to avoid confusion. Image_set column contains a unique string for set of images presented in a session.\n",
        "stimulus_table.head(10)"
      ],
      "execution_count": 14,
      "outputs": [
        {
          "output_type": "execute_result",
          "data": {
            "text/html": [
              "<div>\n",
              "<style scoped>\n",
              "    .dataframe tbody tr th:only-of-type {\n",
              "        vertical-align: middle;\n",
              "    }\n",
              "\n",
              "    .dataframe tbody tr th {\n",
              "        vertical-align: top;\n",
              "    }\n",
              "\n",
              "    .dataframe thead th {\n",
              "        text-align: right;\n",
              "    }\n",
              "</style>\n",
              "<table border=\"1\" class=\"dataframe\">\n",
              "  <thead>\n",
              "    <tr style=\"text-align: right;\">\n",
              "      <th></th>\n",
              "      <th>duration</th>\n",
              "      <th>end_frame</th>\n",
              "      <th>image_index</th>\n",
              "      <th>image_name</th>\n",
              "      <th>index</th>\n",
              "      <th>omitted</th>\n",
              "      <th>start_frame</th>\n",
              "      <th>start_time</th>\n",
              "      <th>stop_time</th>\n",
              "      <th>is_change</th>\n",
              "    </tr>\n",
              "    <tr>\n",
              "      <th>stimulus_presentations_id</th>\n",
              "      <th></th>\n",
              "      <th></th>\n",
              "      <th></th>\n",
              "      <th></th>\n",
              "      <th></th>\n",
              "      <th></th>\n",
              "      <th></th>\n",
              "      <th></th>\n",
              "      <th></th>\n",
              "      <th></th>\n",
              "    </tr>\n",
              "  </thead>\n",
              "  <tbody>\n",
              "    <tr>\n",
              "      <th>0</th>\n",
              "      <td>0.25023</td>\n",
              "      <td>18002.0</td>\n",
              "      <td>0</td>\n",
              "      <td>im065</td>\n",
              "      <td>0</td>\n",
              "      <td>False</td>\n",
              "      <td>17987</td>\n",
              "      <td>309.65357</td>\n",
              "      <td>309.90380</td>\n",
              "      <td>False</td>\n",
              "    </tr>\n",
              "    <tr>\n",
              "      <th>1</th>\n",
              "      <td>0.25000</td>\n",
              "      <td>NaN</td>\n",
              "      <td>8</td>\n",
              "      <td>omitted</td>\n",
              "      <td>0</td>\n",
              "      <td>True</td>\n",
              "      <td>18031</td>\n",
              "      <td>310.38755</td>\n",
              "      <td>310.63755</td>\n",
              "      <td>False</td>\n",
              "    </tr>\n",
              "    <tr>\n",
              "      <th>2</th>\n",
              "      <td>0.25021</td>\n",
              "      <td>18092.0</td>\n",
              "      <td>0</td>\n",
              "      <td>im065</td>\n",
              "      <td>1</td>\n",
              "      <td>False</td>\n",
              "      <td>18077</td>\n",
              "      <td>311.15483</td>\n",
              "      <td>311.40504</td>\n",
              "      <td>False</td>\n",
              "    </tr>\n",
              "    <tr>\n",
              "      <th>3</th>\n",
              "      <td>0.25019</td>\n",
              "      <td>18137.0</td>\n",
              "      <td>0</td>\n",
              "      <td>im065</td>\n",
              "      <td>2</td>\n",
              "      <td>False</td>\n",
              "      <td>18122</td>\n",
              "      <td>311.90545</td>\n",
              "      <td>312.15564</td>\n",
              "      <td>False</td>\n",
              "    </tr>\n",
              "    <tr>\n",
              "      <th>4</th>\n",
              "      <td>0.25020</td>\n",
              "      <td>18182.0</td>\n",
              "      <td>3</td>\n",
              "      <td>im061</td>\n",
              "      <td>3</td>\n",
              "      <td>False</td>\n",
              "      <td>18167</td>\n",
              "      <td>312.65605</td>\n",
              "      <td>312.90625</td>\n",
              "      <td>True</td>\n",
              "    </tr>\n",
              "    <tr>\n",
              "      <th>5</th>\n",
              "      <td>0.25019</td>\n",
              "      <td>18227.0</td>\n",
              "      <td>3</td>\n",
              "      <td>im061</td>\n",
              "      <td>4</td>\n",
              "      <td>False</td>\n",
              "      <td>18212</td>\n",
              "      <td>313.40666</td>\n",
              "      <td>313.65685</td>\n",
              "      <td>False</td>\n",
              "    </tr>\n",
              "    <tr>\n",
              "      <th>6</th>\n",
              "      <td>0.25013</td>\n",
              "      <td>18272.0</td>\n",
              "      <td>3</td>\n",
              "      <td>im061</td>\n",
              "      <td>5</td>\n",
              "      <td>False</td>\n",
              "      <td>18257</td>\n",
              "      <td>314.15735</td>\n",
              "      <td>314.40748</td>\n",
              "      <td>False</td>\n",
              "    </tr>\n",
              "    <tr>\n",
              "      <th>7</th>\n",
              "      <td>0.25020</td>\n",
              "      <td>18317.0</td>\n",
              "      <td>3</td>\n",
              "      <td>im061</td>\n",
              "      <td>6</td>\n",
              "      <td>False</td>\n",
              "      <td>18302</td>\n",
              "      <td>314.90789</td>\n",
              "      <td>315.15809</td>\n",
              "      <td>False</td>\n",
              "    </tr>\n",
              "    <tr>\n",
              "      <th>8</th>\n",
              "      <td>0.25019</td>\n",
              "      <td>18362.0</td>\n",
              "      <td>3</td>\n",
              "      <td>im061</td>\n",
              "      <td>7</td>\n",
              "      <td>False</td>\n",
              "      <td>18347</td>\n",
              "      <td>315.65850</td>\n",
              "      <td>315.90869</td>\n",
              "      <td>False</td>\n",
              "    </tr>\n",
              "    <tr>\n",
              "      <th>9</th>\n",
              "      <td>0.25021</td>\n",
              "      <td>18407.0</td>\n",
              "      <td>3</td>\n",
              "      <td>im061</td>\n",
              "      <td>8</td>\n",
              "      <td>False</td>\n",
              "      <td>18392</td>\n",
              "      <td>316.40910</td>\n",
              "      <td>316.65931</td>\n",
              "      <td>False</td>\n",
              "    </tr>\n",
              "  </tbody>\n",
              "</table>\n",
              "</div>"
            ],
            "text/plain": [
              "                           duration  end_frame  image_index image_name  index  \\\n",
              "stimulus_presentations_id                                                       \n",
              "0                           0.25023    18002.0            0      im065      0   \n",
              "1                           0.25000        NaN            8    omitted      0   \n",
              "2                           0.25021    18092.0            0      im065      1   \n",
              "3                           0.25019    18137.0            0      im065      2   \n",
              "4                           0.25020    18182.0            3      im061      3   \n",
              "5                           0.25019    18227.0            3      im061      4   \n",
              "6                           0.25013    18272.0            3      im061      5   \n",
              "7                           0.25020    18317.0            3      im061      6   \n",
              "8                           0.25019    18362.0            3      im061      7   \n",
              "9                           0.25021    18407.0            3      im061      8   \n",
              "\n",
              "                           omitted  start_frame  start_time  stop_time  \\\n",
              "stimulus_presentations_id                                                \n",
              "0                            False        17987   309.65357  309.90380   \n",
              "1                             True        18031   310.38755  310.63755   \n",
              "2                            False        18077   311.15483  311.40504   \n",
              "3                            False        18122   311.90545  312.15564   \n",
              "4                            False        18167   312.65605  312.90625   \n",
              "5                            False        18212   313.40666  313.65685   \n",
              "6                            False        18257   314.15735  314.40748   \n",
              "7                            False        18302   314.90789  315.15809   \n",
              "8                            False        18347   315.65850  315.90869   \n",
              "9                            False        18392   316.40910  316.65931   \n",
              "\n",
              "                           is_change  \n",
              "stimulus_presentations_id             \n",
              "0                              False  \n",
              "1                              False  \n",
              "2                              False  \n",
              "3                              False  \n",
              "4                               True  \n",
              "5                              False  \n",
              "6                              False  \n",
              "7                              False  \n",
              "8                              False  \n",
              "9                              False  "
            ]
          },
          "metadata": {
            "tags": []
          },
          "execution_count": 14
        }
      ]
    },
    {
      "cell_type": "markdown",
      "metadata": {
        "id": "g4XZHR638JXA"
      },
      "source": [
        "Okay. We are now going to use the mindscope_utilities function to create an event related time series for our session of interest in a specific cell. "
      ]
    },
    {
      "cell_type": "code",
      "metadata": {
        "colab": {
          "base_uri": "https://localhost:8080/",
          "height": 411
        },
        "id": "vNn0DAIB8vb7",
        "outputId": "7272671e-1d5f-42db-f770-72d8ebd0fe66"
      },
      "source": [
        "cell_id = cell_ids[11]\n",
        "celltype= 'Sst-IRES-Cre'\n",
        "etr = mindscope_utilities.event_triggered_response(\n",
        "    neural_data.query('cell_specimen_id == @cell_id and cre_line == @celltype'),\n",
        "    t = 'timestamps',\n",
        "    y = 'dff',\n",
        "    event_times = stimulus_table.query('is_change')['start_time'],\n",
        "    t_before=0, # 0ms\n",
        "    t_after=.6, # 600ms\n",
        "    output_sampling_rate = 100,\n",
        ")\n",
        "etr"
      ],
      "execution_count": 15,
      "outputs": [
        {
          "output_type": "execute_result",
          "data": {
            "text/html": [
              "<div>\n",
              "<style scoped>\n",
              "    .dataframe tbody tr th:only-of-type {\n",
              "        vertical-align: middle;\n",
              "    }\n",
              "\n",
              "    .dataframe tbody tr th {\n",
              "        vertical-align: top;\n",
              "    }\n",
              "\n",
              "    .dataframe thead th {\n",
              "        text-align: right;\n",
              "    }\n",
              "</style>\n",
              "<table border=\"1\" class=\"dataframe\">\n",
              "  <thead>\n",
              "    <tr style=\"text-align: right;\">\n",
              "      <th></th>\n",
              "      <th>time</th>\n",
              "      <th>dff</th>\n",
              "      <th>event_number</th>\n",
              "      <th>event_time</th>\n",
              "    </tr>\n",
              "  </thead>\n",
              "  <tbody>\n",
              "    <tr>\n",
              "      <th>0</th>\n",
              "      <td>0.00</td>\n",
              "      <td>0.202468</td>\n",
              "      <td>0</td>\n",
              "      <td>312.65605</td>\n",
              "    </tr>\n",
              "    <tr>\n",
              "      <th>1</th>\n",
              "      <td>0.01</td>\n",
              "      <td>0.202468</td>\n",
              "      <td>0</td>\n",
              "      <td>312.65605</td>\n",
              "    </tr>\n",
              "    <tr>\n",
              "      <th>2</th>\n",
              "      <td>0.02</td>\n",
              "      <td>0.202468</td>\n",
              "      <td>0</td>\n",
              "      <td>312.65605</td>\n",
              "    </tr>\n",
              "    <tr>\n",
              "      <th>3</th>\n",
              "      <td>0.03</td>\n",
              "      <td>0.202468</td>\n",
              "      <td>0</td>\n",
              "      <td>312.65605</td>\n",
              "    </tr>\n",
              "    <tr>\n",
              "      <th>4</th>\n",
              "      <td>0.04</td>\n",
              "      <td>0.197763</td>\n",
              "      <td>0</td>\n",
              "      <td>312.65605</td>\n",
              "    </tr>\n",
              "    <tr>\n",
              "      <th>...</th>\n",
              "      <td>...</td>\n",
              "      <td>...</td>\n",
              "      <td>...</td>\n",
              "      <td>...</td>\n",
              "    </tr>\n",
              "    <tr>\n",
              "      <th>21711</th>\n",
              "      <td>0.56</td>\n",
              "      <td>-0.104252</td>\n",
              "      <td>355</td>\n",
              "      <td>3910.89639</td>\n",
              "    </tr>\n",
              "    <tr>\n",
              "      <th>21712</th>\n",
              "      <td>0.57</td>\n",
              "      <td>-0.103097</td>\n",
              "      <td>355</td>\n",
              "      <td>3910.89639</td>\n",
              "    </tr>\n",
              "    <tr>\n",
              "      <th>21713</th>\n",
              "      <td>0.58</td>\n",
              "      <td>-0.103055</td>\n",
              "      <td>355</td>\n",
              "      <td>3910.89639</td>\n",
              "    </tr>\n",
              "    <tr>\n",
              "      <th>21714</th>\n",
              "      <td>0.59</td>\n",
              "      <td>-0.103055</td>\n",
              "      <td>355</td>\n",
              "      <td>3910.89639</td>\n",
              "    </tr>\n",
              "    <tr>\n",
              "      <th>21715</th>\n",
              "      <td>0.60</td>\n",
              "      <td>-0.103055</td>\n",
              "      <td>355</td>\n",
              "      <td>3910.89639</td>\n",
              "    </tr>\n",
              "  </tbody>\n",
              "</table>\n",
              "<p>21716 rows × 4 columns</p>\n",
              "</div>"
            ],
            "text/plain": [
              "       time       dff  event_number  event_time\n",
              "0      0.00  0.202468             0   312.65605\n",
              "1      0.01  0.202468             0   312.65605\n",
              "2      0.02  0.202468             0   312.65605\n",
              "3      0.03  0.202468             0   312.65605\n",
              "4      0.04  0.197763             0   312.65605\n",
              "...     ...       ...           ...         ...\n",
              "21711  0.56 -0.104252           355  3910.89639\n",
              "21712  0.57 -0.103097           355  3910.89639\n",
              "21713  0.58 -0.103055           355  3910.89639\n",
              "21714  0.59 -0.103055           355  3910.89639\n",
              "21715  0.60 -0.103055           355  3910.89639\n",
              "\n",
              "[21716 rows x 4 columns]"
            ]
          },
          "metadata": {
            "tags": []
          },
          "execution_count": 15
        }
      ]
    },
    {
      "cell_type": "markdown",
      "metadata": {
        "id": "KbFknc9O-iXI"
      },
      "source": [
        "Yay! Lets generate our first plot. To recap this is an average response for an SST cell (inhibitory interneuron) from 0 to 600ms post stimulus onset in a passive session with image set A"
      ]
    },
    {
      "cell_type": "code",
      "metadata": {
        "colab": {
          "base_uri": "https://localhost:8080/",
          "height": 294
        },
        "id": "pzXmAEq1-dQJ",
        "outputId": "557b05c5-dce5-4e25-d72a-dad6db56463b"
      },
      "source": [
        "sns.lineplot(\n",
        "    data=etr,\n",
        "    x='time',\n",
        "    y='dff',\n",
        "    n_boot=500\n",
        ")"
      ],
      "execution_count": 16,
      "outputs": [
        {
          "output_type": "execute_result",
          "data": {
            "text/plain": [
              "<matplotlib.axes._subplots.AxesSubplot at 0x7f81368a40d0>"
            ]
          },
          "metadata": {
            "tags": []
          },
          "execution_count": 16
        },
        {
          "output_type": "display_data",
          "data": {
            "image/png": "[encoded data removed]",
            "text/plain": [
              "<Figure size 432x288 with 1 Axes>"
            ]
          },
          "metadata": {
            "tags": [],
            "needs_background": "light"
          }
        }
      ]
    },
    {
      "cell_type": "markdown",
      "metadata": {
        "id": "DU6cWR6t-EvS"
      },
      "source": [
        "NOTE TO SELF we have loaded the data, the stimulus info and have the cell ids we now just need to use the **bold text**"
      ]
    }
  ]
}