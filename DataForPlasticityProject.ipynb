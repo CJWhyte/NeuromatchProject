{
  "nbformat": 4,
  "nbformat_minor": 0,
  "metadata": {
    "colab": {
      "name": "DataForPlasticityProject.ipynb",
      "provenance": [],
      "collapsed_sections": [],
      "authorship_tag": "ABX9TyPeddSPtuteEgQpFcCJrJGQ",
      "include_colab_link": true
    },
    "kernelspec": {
      "name": "python3",
      "display_name": "Python 3"
    },
    "language_info": {
      "name": "python"
    }
  },
  "cells": [
    {
      "cell_type": "markdown",
      "metadata": {
        "id": "view-in-github",
        "colab_type": "text"
      },
      "source": [
        "<a href=\"https://colab.research.google.com/github/CJWhyte/NeuromatchProject/blob/main/DataForPlasticityProject.ipynb\" target=\"_parent\"><img src=\"https://colab.research.google.com/assets/colab-badge.svg\" alt=\"Open In Colab\"/></a>"
      ]
    },
    {
      "cell_type": "markdown",
      "metadata": {
        "id": "qMV0vNZZobsX"
      },
      "source": [
        "This script extracts the following data from the Allen Brain Institute dataset: \n",
        "\n",
        "*   Inhibitory (SST and VIP) and excitatory cells\n",
        "*   Passive viewing of familair and novel stim\n",
        "*   0-600ms\n",
        "*   Single scope recording\n",
        "\n",
        "Note. During the 2-photon imaging portion of the experiment, mice perform the task with the same set of images they saw during training (either image set A or B), as well as an additional novel set of images (whichever of A or B that they did not see during training). This allows evaluation of the impact of different sensory contexts on neural activity - familiarity versus novelty. Sessions with familiar images include those starting with OPHYS_0, OPHYS_1, OPHYS_2, and OPHYS_3. Sessions with novel images include those starting with OPHYS_4, OPHYS_5, and OPHYS_6. To recap:\n",
        "\n",
        "**Familiar**\n",
        "*   OPHYS_0, OPHYS_1, OPHYS_2, and OPHYS_3\n",
        "\n",
        "**Novel**\n",
        "*   OPHYS_4, OPHYS_5, and OPHYS_6.\n",
        "\n",
        "\n",
        "Interleaved between active behavior sessions are passive viewing sessions where mice are given their daily water ahead of the sesssion (and are thus satiated) and view the stimulus with the lick spout retracted so they are unable to earn water rewards. This allows comparison of neural activity in response to stimuli under different behavioral context - active task engagement and passive viewing without reward. Passive sessions include OPHYS_2_images_A_passive (passive session with familiar images), and OPHYS_5_images_A_passive (passive session with novel images). To recap:\n"
      ]
    },
    {
      "cell_type": "markdown",
      "metadata": {
        "id": "zzVEoVuKGXvY"
      },
      "source": [
        "Load necessary packages. Make sure to click restart runtime to get package to work"
      ]
    },
    {
      "cell_type": "code",
      "metadata": {
        "id": "wKFxgoFgQgaX",
        "colab": {
          "base_uri": "https://localhost:8080/"
        },
        "outputId": "6514c25f-e9e6-4f2a-bb30-59157f4c1a7f"
      },
      "source": [
        "!python -m pip install --upgrade pip\n",
        "!pip install mindscope_utilities --upgrade"
      ],
      "execution_count": 1,
      "outputs": [
        {
          "output_type": "stream",
          "text": [
            "Requirement already satisfied: pip in /usr/local/lib/python3.7/dist-packages (21.1.3)\n",
            "\u001b[33mWARNING: Running pip as the 'root' user can result in broken permissions and conflicting behaviour with the system package manager. It is recommended to use a virtual environment instead: https://pip.pypa.io/warnings/venv\u001b[0m\n",
            "Requirement already satisfied: mindscope_utilities in /usr/local/lib/python3.7/dist-packages (0.1.7)\n",
            "Requirement already satisfied: pytest in /usr/local/lib/python3.7/dist-packages (from mindscope_utilities) (3.6.4)\n",
            "Requirement already satisfied: allensdk==2.11.2 in /usr/local/lib/python3.7/dist-packages (from mindscope_utilities) (2.11.2)\n",
            "Requirement already satisfied: flake8 in /usr/local/lib/python3.7/dist-packages (from mindscope_utilities) (3.9.2)\n",
            "Requirement already satisfied: scikit-image<0.17.0,>=0.14.0 in /usr/local/lib/python3.7/dist-packages (from allensdk==2.11.2->mindscope_utilities) (0.16.2)\n",
            "Requirement already satisfied: tables<4.0.0,>=3.6.0 in /usr/local/lib/python3.7/dist-packages (from allensdk==2.11.2->mindscope_utilities) (3.6.1)\n",
            "Requirement already satisfied: nest-asyncio==1.2.0 in /usr/local/lib/python3.7/dist-packages (from allensdk==2.11.2->mindscope_utilities) (1.2.0)\n",
            "Requirement already satisfied: matplotlib<4.0.0,>=1.4.3 in /usr/local/lib/python3.7/dist-packages (from allensdk==2.11.2->mindscope_utilities) (3.2.2)\n",
            "Requirement already satisfied: scikit-build<1.0.0 in /usr/local/lib/python3.7/dist-packages (from allensdk==2.11.2->mindscope_utilities) (0.11.1)\n",
            "Requirement already satisfied: pynrrd<1.0.0,>=0.2.1 in /usr/local/lib/python3.7/dist-packages (from allensdk==2.11.2->mindscope_utilities) (0.4.2)\n",
            "Requirement already satisfied: simpleitk<3.0.0,>=2.0.2 in /usr/local/lib/python3.7/dist-packages (from allensdk==2.11.2->mindscope_utilities) (2.0.2)\n",
            "Requirement already satisfied: seaborn<1.0.0 in /usr/local/lib/python3.7/dist-packages (from allensdk==2.11.2->mindscope_utilities) (0.11.1)\n",
            "Requirement already satisfied: statsmodels<=0.13.0 in /usr/local/lib/python3.7/dist-packages (from allensdk==2.11.2->mindscope_utilities) (0.10.2)\n",
            "Requirement already satisfied: argschema<3.0.0 in /usr/local/lib/python3.7/dist-packages (from allensdk==2.11.2->mindscope_utilities) (2.0.2)\n",
            "Requirement already satisfied: six<2.0.0,>=1.9.0 in /usr/local/lib/python3.7/dist-packages (from allensdk==2.11.2->mindscope_utilities) (1.15.0)\n",
            "Requirement already satisfied: jinja2<2.12.0,>=2.7.3 in /usr/local/lib/python3.7/dist-packages (from allensdk==2.11.2->mindscope_utilities) (2.11.3)\n",
            "Requirement already satisfied: aiohttp==3.7.4 in /usr/local/lib/python3.7/dist-packages (from allensdk==2.11.2->mindscope_utilities) (3.7.4)\n",
            "Requirement already satisfied: future<1.0.0,>=0.14.3 in /usr/local/lib/python3.7/dist-packages (from allensdk==2.11.2->mindscope_utilities) (0.16.0)\n",
            "Requirement already satisfied: requests-toolbelt<1.0.0 in /usr/local/lib/python3.7/dist-packages (from allensdk==2.11.2->mindscope_utilities) (0.9.1)\n",
            "Requirement already satisfied: psycopg2-binary<3.0.0,>=2.7 in /usr/local/lib/python3.7/dist-packages (from allensdk==2.11.2->mindscope_utilities) (2.9.1)\n",
            "Requirement already satisfied: boto3==1.17.21 in /usr/local/lib/python3.7/dist-packages (from allensdk==2.11.2->mindscope_utilities) (1.17.21)\n",
            "Requirement already satisfied: requests<3.0.0 in /usr/local/lib/python3.7/dist-packages (from allensdk==2.11.2->mindscope_utilities) (2.23.0)\n",
            "Requirement already satisfied: simplejson<4.0.0,>=3.10.0 in /usr/local/lib/python3.7/dist-packages (from allensdk==2.11.2->mindscope_utilities) (3.17.3)\n",
            "Requirement already satisfied: numpy<1.19.0,>=1.15.4 in /usr/local/lib/python3.7/dist-packages (from allensdk==2.11.2->mindscope_utilities) (1.18.5)\n",
            "Requirement already satisfied: glymur==0.8.19 in /usr/local/lib/python3.7/dist-packages (from allensdk==2.11.2->mindscope_utilities) (0.8.19)\n",
            "Requirement already satisfied: scipy<2.0.0,>=1.4.0 in /usr/local/lib/python3.7/dist-packages (from allensdk==2.11.2->mindscope_utilities) (1.4.1)\n",
            "Requirement already satisfied: h5py<3.0.0,>=2.8 in /usr/local/lib/python3.7/dist-packages (from allensdk==2.11.2->mindscope_utilities) (2.10.0)\n",
            "Requirement already satisfied: tqdm>=4.27 in /usr/local/lib/python3.7/dist-packages (from allensdk==2.11.2->mindscope_utilities) (4.41.1)\n",
            "Requirement already satisfied: ndx-events<=0.2.0 in /usr/local/lib/python3.7/dist-packages (from allensdk==2.11.2->mindscope_utilities) (0.2.0)\n",
            "Requirement already satisfied: hdmf<2.5.0 in /usr/local/lib/python3.7/dist-packages (from allensdk==2.11.2->mindscope_utilities) (2.4.0)\n",
            "Requirement already satisfied: pandas<=0.25.3,>=0.25.1 in /usr/local/lib/python3.7/dist-packages (from allensdk==2.11.2->mindscope_utilities) (0.25.3)\n",
            "Requirement already satisfied: xarray<0.16.0 in /usr/local/lib/python3.7/dist-packages (from allensdk==2.11.2->mindscope_utilities) (0.15.1)\n",
            "Requirement already satisfied: marshmallow==3.0.0rc6 in /usr/local/lib/python3.7/dist-packages (from allensdk==2.11.2->mindscope_utilities) (3.0.0rc6)\n",
            "Requirement already satisfied: pynwb<2.0.0,>=1.3.2 in /usr/local/lib/python3.7/dist-packages (from allensdk==2.11.2->mindscope_utilities) (1.4.0)\n",
            "Requirement already satisfied: semver in /usr/local/lib/python3.7/dist-packages (from allensdk==2.11.2->mindscope_utilities) (2.13.0)\n",
            "Requirement already satisfied: yarl<2.0,>=1.0 in /usr/local/lib/python3.7/dist-packages (from aiohttp==3.7.4->allensdk==2.11.2->mindscope_utilities) (1.6.3)\n",
            "Requirement already satisfied: typing-extensions>=3.6.5 in /usr/local/lib/python3.7/dist-packages (from aiohttp==3.7.4->allensdk==2.11.2->mindscope_utilities) (3.7.4.3)\n",
            "Requirement already satisfied: attrs>=17.3.0 in /usr/local/lib/python3.7/dist-packages (from aiohttp==3.7.4->allensdk==2.11.2->mindscope_utilities) (21.2.0)\n",
            "Requirement already satisfied: chardet<4.0,>=2.0 in /usr/local/lib/python3.7/dist-packages (from aiohttp==3.7.4->allensdk==2.11.2->mindscope_utilities) (3.0.4)\n",
            "Requirement already satisfied: multidict<7.0,>=4.5 in /usr/local/lib/python3.7/dist-packages (from aiohttp==3.7.4->allensdk==2.11.2->mindscope_utilities) (5.1.0)\n",
            "Requirement already satisfied: async-timeout<4.0,>=3.0 in /usr/local/lib/python3.7/dist-packages (from aiohttp==3.7.4->allensdk==2.11.2->mindscope_utilities) (3.0.1)\n",
            "Requirement already satisfied: jmespath<1.0.0,>=0.7.1 in /usr/local/lib/python3.7/dist-packages (from boto3==1.17.21->allensdk==2.11.2->mindscope_utilities) (0.10.0)\n",
            "Requirement already satisfied: s3transfer<0.4.0,>=0.3.0 in /usr/local/lib/python3.7/dist-packages (from boto3==1.17.21->allensdk==2.11.2->mindscope_utilities) (0.3.7)\n",
            "Requirement already satisfied: botocore<1.21.0,>=1.20.21 in /usr/local/lib/python3.7/dist-packages (from boto3==1.17.21->allensdk==2.11.2->mindscope_utilities) (1.20.112)\n",
            "Requirement already satisfied: setuptools in /usr/local/lib/python3.7/dist-packages (from glymur==0.8.19->allensdk==2.11.2->mindscope_utilities) (57.0.0)\n",
            "Requirement already satisfied: python-dateutil<3.0.0,>=2.1 in /usr/local/lib/python3.7/dist-packages (from botocore<1.21.0,>=1.20.21->boto3==1.17.21->allensdk==2.11.2->mindscope_utilities) (2.8.1)\n",
            "Requirement already satisfied: urllib3<1.27,>=1.25.4 in /usr/local/lib/python3.7/dist-packages (from botocore<1.21.0,>=1.20.21->boto3==1.17.21->allensdk==2.11.2->mindscope_utilities) (1.25.11)\n",
            "Requirement already satisfied: ruamel.yaml<1,>=0.15 in /usr/local/lib/python3.7/dist-packages (from hdmf<2.5.0->allensdk==2.11.2->mindscope_utilities) (0.17.10)\n",
            "Requirement already satisfied: jsonschema<4,>=2.6.0 in /usr/local/lib/python3.7/dist-packages (from hdmf<2.5.0->allensdk==2.11.2->mindscope_utilities) (2.6.0)\n",
            "Requirement already satisfied: MarkupSafe>=0.23 in /usr/local/lib/python3.7/dist-packages (from jinja2<2.12.0,>=2.7.3->allensdk==2.11.2->mindscope_utilities) (2.0.1)\n",
            "Requirement already satisfied: pyparsing!=2.0.4,!=2.1.2,!=2.1.6,>=2.0.1 in /usr/local/lib/python3.7/dist-packages (from matplotlib<4.0.0,>=1.4.3->allensdk==2.11.2->mindscope_utilities) (2.4.7)\n",
            "Requirement already satisfied: cycler>=0.10 in /usr/local/lib/python3.7/dist-packages (from matplotlib<4.0.0,>=1.4.3->allensdk==2.11.2->mindscope_utilities) (0.10.0)\n",
            "Requirement already satisfied: kiwisolver>=1.0.1 in /usr/local/lib/python3.7/dist-packages (from matplotlib<4.0.0,>=1.4.3->allensdk==2.11.2->mindscope_utilities) (1.3.1)\n",
            "Requirement already satisfied: pytz>=2017.2 in /usr/local/lib/python3.7/dist-packages (from pandas<=0.25.3,>=0.25.1->allensdk==2.11.2->mindscope_utilities) (2018.9)\n",
            "Requirement already satisfied: idna<3,>=2.5 in /usr/local/lib/python3.7/dist-packages (from requests<3.0.0->allensdk==2.11.2->mindscope_utilities) (2.10)\n",
            "Requirement already satisfied: certifi>=2017.4.17 in /usr/local/lib/python3.7/dist-packages (from requests<3.0.0->allensdk==2.11.2->mindscope_utilities) (2021.5.30)\n",
            "Requirement already satisfied: ruamel.yaml.clib>=0.1.2 in /usr/local/lib/python3.7/dist-packages (from ruamel.yaml<1,>=0.15->hdmf<2.5.0->allensdk==2.11.2->mindscope_utilities) (0.2.6)\n",
            "Requirement already satisfied: packaging in /usr/local/lib/python3.7/dist-packages (from scikit-build<1.0.0->allensdk==2.11.2->mindscope_utilities) (21.0)\n",
            "Requirement already satisfied: distro in /usr/local/lib/python3.7/dist-packages (from scikit-build<1.0.0->allensdk==2.11.2->mindscope_utilities) (1.5.0)\n",
            "Requirement already satisfied: wheel>=0.29.0 in /usr/local/lib/python3.7/dist-packages (from scikit-build<1.0.0->allensdk==2.11.2->mindscope_utilities) (0.36.2)\n",
            "Requirement already satisfied: networkx>=2.0 in /usr/local/lib/python3.7/dist-packages (from scikit-image<0.17.0,>=0.14.0->allensdk==2.11.2->mindscope_utilities) (2.5.1)\n",
            "Requirement already satisfied: pillow>=4.3.0 in /usr/local/lib/python3.7/dist-packages (from scikit-image<0.17.0,>=0.14.0->allensdk==2.11.2->mindscope_utilities) (7.1.2)\n",
            "Requirement already satisfied: PyWavelets>=0.4.0 in /usr/local/lib/python3.7/dist-packages (from scikit-image<0.17.0,>=0.14.0->allensdk==2.11.2->mindscope_utilities) (1.1.1)\n",
            "Requirement already satisfied: imageio>=2.3.0 in /usr/local/lib/python3.7/dist-packages (from scikit-image<0.17.0,>=0.14.0->allensdk==2.11.2->mindscope_utilities) (2.4.1)\n",
            "Requirement already satisfied: decorator<5,>=4.3 in /usr/local/lib/python3.7/dist-packages (from networkx>=2.0->scikit-image<0.17.0,>=0.14.0->allensdk==2.11.2->mindscope_utilities) (4.4.2)\n",
            "Requirement already satisfied: patsy>=0.4.0 in /usr/local/lib/python3.7/dist-packages (from statsmodels<=0.13.0->allensdk==2.11.2->mindscope_utilities) (0.5.1)\n",
            "Requirement already satisfied: numexpr>=2.6.2 in /usr/local/lib/python3.7/dist-packages (from tables<4.0.0,>=3.6.0->allensdk==2.11.2->mindscope_utilities) (2.7.3)\n",
            "Requirement already satisfied: mccabe<0.7.0,>=0.6.0 in /usr/local/lib/python3.7/dist-packages (from flake8->mindscope_utilities) (0.6.1)\n",
            "Requirement already satisfied: pyflakes<2.4.0,>=2.3.0 in /usr/local/lib/python3.7/dist-packages (from flake8->mindscope_utilities) (2.3.1)\n",
            "Requirement already satisfied: pycodestyle<2.8.0,>=2.7.0 in /usr/local/lib/python3.7/dist-packages (from flake8->mindscope_utilities) (2.7.0)\n",
            "Requirement already satisfied: importlib-metadata in /usr/local/lib/python3.7/dist-packages (from flake8->mindscope_utilities) (4.6.1)\n",
            "Requirement already satisfied: zipp>=0.5 in /usr/local/lib/python3.7/dist-packages (from importlib-metadata->flake8->mindscope_utilities) (3.5.0)\n",
            "Requirement already satisfied: more-itertools>=4.0.0 in /usr/local/lib/python3.7/dist-packages (from pytest->mindscope_utilities) (8.8.0)\n",
            "Requirement already satisfied: atomicwrites>=1.0 in /usr/local/lib/python3.7/dist-packages (from pytest->mindscope_utilities) (1.4.0)\n",
            "Requirement already satisfied: pluggy<0.8,>=0.5 in /usr/local/lib/python3.7/dist-packages (from pytest->mindscope_utilities) (0.7.1)\n",
            "Requirement already satisfied: py>=1.5.0 in /usr/local/lib/python3.7/dist-packages (from pytest->mindscope_utilities) (1.10.0)\n",
            "\u001b[33mWARNING: Running pip as the 'root' user can result in broken permissions and conflicting behaviour with the system package manager. It is recommended to use a virtual environment instead: https://pip.pypa.io/warnings/venv\u001b[0m\n"
          ],
          "name": "stdout"
        }
      ]
    },
    {
      "cell_type": "markdown",
      "metadata": {
        "id": "Aeoo4-aSQl8c"
      },
      "source": [
        "load packages"
      ]
    },
    {
      "cell_type": "code",
      "metadata": {
        "id": "KEj-7zDKQyDP"
      },
      "source": [
        "import os\n",
        "import numpy as np\n",
        "import pandas as pd\n",
        "from tqdm import tqdm\n",
        "import seaborn as sns\n",
        "import matplotlib.pyplot as plt\n",
        "\n",
        "import mindscope_utilities\n",
        "import mindscope_utilities.visual_behavior_ophys as ophys\n",
        "\n",
        "from allensdk.brain_observatory.behavior.behavior_project_cache import VisualBehaviorOphysProjectCache\n",
        "\n",
        "pd.set_option('display.max_columns', 500)"
      ],
      "execution_count": 2,
      "outputs": []
    },
    {
      "cell_type": "markdown",
      "metadata": {
        "id": "JZPbbbs7Ru7Z"
      },
      "source": [
        "load summary tables"
      ]
    },
    {
      "cell_type": "code",
      "metadata": {
        "id": "iHIoYJKRSHQS"
      },
      "source": [
        "data_storage_directory = \"/temp\" # Note: this path must exist on your local drive\n",
        "cache = VisualBehaviorOphysProjectCache.from_s3_cache(cache_dir=data_storage_directory)"
      ],
      "execution_count": 3,
      "outputs": []
    },
    {
      "cell_type": "markdown",
      "metadata": {
        "id": "2ACg0YojSJNS"
      },
      "source": [
        "`Ophys_session_table`\n",
        "\n",
        "\n",
        "contains metadata describing imaging sessions. If more than one plane was imaged during a session, one ophys session id will be associated multiple ophys experiment ids. Each ophys session id will also have a unique behavior session id.\n",
        "\n",
        "`Behavior_session_table `\n",
        "\n",
        "ontains metadata describing behavioral sessions, which may or may not be during imaging. Behavior session ids that do not have ophys session ids were training sessions.\n",
        "\n",
        "`Ophys_experiment_table`\n",
        "\n",
        "contains metadata describing imaging experiments (aka imaging planes). When mesoscope is used, one ophys session may contain up to 8 unique experiments (two visual areas by four imaging depths). Some imaging planes may not be released due to quality control issues, thus each ophys session id is associated with anywhere from one to eight unique experiment ids. Ophys experiment ids are unique and do not repeat across sessions. To find the same imaging plane that was matched across multiple sessions, use the ophys_container_id column that can be found in both ophys_session_table and ophys_experiment_table.\n",
        "\n",
        "**We show all three tables below**"
      ]
    },
    {
      "cell_type": "code",
      "metadata": {
        "id": "4S8QzFFFTl90"
      },
      "source": [
        "ophys_session_table = cache.get_ophys_session_table()\n",
        "ophys_experiment_table = cache.get_ophys_experiment_table()"
      ],
      "execution_count": 4,
      "outputs": []
    },
    {
      "cell_type": "markdown",
      "metadata": {
        "id": "TS4BRiuWnjrK"
      },
      "source": [
        "We can now view the contents of each table \n"
      ]
    },
    {
      "cell_type": "code",
      "metadata": {
        "colab": {
          "base_uri": "https://localhost:8080/"
        },
        "id": "pEsrxyYGnnhm",
        "outputId": "b577cf23-6038-4810-a569-a068e61798f7"
      },
      "source": [
        "ophys_session_table.session_type.unique()"
      ],
      "execution_count": 5,
      "outputs": [
        {
          "output_type": "execute_result",
          "data": {
            "text/plain": [
              "array(['OPHYS_1_images_A', 'OPHYS_2_images_A_passive', 'OPHYS_3_images_A',\n",
              "       'OPHYS_4_images_B', 'OPHYS_5_images_B_passive', 'OPHYS_6_images_B',\n",
              "       'OPHYS_1_images_B', 'OPHYS_2_images_B_passive', 'OPHYS_3_images_B',\n",
              "       'OPHYS_4_images_A', 'OPHYS_6_images_A', 'OPHYS_5_images_A_passive'],\n",
              "      dtype=object)"
            ]
          },
          "metadata": {
            "tags": []
          },
          "execution_count": 5
        }
      ]
    },
    {
      "cell_type": "markdown",
      "metadata": {
        "id": "jLTvwFAMbbl3"
      },
      "source": [
        "We want OPHYS_2_images_A_passive (familair) and OPHYS_5_images_A_passive (novel)\n"
      ]
    },
    {
      "cell_type": "code",
      "metadata": {
        "colab": {
          "base_uri": "https://localhost:8080/"
        },
        "id": "bTiRbF6fnp10",
        "outputId": "17108593-ec56-453e-bc15-0fb087d8a017"
      },
      "source": [
        "ophys_experiment_table.session_type.unique()"
      ],
      "execution_count": 6,
      "outputs": [
        {
          "output_type": "execute_result",
          "data": {
            "text/plain": [
              "array(['OPHYS_1_images_A', 'OPHYS_2_images_A_passive', 'OPHYS_3_images_A',\n",
              "       'OPHYS_4_images_B', 'OPHYS_5_images_B_passive', 'OPHYS_6_images_B',\n",
              "       'OPHYS_1_images_B', 'OPHYS_2_images_B_passive', 'OPHYS_3_images_B',\n",
              "       'OPHYS_4_images_A', 'OPHYS_6_images_A', 'OPHYS_5_images_A_passive'],\n",
              "      dtype=object)"
            ]
          },
          "metadata": {
            "tags": []
          },
          "execution_count": 6
        }
      ]
    },
    {
      "cell_type": "markdown",
      "metadata": {
        "id": "kZciWw0IoCzL"
      },
      "source": [
        "With the conditions of each session listed above we need more information about cell type and column names in the data which we get below"
      ]
    },
    {
      "cell_type": "code",
      "metadata": {
        "colab": {
          "base_uri": "https://localhost:8080/",
          "height": 482
        },
        "id": "4Q-3SmJtrD2w",
        "outputId": "1b071050-174c-496b-c64e-83a80a1fa80f"
      },
      "source": [
        "ophys_session_table.head()"
      ],
      "execution_count": 7,
      "outputs": [
        {
          "output_type": "execute_result",
          "data": {
            "text/html": [
              "<div>\n",
              "<style scoped>\n",
              "    .dataframe tbody tr th:only-of-type {\n",
              "        vertical-align: middle;\n",
              "    }\n",
              "\n",
              "    .dataframe tbody tr th {\n",
              "        vertical-align: top;\n",
              "    }\n",
              "\n",
              "    .dataframe thead th {\n",
              "        text-align: right;\n",
              "    }\n",
              "</style>\n",
              "<table border=\"1\" class=\"dataframe\">\n",
              "  <thead>\n",
              "    <tr style=\"text-align: right;\">\n",
              "      <th></th>\n",
              "      <th>equipment_name</th>\n",
              "      <th>full_genotype</th>\n",
              "      <th>mouse_id</th>\n",
              "      <th>reporter_line</th>\n",
              "      <th>driver_line</th>\n",
              "      <th>sex</th>\n",
              "      <th>age_in_days</th>\n",
              "      <th>cre_line</th>\n",
              "      <th>indicator</th>\n",
              "      <th>session_number</th>\n",
              "      <th>prior_exposures_to_session_type</th>\n",
              "      <th>prior_exposures_to_image_set</th>\n",
              "      <th>prior_exposures_to_omissions</th>\n",
              "      <th>behavior_session_id</th>\n",
              "      <th>ophys_experiment_id</th>\n",
              "      <th>ophys_container_id</th>\n",
              "      <th>project_code</th>\n",
              "      <th>date_of_acquisition</th>\n",
              "      <th>session_type</th>\n",
              "    </tr>\n",
              "    <tr>\n",
              "      <th>ophys_session_id</th>\n",
              "      <th></th>\n",
              "      <th></th>\n",
              "      <th></th>\n",
              "      <th></th>\n",
              "      <th></th>\n",
              "      <th></th>\n",
              "      <th></th>\n",
              "      <th></th>\n",
              "      <th></th>\n",
              "      <th></th>\n",
              "      <th></th>\n",
              "      <th></th>\n",
              "      <th></th>\n",
              "      <th></th>\n",
              "      <th></th>\n",
              "      <th></th>\n",
              "      <th></th>\n",
              "      <th></th>\n",
              "      <th></th>\n",
              "    </tr>\n",
              "  </thead>\n",
              "  <tbody>\n",
              "    <tr>\n",
              "      <th>951410079</th>\n",
              "      <td>MESO.1</td>\n",
              "      <td>Sst-IRES-Cre/wt;Ai148(TIT2L-GC6f-ICL-tTA2)/wt</td>\n",
              "      <td>457841</td>\n",
              "      <td>Ai148(TIT2L-GC6f-ICL-tTA2)</td>\n",
              "      <td>[Sst-IRES-Cre]</td>\n",
              "      <td>F</td>\n",
              "      <td>206.0</td>\n",
              "      <td>Sst-IRES-Cre</td>\n",
              "      <td>GCaMP6f</td>\n",
              "      <td>1.0</td>\n",
              "      <td>0</td>\n",
              "      <td>65.0</td>\n",
              "      <td>0</td>\n",
              "      <td>951520319</td>\n",
              "      <td>[951980471, 951980473, 951980475, 951980479, 9...</td>\n",
              "      <td>[1018028339, 1018028342, 1018028345, 101802835...</td>\n",
              "      <td>VisualBehaviorMultiscope</td>\n",
              "      <td>2019-09-20 09:45:29.897856</td>\n",
              "      <td>OPHYS_1_images_A</td>\n",
              "    </tr>\n",
              "    <tr>\n",
              "      <th>952430817</th>\n",
              "      <td>MESO.1</td>\n",
              "      <td>Sst-IRES-Cre/wt;Ai148(TIT2L-GC6f-ICL-tTA2)/wt</td>\n",
              "      <td>457841</td>\n",
              "      <td>Ai148(TIT2L-GC6f-ICL-tTA2)</td>\n",
              "      <td>[Sst-IRES-Cre]</td>\n",
              "      <td>F</td>\n",
              "      <td>209.0</td>\n",
              "      <td>Sst-IRES-Cre</td>\n",
              "      <td>GCaMP6f</td>\n",
              "      <td>2.0</td>\n",
              "      <td>0</td>\n",
              "      <td>66.0</td>\n",
              "      <td>1</td>\n",
              "      <td>952554548</td>\n",
              "      <td>[953659743, 953659745, 953659749, 953659752]</td>\n",
              "      <td>[1018028339, 1018028345, 1018028354, 1018028357]</td>\n",
              "      <td>VisualBehaviorMultiscope</td>\n",
              "      <td>2019-09-23 08:13:07.627573</td>\n",
              "      <td>OPHYS_2_images_A_passive</td>\n",
              "    </tr>\n",
              "    <tr>\n",
              "      <th>954954402</th>\n",
              "      <td>MESO.1</td>\n",
              "      <td>Sst-IRES-Cre/wt;Ai148(TIT2L-GC6f-ICL-tTA2)/wt</td>\n",
              "      <td>457841</td>\n",
              "      <td>Ai148(TIT2L-GC6f-ICL-tTA2)</td>\n",
              "      <td>[Sst-IRES-Cre]</td>\n",
              "      <td>F</td>\n",
              "      <td>210.0</td>\n",
              "      <td>Sst-IRES-Cre</td>\n",
              "      <td>GCaMP6f</td>\n",
              "      <td>3.0</td>\n",
              "      <td>0</td>\n",
              "      <td>67.0</td>\n",
              "      <td>2</td>\n",
              "      <td>953982960</td>\n",
              "      <td>[958527464, 958527471, 958527474, 958527479, 9...</td>\n",
              "      <td>[1018028339, 1018028342, 1018028345, 101802835...</td>\n",
              "      <td>VisualBehaviorMultiscope</td>\n",
              "      <td>2019-09-24 16:00:00.000000</td>\n",
              "      <td>OPHYS_3_images_A</td>\n",
              "    </tr>\n",
              "    <tr>\n",
              "      <th>955775716</th>\n",
              "      <td>MESO.1</td>\n",
              "      <td>Sst-IRES-Cre/wt;Ai148(TIT2L-GC6f-ICL-tTA2)/wt</td>\n",
              "      <td>457841</td>\n",
              "      <td>Ai148(TIT2L-GC6f-ICL-tTA2)</td>\n",
              "      <td>[Sst-IRES-Cre]</td>\n",
              "      <td>F</td>\n",
              "      <td>212.0</td>\n",
              "      <td>Sst-IRES-Cre</td>\n",
              "      <td>GCaMP6f</td>\n",
              "      <td>3.0</td>\n",
              "      <td>1</td>\n",
              "      <td>68.0</td>\n",
              "      <td>3</td>\n",
              "      <td>956010809</td>\n",
              "      <td>[956941841, 956941844, 956941846]</td>\n",
              "      <td>[1018028339, 1018028342, 1018028345]</td>\n",
              "      <td>VisualBehaviorMultiscope</td>\n",
              "      <td>2019-09-26 08:44:37.199778</td>\n",
              "      <td>OPHYS_3_images_A</td>\n",
              "    </tr>\n",
              "    <tr>\n",
              "      <th>957020350</th>\n",
              "      <td>MESO.1</td>\n",
              "      <td>Sst-IRES-Cre/wt;Ai148(TIT2L-GC6f-ICL-tTA2)/wt</td>\n",
              "      <td>457841</td>\n",
              "      <td>Ai148(TIT2L-GC6f-ICL-tTA2)</td>\n",
              "      <td>[Sst-IRES-Cre]</td>\n",
              "      <td>F</td>\n",
              "      <td>213.0</td>\n",
              "      <td>Sst-IRES-Cre</td>\n",
              "      <td>GCaMP6f</td>\n",
              "      <td>4.0</td>\n",
              "      <td>0</td>\n",
              "      <td>0.0</td>\n",
              "      <td>4</td>\n",
              "      <td>957032492</td>\n",
              "      <td>[957759562, 957759564, 957759566, 957759570, 9...</td>\n",
              "      <td>[1018028339, 1018028342, 1018028345, 101802835...</td>\n",
              "      <td>VisualBehaviorMultiscope</td>\n",
              "      <td>2019-09-27 08:28:05.415005</td>\n",
              "      <td>OPHYS_4_images_B</td>\n",
              "    </tr>\n",
              "  </tbody>\n",
              "</table>\n",
              "</div>"
            ],
            "text/plain": [
              "                 equipment_name  \\\n",
              "ophys_session_id                  \n",
              "951410079                MESO.1   \n",
              "952430817                MESO.1   \n",
              "954954402                MESO.1   \n",
              "955775716                MESO.1   \n",
              "957020350                MESO.1   \n",
              "\n",
              "                                                  full_genotype  mouse_id  \\\n",
              "ophys_session_id                                                            \n",
              "951410079         Sst-IRES-Cre/wt;Ai148(TIT2L-GC6f-ICL-tTA2)/wt    457841   \n",
              "952430817         Sst-IRES-Cre/wt;Ai148(TIT2L-GC6f-ICL-tTA2)/wt    457841   \n",
              "954954402         Sst-IRES-Cre/wt;Ai148(TIT2L-GC6f-ICL-tTA2)/wt    457841   \n",
              "955775716         Sst-IRES-Cre/wt;Ai148(TIT2L-GC6f-ICL-tTA2)/wt    457841   \n",
              "957020350         Sst-IRES-Cre/wt;Ai148(TIT2L-GC6f-ICL-tTA2)/wt    457841   \n",
              "\n",
              "                               reporter_line     driver_line sex  age_in_days  \\\n",
              "ophys_session_id                                                                \n",
              "951410079         Ai148(TIT2L-GC6f-ICL-tTA2)  [Sst-IRES-Cre]   F        206.0   \n",
              "952430817         Ai148(TIT2L-GC6f-ICL-tTA2)  [Sst-IRES-Cre]   F        209.0   \n",
              "954954402         Ai148(TIT2L-GC6f-ICL-tTA2)  [Sst-IRES-Cre]   F        210.0   \n",
              "955775716         Ai148(TIT2L-GC6f-ICL-tTA2)  [Sst-IRES-Cre]   F        212.0   \n",
              "957020350         Ai148(TIT2L-GC6f-ICL-tTA2)  [Sst-IRES-Cre]   F        213.0   \n",
              "\n",
              "                      cre_line indicator  session_number  \\\n",
              "ophys_session_id                                           \n",
              "951410079         Sst-IRES-Cre   GCaMP6f             1.0   \n",
              "952430817         Sst-IRES-Cre   GCaMP6f             2.0   \n",
              "954954402         Sst-IRES-Cre   GCaMP6f             3.0   \n",
              "955775716         Sst-IRES-Cre   GCaMP6f             3.0   \n",
              "957020350         Sst-IRES-Cre   GCaMP6f             4.0   \n",
              "\n",
              "                  prior_exposures_to_session_type  \\\n",
              "ophys_session_id                                    \n",
              "951410079                                       0   \n",
              "952430817                                       0   \n",
              "954954402                                       0   \n",
              "955775716                                       1   \n",
              "957020350                                       0   \n",
              "\n",
              "                  prior_exposures_to_image_set  prior_exposures_to_omissions  \\\n",
              "ophys_session_id                                                               \n",
              "951410079                                 65.0                             0   \n",
              "952430817                                 66.0                             1   \n",
              "954954402                                 67.0                             2   \n",
              "955775716                                 68.0                             3   \n",
              "957020350                                  0.0                             4   \n",
              "\n",
              "                  behavior_session_id  \\\n",
              "ophys_session_id                        \n",
              "951410079                   951520319   \n",
              "952430817                   952554548   \n",
              "954954402                   953982960   \n",
              "955775716                   956010809   \n",
              "957020350                   957032492   \n",
              "\n",
              "                                                ophys_experiment_id  \\\n",
              "ophys_session_id                                                      \n",
              "951410079         [951980471, 951980473, 951980475, 951980479, 9...   \n",
              "952430817              [953659743, 953659745, 953659749, 953659752]   \n",
              "954954402         [958527464, 958527471, 958527474, 958527479, 9...   \n",
              "955775716                         [956941841, 956941844, 956941846]   \n",
              "957020350         [957759562, 957759564, 957759566, 957759570, 9...   \n",
              "\n",
              "                                                 ophys_container_id  \\\n",
              "ophys_session_id                                                      \n",
              "951410079         [1018028339, 1018028342, 1018028345, 101802835...   \n",
              "952430817          [1018028339, 1018028345, 1018028354, 1018028357]   \n",
              "954954402         [1018028339, 1018028342, 1018028345, 101802835...   \n",
              "955775716                      [1018028339, 1018028342, 1018028345]   \n",
              "957020350         [1018028339, 1018028342, 1018028345, 101802835...   \n",
              "\n",
              "                              project_code         date_of_acquisition  \\\n",
              "ophys_session_id                                                         \n",
              "951410079         VisualBehaviorMultiscope  2019-09-20 09:45:29.897856   \n",
              "952430817         VisualBehaviorMultiscope  2019-09-23 08:13:07.627573   \n",
              "954954402         VisualBehaviorMultiscope  2019-09-24 16:00:00.000000   \n",
              "955775716         VisualBehaviorMultiscope  2019-09-26 08:44:37.199778   \n",
              "957020350         VisualBehaviorMultiscope  2019-09-27 08:28:05.415005   \n",
              "\n",
              "                              session_type  \n",
              "ophys_session_id                            \n",
              "951410079                 OPHYS_1_images_A  \n",
              "952430817         OPHYS_2_images_A_passive  \n",
              "954954402                 OPHYS_3_images_A  \n",
              "955775716                 OPHYS_3_images_A  \n",
              "957020350                 OPHYS_4_images_B  "
            ]
          },
          "metadata": {
            "tags": []
          },
          "execution_count": 7
        }
      ]
    },
    {
      "cell_type": "code",
      "metadata": {
        "colab": {
          "base_uri": "https://localhost:8080/",
          "height": 416
        },
        "id": "OkTdaTd8rQhS",
        "outputId": "716333e6-57f1-465f-a2ba-b11a96e7d54b"
      },
      "source": [
        "ophys_experiment_table.head()"
      ],
      "execution_count": 8,
      "outputs": [
        {
          "output_type": "execute_result",
          "data": {
            "text/html": [
              "<div>\n",
              "<style scoped>\n",
              "    .dataframe tbody tr th:only-of-type {\n",
              "        vertical-align: middle;\n",
              "    }\n",
              "\n",
              "    .dataframe tbody tr th {\n",
              "        vertical-align: top;\n",
              "    }\n",
              "\n",
              "    .dataframe thead th {\n",
              "        text-align: right;\n",
              "    }\n",
              "</style>\n",
              "<table border=\"1\" class=\"dataframe\">\n",
              "  <thead>\n",
              "    <tr style=\"text-align: right;\">\n",
              "      <th></th>\n",
              "      <th>equipment_name</th>\n",
              "      <th>full_genotype</th>\n",
              "      <th>mouse_id</th>\n",
              "      <th>reporter_line</th>\n",
              "      <th>driver_line</th>\n",
              "      <th>sex</th>\n",
              "      <th>age_in_days</th>\n",
              "      <th>cre_line</th>\n",
              "      <th>indicator</th>\n",
              "      <th>session_number</th>\n",
              "      <th>prior_exposures_to_session_type</th>\n",
              "      <th>prior_exposures_to_image_set</th>\n",
              "      <th>prior_exposures_to_omissions</th>\n",
              "      <th>ophys_session_id</th>\n",
              "      <th>behavior_session_id</th>\n",
              "      <th>ophys_container_id</th>\n",
              "      <th>project_code</th>\n",
              "      <th>imaging_depth</th>\n",
              "      <th>targeted_structure</th>\n",
              "      <th>date_of_acquisition</th>\n",
              "      <th>session_type</th>\n",
              "      <th>file_id</th>\n",
              "    </tr>\n",
              "    <tr>\n",
              "      <th>ophys_experiment_id</th>\n",
              "      <th></th>\n",
              "      <th></th>\n",
              "      <th></th>\n",
              "      <th></th>\n",
              "      <th></th>\n",
              "      <th></th>\n",
              "      <th></th>\n",
              "      <th></th>\n",
              "      <th></th>\n",
              "      <th></th>\n",
              "      <th></th>\n",
              "      <th></th>\n",
              "      <th></th>\n",
              "      <th></th>\n",
              "      <th></th>\n",
              "      <th></th>\n",
              "      <th></th>\n",
              "      <th></th>\n",
              "      <th></th>\n",
              "      <th></th>\n",
              "      <th></th>\n",
              "      <th></th>\n",
              "    </tr>\n",
              "  </thead>\n",
              "  <tbody>\n",
              "    <tr>\n",
              "      <th>951980471</th>\n",
              "      <td>MESO.1</td>\n",
              "      <td>Sst-IRES-Cre/wt;Ai148(TIT2L-GC6f-ICL-tTA2)/wt</td>\n",
              "      <td>457841</td>\n",
              "      <td>Ai148(TIT2L-GC6f-ICL-tTA2)</td>\n",
              "      <td>[Sst-IRES-Cre]</td>\n",
              "      <td>F</td>\n",
              "      <td>206.0</td>\n",
              "      <td>Sst-IRES-Cre</td>\n",
              "      <td>GCaMP6f</td>\n",
              "      <td>1.0</td>\n",
              "      <td>0</td>\n",
              "      <td>65.0</td>\n",
              "      <td>0</td>\n",
              "      <td>951410079</td>\n",
              "      <td>951520319</td>\n",
              "      <td>1018028342</td>\n",
              "      <td>VisualBehaviorMultiscope</td>\n",
              "      <td>150</td>\n",
              "      <td>VISp</td>\n",
              "      <td>2019-09-20 09:45:29.897856</td>\n",
              "      <td>OPHYS_1_images_A</td>\n",
              "      <td>1085394308</td>\n",
              "    </tr>\n",
              "    <tr>\n",
              "      <th>951980484</th>\n",
              "      <td>MESO.1</td>\n",
              "      <td>Sst-IRES-Cre/wt;Ai148(TIT2L-GC6f-ICL-tTA2)/wt</td>\n",
              "      <td>457841</td>\n",
              "      <td>Ai148(TIT2L-GC6f-ICL-tTA2)</td>\n",
              "      <td>[Sst-IRES-Cre]</td>\n",
              "      <td>F</td>\n",
              "      <td>206.0</td>\n",
              "      <td>Sst-IRES-Cre</td>\n",
              "      <td>GCaMP6f</td>\n",
              "      <td>1.0</td>\n",
              "      <td>0</td>\n",
              "      <td>65.0</td>\n",
              "      <td>0</td>\n",
              "      <td>951410079</td>\n",
              "      <td>951520319</td>\n",
              "      <td>1018028351</td>\n",
              "      <td>VisualBehaviorMultiscope</td>\n",
              "      <td>75</td>\n",
              "      <td>VISl</td>\n",
              "      <td>2019-09-20 09:45:29.897856</td>\n",
              "      <td>OPHYS_1_images_A</td>\n",
              "      <td>1085400876</td>\n",
              "    </tr>\n",
              "    <tr>\n",
              "      <th>951980473</th>\n",
              "      <td>MESO.1</td>\n",
              "      <td>Sst-IRES-Cre/wt;Ai148(TIT2L-GC6f-ICL-tTA2)/wt</td>\n",
              "      <td>457841</td>\n",
              "      <td>Ai148(TIT2L-GC6f-ICL-tTA2)</td>\n",
              "      <td>[Sst-IRES-Cre]</td>\n",
              "      <td>F</td>\n",
              "      <td>206.0</td>\n",
              "      <td>Sst-IRES-Cre</td>\n",
              "      <td>GCaMP6f</td>\n",
              "      <td>1.0</td>\n",
              "      <td>0</td>\n",
              "      <td>65.0</td>\n",
              "      <td>0</td>\n",
              "      <td>951410079</td>\n",
              "      <td>951520319</td>\n",
              "      <td>1018028345</td>\n",
              "      <td>VisualBehaviorMultiscope</td>\n",
              "      <td>225</td>\n",
              "      <td>VISp</td>\n",
              "      <td>2019-09-20 09:45:29.897856</td>\n",
              "      <td>OPHYS_1_images_A</td>\n",
              "      <td>1085400919</td>\n",
              "    </tr>\n",
              "    <tr>\n",
              "      <th>951980479</th>\n",
              "      <td>MESO.1</td>\n",
              "      <td>Sst-IRES-Cre/wt;Ai148(TIT2L-GC6f-ICL-tTA2)/wt</td>\n",
              "      <td>457841</td>\n",
              "      <td>Ai148(TIT2L-GC6f-ICL-tTA2)</td>\n",
              "      <td>[Sst-IRES-Cre]</td>\n",
              "      <td>F</td>\n",
              "      <td>206.0</td>\n",
              "      <td>Sst-IRES-Cre</td>\n",
              "      <td>GCaMP6f</td>\n",
              "      <td>1.0</td>\n",
              "      <td>0</td>\n",
              "      <td>65.0</td>\n",
              "      <td>0</td>\n",
              "      <td>951410079</td>\n",
              "      <td>951520319</td>\n",
              "      <td>1018028354</td>\n",
              "      <td>VisualBehaviorMultiscope</td>\n",
              "      <td>150</td>\n",
              "      <td>VISl</td>\n",
              "      <td>2019-09-20 09:45:29.897856</td>\n",
              "      <td>OPHYS_1_images_A</td>\n",
              "      <td>1085400977</td>\n",
              "    </tr>\n",
              "    <tr>\n",
              "      <th>951980475</th>\n",
              "      <td>MESO.1</td>\n",
              "      <td>Sst-IRES-Cre/wt;Ai148(TIT2L-GC6f-ICL-tTA2)/wt</td>\n",
              "      <td>457841</td>\n",
              "      <td>Ai148(TIT2L-GC6f-ICL-tTA2)</td>\n",
              "      <td>[Sst-IRES-Cre]</td>\n",
              "      <td>F</td>\n",
              "      <td>206.0</td>\n",
              "      <td>Sst-IRES-Cre</td>\n",
              "      <td>GCaMP6f</td>\n",
              "      <td>1.0</td>\n",
              "      <td>0</td>\n",
              "      <td>65.0</td>\n",
              "      <td>0</td>\n",
              "      <td>951410079</td>\n",
              "      <td>951520319</td>\n",
              "      <td>1018028339</td>\n",
              "      <td>VisualBehaviorMultiscope</td>\n",
              "      <td>75</td>\n",
              "      <td>VISp</td>\n",
              "      <td>2019-09-20 09:45:29.897856</td>\n",
              "      <td>OPHYS_1_images_A</td>\n",
              "      <td>1085400920</td>\n",
              "    </tr>\n",
              "  </tbody>\n",
              "</table>\n",
              "</div>"
            ],
            "text/plain": [
              "                    equipment_name  \\\n",
              "ophys_experiment_id                  \n",
              "951980471                   MESO.1   \n",
              "951980484                   MESO.1   \n",
              "951980473                   MESO.1   \n",
              "951980479                   MESO.1   \n",
              "951980475                   MESO.1   \n",
              "\n",
              "                                                     full_genotype  mouse_id  \\\n",
              "ophys_experiment_id                                                            \n",
              "951980471            Sst-IRES-Cre/wt;Ai148(TIT2L-GC6f-ICL-tTA2)/wt    457841   \n",
              "951980484            Sst-IRES-Cre/wt;Ai148(TIT2L-GC6f-ICL-tTA2)/wt    457841   \n",
              "951980473            Sst-IRES-Cre/wt;Ai148(TIT2L-GC6f-ICL-tTA2)/wt    457841   \n",
              "951980479            Sst-IRES-Cre/wt;Ai148(TIT2L-GC6f-ICL-tTA2)/wt    457841   \n",
              "951980475            Sst-IRES-Cre/wt;Ai148(TIT2L-GC6f-ICL-tTA2)/wt    457841   \n",
              "\n",
              "                                  reporter_line     driver_line sex  \\\n",
              "ophys_experiment_id                                                   \n",
              "951980471            Ai148(TIT2L-GC6f-ICL-tTA2)  [Sst-IRES-Cre]   F   \n",
              "951980484            Ai148(TIT2L-GC6f-ICL-tTA2)  [Sst-IRES-Cre]   F   \n",
              "951980473            Ai148(TIT2L-GC6f-ICL-tTA2)  [Sst-IRES-Cre]   F   \n",
              "951980479            Ai148(TIT2L-GC6f-ICL-tTA2)  [Sst-IRES-Cre]   F   \n",
              "951980475            Ai148(TIT2L-GC6f-ICL-tTA2)  [Sst-IRES-Cre]   F   \n",
              "\n",
              "                     age_in_days      cre_line indicator  session_number  \\\n",
              "ophys_experiment_id                                                        \n",
              "951980471                  206.0  Sst-IRES-Cre   GCaMP6f             1.0   \n",
              "951980484                  206.0  Sst-IRES-Cre   GCaMP6f             1.0   \n",
              "951980473                  206.0  Sst-IRES-Cre   GCaMP6f             1.0   \n",
              "951980479                  206.0  Sst-IRES-Cre   GCaMP6f             1.0   \n",
              "951980475                  206.0  Sst-IRES-Cre   GCaMP6f             1.0   \n",
              "\n",
              "                     prior_exposures_to_session_type  \\\n",
              "ophys_experiment_id                                    \n",
              "951980471                                          0   \n",
              "951980484                                          0   \n",
              "951980473                                          0   \n",
              "951980479                                          0   \n",
              "951980475                                          0   \n",
              "\n",
              "                     prior_exposures_to_image_set  \\\n",
              "ophys_experiment_id                                 \n",
              "951980471                                    65.0   \n",
              "951980484                                    65.0   \n",
              "951980473                                    65.0   \n",
              "951980479                                    65.0   \n",
              "951980475                                    65.0   \n",
              "\n",
              "                     prior_exposures_to_omissions  ophys_session_id  \\\n",
              "ophys_experiment_id                                                   \n",
              "951980471                                       0         951410079   \n",
              "951980484                                       0         951410079   \n",
              "951980473                                       0         951410079   \n",
              "951980479                                       0         951410079   \n",
              "951980475                                       0         951410079   \n",
              "\n",
              "                     behavior_session_id  ophys_container_id  \\\n",
              "ophys_experiment_id                                            \n",
              "951980471                      951520319          1018028342   \n",
              "951980484                      951520319          1018028351   \n",
              "951980473                      951520319          1018028345   \n",
              "951980479                      951520319          1018028354   \n",
              "951980475                      951520319          1018028339   \n",
              "\n",
              "                                 project_code  imaging_depth  \\\n",
              "ophys_experiment_id                                            \n",
              "951980471            VisualBehaviorMultiscope            150   \n",
              "951980484            VisualBehaviorMultiscope             75   \n",
              "951980473            VisualBehaviorMultiscope            225   \n",
              "951980479            VisualBehaviorMultiscope            150   \n",
              "951980475            VisualBehaviorMultiscope             75   \n",
              "\n",
              "                    targeted_structure         date_of_acquisition  \\\n",
              "ophys_experiment_id                                                  \n",
              "951980471                         VISp  2019-09-20 09:45:29.897856   \n",
              "951980484                         VISl  2019-09-20 09:45:29.897856   \n",
              "951980473                         VISp  2019-09-20 09:45:29.897856   \n",
              "951980479                         VISl  2019-09-20 09:45:29.897856   \n",
              "951980475                         VISp  2019-09-20 09:45:29.897856   \n",
              "\n",
              "                         session_type     file_id  \n",
              "ophys_experiment_id                                \n",
              "951980471            OPHYS_1_images_A  1085394308  \n",
              "951980484            OPHYS_1_images_A  1085400876  \n",
              "951980473            OPHYS_1_images_A  1085400919  \n",
              "951980479            OPHYS_1_images_A  1085400977  \n",
              "951980475            OPHYS_1_images_A  1085400920  "
            ]
          },
          "metadata": {
            "tags": []
          },
          "execution_count": 8
        }
      ]
    },
    {
      "cell_type": "markdown",
      "metadata": {
        "id": "2NKrmWVfxRpT"
      },
      "source": [
        "We are now going to look at the contents of the session type dictionary to identify labels of the sessions we want\n"
      ]
    },
    {
      "cell_type": "code",
      "metadata": {
        "id": "8QWrlPIchmnV",
        "colab": {
          "base_uri": "https://localhost:8080/"
        },
        "outputId": "b2347451-816a-4b35-96ab-0bfba5c2de72"
      },
      "source": [
        "# Dictionary with session types\n",
        "session_type = {'familiar_active': ['OPHYS_0', 'OPHYS_1', 'OPHYS_2', 'OPHYS_3'],\n",
        "                'novel_active':    ['OPHYS_4', 'OPHYS_5', 'OPHYS_6'],\n",
        "                'familiar_pasive': ['OPHYS_2_images_A_passive'],\n",
        "                'novel_pasive':    ['OPHYS_5_images_A_passive','OPHYS_5_images_B_passive']} # note: I think \"OPHYS_5_images_B_passive\" is novel, but not sure\n",
        "\n",
        "cre_line_type = ['Sst-IRES-Cre', 'Vip-IRES-Cre', 'Slc17a7-IRES2-Cre']\n",
        "\n",
        "print(f'*Ophys session types in the current dataset:*\\n\\n {ophys_session_table.session_type.unique()}',)      "
      ],
      "execution_count": 9,
      "outputs": [
        {
          "output_type": "stream",
          "text": [
            "*Ophys session types in the current dataset:*\n",
            "\n",
            " ['OPHYS_1_images_A' 'OPHYS_2_images_A_passive' 'OPHYS_3_images_A'\n",
            " 'OPHYS_4_images_B' 'OPHYS_5_images_B_passive' 'OPHYS_6_images_B'\n",
            " 'OPHYS_1_images_B' 'OPHYS_2_images_B_passive' 'OPHYS_3_images_B'\n",
            " 'OPHYS_4_images_A' 'OPHYS_6_images_A' 'OPHYS_5_images_A_passive']\n"
          ],
          "name": "stdout"
        }
      ]
    },
    {
      "cell_type": "markdown",
      "metadata": {
        "id": "HumitR16iN9M"
      },
      "source": [
        "Okay! Lets load two example planes to compare familiar vs novel responses for the active condition."
      ]
    },
    {
      "cell_type": "code",
      "metadata": {
        "id": "sPi4mY6Fih3K"
      },
      "source": [
        "# Active vs passive\n",
        "ind_passive = (ophys_experiment_table.session_type.str.contains(session_type['familiar_pasive'][0]) |\n",
        "               ophys_experiment_table.session_type.str.contains(session_type['novel_pasive'][0])    |\n",
        "               ophys_experiment_table.session_type.str.contains(session_type['novel_pasive'][1]))\n",
        "ind_passive[ind_passive==False] = 'active'\n",
        "ind_passive[ind_passive==True]  = 'pasive'\n",
        "ophys_experiment_table['behavior_condition'] = ind_passive\n",
        "\n",
        "# Familiar vs novel\n",
        "fam = session_type['familiar_active'] + session_type['familiar_pasive']\n",
        "\n",
        "i_fam = pd.Series([False]*ophys_experiment_table.shape[0])\n",
        "for f in fam:\n",
        "  i_fam = (i_fam | ophys_experiment_table.session_type.str.contains(f))\n",
        "i_fam[i_fam==True]  = 'familiar'\n",
        "i_fam[i_fam==False] = 'novel'  \n",
        "ophys_experiment_table['experimental_condition'] = i_fam"
      ],
      "execution_count": 10,
      "outputs": []
    },
    {
      "cell_type": "markdown",
      "metadata": {
        "id": "gHGqGgXlitAJ"
      },
      "source": [
        "We will now find a container that has both familiar and novel sessions in the active condition."
      ]
    },
    {
      "cell_type": "code",
      "metadata": {
        "id": "o1X5MVfAjFGe"
      },
      "source": [
        "#-------- Containers\n",
        "\n",
        "# VIP cells \n",
        "i_fam_VIP = ophys_experiment_table.query('cre_line == \"Vip-IRES-Cre\" and behavior_condition == \"active\" and experimental_condition == \"familiar\"')['ophys_container_id']\n",
        "i_nov_VIP = ophys_experiment_table.query('cre_line == \"Vip-IRES-Cre\" and behavior_condition == \"active\" and experimental_condition == \"novel\"')['ophys_container_id']\n",
        "\n",
        "# # SST cells\n",
        "# i_fam_SST = ophys_experiment_table.query('cre_line == \"Sst-IRES-Cre\" and behavior_condition == \"pasive\" and experimental_condition == \"familiar\"')['ophys_container_id'] \n",
        "# i_nov_SST = ophys_experiment_table.query('cre_line == \"Sst-IRES-Cre\" and behavior_condition == \"pasive\" and experimental_condition == \"novel\"')['ophys_container_id']\n",
        "\n",
        "# # Excitatory cells\n",
        "# i_fam_Exc = ophys_experiment_table.query('cre_line == \"Slc17a7-IRES2-Cre\" and behavior_condition == \"pasive\" and experimental_condition == \"familiar\"')['ophys_container_id'] \n",
        "# i_nov_Exc = ophys_experiment_table.query('cre_line == \"Slc17a7-IRES2-Cre\" and behavior_condition == \"pasive\" and experimental_condition == \"novel\"')['ophys_container_id']\n",
        "\n",
        "# Which containers are in both conditions for all three cells\n",
        "unic_fam_VIP = i_fam_VIP.unique()\n",
        "# unic_fam_SST = i_fam_SST.unique()\n",
        "# unic_fam_Exc = i_fam_Exc.unique()\n",
        "i_both_VIP = []\n",
        "# i_both_SST = []\n",
        "# i_both_Exc = []\n",
        "\n",
        "# VIP cells\n",
        "for i,row in enumerate(unic_fam_VIP):\n",
        "  if (row == i_nov_VIP.values).any():\n",
        "    i_both_VIP.append(i)\n",
        "# # SST cells\n",
        "# for i,row in enumerate(unic_fam_SST):\n",
        "#   if (row == i_nov_SST.values).any():\n",
        "#     i_both_SST.append(i)\n",
        "# # Exc cells\n",
        "# for i,row in enumerate(unic_fam_Exc):\n",
        "#   if (row == i_nov_Exc.values).any():\n",
        "#     i_both_Exc.append(i)\n",
        "\n",
        "# Choose the first 10 containers with fam & nov conditions for each cell type\n",
        "id_contain_VIP = unic_fam_VIP[i_both_VIP[0]]\n",
        "# id_contain_SST = unic_fam_SST[i_both_SST[0]]\n",
        "# id_contain_Exc = unic_fam_Exc[i_both_Exc[0]]\n",
        "\n"
      ],
      "execution_count": 11,
      "outputs": []
    },
    {
      "cell_type": "markdown",
      "metadata": {
        "id": "fkXv3CJ6lHUk"
      },
      "source": [
        "We now need to select the experiments in a specific container"
      ]
    },
    {
      "cell_type": "code",
      "metadata": {
        "id": "54az7fZTlP98",
        "colab": {
          "base_uri": "https://localhost:8080/",
          "height": 225
        },
        "outputId": "82533fff-530f-4b3b-e242-91ede951344f"
      },
      "source": [
        " exper_famil_VIP = ophys_experiment_table.query('cre_line == \"Vip-IRES-Cre\" and behavior_condition == \"active\" and experimental_condition == \"familiar\" and ophys_container_id == @id_contain_VIP')\n",
        " exper_novel_VIP = ophys_experiment_table.query('cre_line == \"Vip-IRES-Cre\" and behavior_condition == \"active\" and experimental_condition == \"novel\" and ophys_container_id == @id_contain_VIP')\n",
        "\n",
        "#  exper_famil_SST = ophys_experiment_table.query('cre_line == \"Sst-IRES-Cre\" and behavior_condition == \"pasive\" and experimental_condition == \"familiar\" and ophys_container_id == @id_contain_SST')\n",
        "#  exper_novel_SST = ophys_experiment_table.query('cre_line == \"Sst-IRES-Cre\" and behavior_condition == \"pasive\" and experimental_condition == \"novel\" and ophys_container_id == @id_contain_SST')\n",
        "\n",
        "#  exper_famil_Exc = ophys_experiment_table.query('cre_line == \"Slc17a7-IRES2-Cre\" and behavior_condition == \"pasive\" and experimental_condition == \"familiar\" and ophys_container_id == @id_contain_Exc')\n",
        "#  exper_novel_Exc = ophys_experiment_table.query('cre_line == \"Slc17a7-IRES2-Cre\" and behavior_condition == \"pasive\" and experimental_condition == \"novel\" and ophys_container_id == @id_contain_Exc')\n",
        "\n",
        "#example header\n",
        " exper_famil_VIP.head()\n",
        "# exper_novel_.head()"
      ],
      "execution_count": 12,
      "outputs": [
        {
          "output_type": "execute_result",
          "data": {
            "text/html": [
              "<div>\n",
              "<style scoped>\n",
              "    .dataframe tbody tr th:only-of-type {\n",
              "        vertical-align: middle;\n",
              "    }\n",
              "\n",
              "    .dataframe tbody tr th {\n",
              "        vertical-align: top;\n",
              "    }\n",
              "\n",
              "    .dataframe thead th {\n",
              "        text-align: right;\n",
              "    }\n",
              "</style>\n",
              "<table border=\"1\" class=\"dataframe\">\n",
              "  <thead>\n",
              "    <tr style=\"text-align: right;\">\n",
              "      <th></th>\n",
              "      <th>equipment_name</th>\n",
              "      <th>full_genotype</th>\n",
              "      <th>mouse_id</th>\n",
              "      <th>reporter_line</th>\n",
              "      <th>driver_line</th>\n",
              "      <th>sex</th>\n",
              "      <th>age_in_days</th>\n",
              "      <th>cre_line</th>\n",
              "      <th>indicator</th>\n",
              "      <th>session_number</th>\n",
              "      <th>prior_exposures_to_session_type</th>\n",
              "      <th>prior_exposures_to_image_set</th>\n",
              "      <th>prior_exposures_to_omissions</th>\n",
              "      <th>ophys_session_id</th>\n",
              "      <th>behavior_session_id</th>\n",
              "      <th>ophys_container_id</th>\n",
              "      <th>project_code</th>\n",
              "      <th>imaging_depth</th>\n",
              "      <th>targeted_structure</th>\n",
              "      <th>date_of_acquisition</th>\n",
              "      <th>session_type</th>\n",
              "      <th>file_id</th>\n",
              "      <th>behavior_condition</th>\n",
              "      <th>experimental_condition</th>\n",
              "    </tr>\n",
              "    <tr>\n",
              "      <th>ophys_experiment_id</th>\n",
              "      <th></th>\n",
              "      <th></th>\n",
              "      <th></th>\n",
              "      <th></th>\n",
              "      <th></th>\n",
              "      <th></th>\n",
              "      <th></th>\n",
              "      <th></th>\n",
              "      <th></th>\n",
              "      <th></th>\n",
              "      <th></th>\n",
              "      <th></th>\n",
              "      <th></th>\n",
              "      <th></th>\n",
              "      <th></th>\n",
              "      <th></th>\n",
              "      <th></th>\n",
              "      <th></th>\n",
              "      <th></th>\n",
              "      <th></th>\n",
              "      <th></th>\n",
              "      <th></th>\n",
              "      <th></th>\n",
              "      <th></th>\n",
              "    </tr>\n",
              "  </thead>\n",
              "  <tbody>\n",
              "    <tr>\n",
              "      <th>792815735</th>\n",
              "      <td>CAM2P.4</td>\n",
              "      <td>Vip-IRES-Cre/wt;Ai148(TIT2L-GC6f-ICL-tTA2)/wt</td>\n",
              "      <td>412036</td>\n",
              "      <td>Ai148(TIT2L-GC6f-ICL-tTA2)</td>\n",
              "      <td>[Vip-IRES-Cre]</td>\n",
              "      <td>F</td>\n",
              "      <td>148.0</td>\n",
              "      <td>Vip-IRES-Cre</td>\n",
              "      <td>GCaMP6f</td>\n",
              "      <td>1.0</td>\n",
              "      <td>0</td>\n",
              "      <td>19.0</td>\n",
              "      <td>1</td>\n",
              "      <td>792619807</td>\n",
              "      <td>792680306</td>\n",
              "      <td>791352433</td>\n",
              "      <td>VisualBehavior</td>\n",
              "      <td>175</td>\n",
              "      <td>VISp</td>\n",
              "      <td>2018-12-10 21:19:50.000000</td>\n",
              "      <td>OPHYS_1_images_A</td>\n",
              "      <td>859887405</td>\n",
              "      <td>active</td>\n",
              "      <td>familiar</td>\n",
              "    </tr>\n",
              "    <tr>\n",
              "      <th>795073741</th>\n",
              "      <td>CAM2P.4</td>\n",
              "      <td>Vip-IRES-Cre/wt;Ai148(TIT2L-GC6f-ICL-tTA2)/wt</td>\n",
              "      <td>412036</td>\n",
              "      <td>Ai148(TIT2L-GC6f-ICL-tTA2)</td>\n",
              "      <td>[Vip-IRES-Cre]</td>\n",
              "      <td>F</td>\n",
              "      <td>151.0</td>\n",
              "      <td>Vip-IRES-Cre</td>\n",
              "      <td>GCaMP6f</td>\n",
              "      <td>3.0</td>\n",
              "      <td>0</td>\n",
              "      <td>21.0</td>\n",
              "      <td>3</td>\n",
              "      <td>794918442</td>\n",
              "      <td>794968300</td>\n",
              "      <td>791352433</td>\n",
              "      <td>VisualBehavior</td>\n",
              "      <td>175</td>\n",
              "      <td>VISp</td>\n",
              "      <td>2018-12-13 21:11:17.000000</td>\n",
              "      <td>OPHYS_3_images_A</td>\n",
              "      <td>859887459</td>\n",
              "      <td>active</td>\n",
              "      <td>familiar</td>\n",
              "    </tr>\n",
              "  </tbody>\n",
              "</table>\n",
              "</div>"
            ],
            "text/plain": [
              "                    equipment_name  \\\n",
              "ophys_experiment_id                  \n",
              "792815735                  CAM2P.4   \n",
              "795073741                  CAM2P.4   \n",
              "\n",
              "                                                     full_genotype  mouse_id  \\\n",
              "ophys_experiment_id                                                            \n",
              "792815735            Vip-IRES-Cre/wt;Ai148(TIT2L-GC6f-ICL-tTA2)/wt    412036   \n",
              "795073741            Vip-IRES-Cre/wt;Ai148(TIT2L-GC6f-ICL-tTA2)/wt    412036   \n",
              "\n",
              "                                  reporter_line     driver_line sex  \\\n",
              "ophys_experiment_id                                                   \n",
              "792815735            Ai148(TIT2L-GC6f-ICL-tTA2)  [Vip-IRES-Cre]   F   \n",
              "795073741            Ai148(TIT2L-GC6f-ICL-tTA2)  [Vip-IRES-Cre]   F   \n",
              "\n",
              "                     age_in_days      cre_line indicator  session_number  \\\n",
              "ophys_experiment_id                                                        \n",
              "792815735                  148.0  Vip-IRES-Cre   GCaMP6f             1.0   \n",
              "795073741                  151.0  Vip-IRES-Cre   GCaMP6f             3.0   \n",
              "\n",
              "                     prior_exposures_to_session_type  \\\n",
              "ophys_experiment_id                                    \n",
              "792815735                                          0   \n",
              "795073741                                          0   \n",
              "\n",
              "                     prior_exposures_to_image_set  \\\n",
              "ophys_experiment_id                                 \n",
              "792815735                                    19.0   \n",
              "795073741                                    21.0   \n",
              "\n",
              "                     prior_exposures_to_omissions  ophys_session_id  \\\n",
              "ophys_experiment_id                                                   \n",
              "792815735                                       1         792619807   \n",
              "795073741                                       3         794918442   \n",
              "\n",
              "                     behavior_session_id  ophys_container_id    project_code  \\\n",
              "ophys_experiment_id                                                            \n",
              "792815735                      792680306           791352433  VisualBehavior   \n",
              "795073741                      794968300           791352433  VisualBehavior   \n",
              "\n",
              "                     imaging_depth targeted_structure  \\\n",
              "ophys_experiment_id                                     \n",
              "792815735                      175               VISp   \n",
              "795073741                      175               VISp   \n",
              "\n",
              "                            date_of_acquisition      session_type    file_id  \\\n",
              "ophys_experiment_id                                                            \n",
              "792815735            2018-12-10 21:19:50.000000  OPHYS_1_images_A  859887405   \n",
              "795073741            2018-12-13 21:11:17.000000  OPHYS_3_images_A  859887459   \n",
              "\n",
              "                    behavior_condition experimental_condition  \n",
              "ophys_experiment_id                                            \n",
              "792815735                       active               familiar  \n",
              "795073741                       active               familiar  "
            ]
          },
          "metadata": {
            "tags": []
          },
          "execution_count": 12
        }
      ]
    },
    {
      "cell_type": "markdown",
      "metadata": {
        "id": "KN-WDzUAnH2G"
      },
      "source": [
        "From this we will load two sessions, one for familiar and one for novel"
      ]
    },
    {
      "cell_type": "code",
      "metadata": {
        "id": "z6g-vVqBpRFZ"
      },
      "source": [
        "# Ophys experimental ID (choose the first experiment of familiar and novel conditions) for each cell type\n",
        "ophys_experiment_id_fam_VIP = exper_famil_VIP.index[0]\n",
        "ophys_experiment_id_nov_VIP = exper_novel_VIP.index[0]\n",
        "\n",
        "# ophys_experiment_id_fam_SST = exper_famil_SST.index[0]\n",
        "# ophys_experiment_id_nov_SST = exper_novel_SST.index[0]\n",
        "\n",
        "# ophys_experiment_id_fam_Exp = exper_famil_Exc.index[0]\n",
        "# ophys_experiment_id_nov_Exp = exper_novel_Exc.index[0]\n",
        "\n",
        "\n",
        "# Download particular ophys experiments\n",
        "fam_experiment_VIP = cache.get_behavior_ophys_experiment(ophys_experiment_id_fam_VIP)\n",
        "nov_experiment_VIP = cache.get_behavior_ophys_experiment(ophys_experiment_id_nov_VIP)\n",
        "\n",
        "# fam_experiment_SST = cache.get_behavior_ophys_experiment(ophys_experiment_id_fam_SST)\n",
        "# nov_experiment_SST = cache.get_behavior_ophys_experiment(ophys_experiment_id_nov_SST)\n",
        "\n",
        "# fam_experiment_Exp = cache.get_behavior_ophys_experiment(ophys_experiment_id_fam_Exp)\n",
        "# nov_experiment_Exp = cache.get_behavior_ophys_experiment(ophys_experiment_id_nov_Exp)\n",
        "\n"
      ],
      "execution_count": 13,
      "outputs": []
    },
    {
      "cell_type": "markdown",
      "metadata": {
        "id": "PfIPjN_8pZ_5"
      },
      "source": [
        "With this data now in hand we need to streucture it into a convenient format"
      ]
    },
    {
      "cell_type": "code",
      "metadata": {
        "id": "CPk-BDIHpYo_"
      },
      "source": [
        "metadata_keys = [\n",
        "    'ophys_experiment_id',\n",
        "    'ophys_session_id',\n",
        "    'targeted_structure',\n",
        "    'imaging_depth',\n",
        "    'equipment_name',\n",
        "    'cre_line',\n",
        "    'mouse_id',\n",
        "    'sex',\n",
        "]"
      ],
      "execution_count": 14,
      "outputs": []
    },
    {
      "cell_type": "code",
      "metadata": {
        "id": "DD4ywyWwpZn5",
        "colab": {
          "base_uri": "https://localhost:8080/",
          "height": 201
        },
        "outputId": "6b671b40-d3e0-4c12-9852-2c971660e913"
      },
      "source": [
        "fam_experiment_neural_data_VIP = ophys.build_tidy_cell_df(fam_experiment_VIP)\n",
        "nov_experiment_neural_data_VIP = ophys.build_tidy_cell_df(nov_experiment_VIP)\n",
        "\n",
        "# fam_experiment_neural_data_SST = ophys.build_tidy_cell_df(fam_experiment_SST)\n",
        "# nov_experiment_neural_data_SST = ophys.build_tidy_cell_df(nov_experiment_SST)\n",
        "\n",
        "# fam_experiment_neural_data_Exp = ophys.build_tidy_cell_df(fam_experiment_Exp)\n",
        "# nov_experiment_neural_data_Exp = ophys.build_tidy_cell_df(nov_experiment_Exp)\n",
        "\n",
        "for metadata_key in metadata_keys:\n",
        "  # VIP\n",
        "  fam_experiment_neural_data_VIP[metadata_key] = fam_experiment_VIP.metadata[metadata_key]\n",
        "  nov_experiment_neural_data_VIP[metadata_key] = nov_experiment_VIP.metadata[metadata_key]\n",
        "  # # SST\n",
        "  # fam_experiment_neural_data_SST[metadata_key] = fam_experiment_SST.metadata[metadata_key]\n",
        "  # nov_experiment_neural_data_SST[metadata_key] = nov_experiment_SST.metadata[metadata_key]\n",
        "  # # Exp\n",
        "  # fam_experiment_neural_data_Exp[metadata_key] = fam_experiment_Exp.metadata[metadata_key]\n",
        "  # nov_experiment_neural_data_Exp[metadata_key] = nov_experiment_Exp.metadata[metadata_key]\n",
        "\n",
        "#fam_experiment_neural_data_VIP.head()\n",
        "nov_experiment_neural_data_VIP.head()"
      ],
      "execution_count": 15,
      "outputs": [
        {
          "output_type": "execute_result",
          "data": {
            "text/html": [
              "<div>\n",
              "<style scoped>\n",
              "    .dataframe tbody tr th:only-of-type {\n",
              "        vertical-align: middle;\n",
              "    }\n",
              "\n",
              "    .dataframe tbody tr th {\n",
              "        vertical-align: top;\n",
              "    }\n",
              "\n",
              "    .dataframe thead th {\n",
              "        text-align: right;\n",
              "    }\n",
              "</style>\n",
              "<table border=\"1\" class=\"dataframe\">\n",
              "  <thead>\n",
              "    <tr style=\"text-align: right;\">\n",
              "      <th></th>\n",
              "      <th>timestamps</th>\n",
              "      <th>dff</th>\n",
              "      <th>events</th>\n",
              "      <th>filtered_events</th>\n",
              "      <th>cell_roi_id</th>\n",
              "      <th>cell_specimen_id</th>\n",
              "      <th>ophys_experiment_id</th>\n",
              "      <th>ophys_session_id</th>\n",
              "      <th>targeted_structure</th>\n",
              "      <th>imaging_depth</th>\n",
              "      <th>equipment_name</th>\n",
              "      <th>cre_line</th>\n",
              "      <th>mouse_id</th>\n",
              "      <th>sex</th>\n",
              "    </tr>\n",
              "  </thead>\n",
              "  <tbody>\n",
              "    <tr>\n",
              "      <th>0</th>\n",
              "      <td>3.17722</td>\n",
              "      <td>0.665995</td>\n",
              "      <td>0.0</td>\n",
              "      <td>0.0</td>\n",
              "      <td>1080895959</td>\n",
              "      <td>1086493416</td>\n",
              "      <td>795953296</td>\n",
              "      <td>795625712</td>\n",
              "      <td>VISp</td>\n",
              "      <td>175</td>\n",
              "      <td>CAM2P.4</td>\n",
              "      <td>Vip-IRES-Cre</td>\n",
              "      <td>412036</td>\n",
              "      <td>F</td>\n",
              "    </tr>\n",
              "    <tr>\n",
              "      <th>1</th>\n",
              "      <td>3.20953</td>\n",
              "      <td>0.319544</td>\n",
              "      <td>0.0</td>\n",
              "      <td>0.0</td>\n",
              "      <td>1080895959</td>\n",
              "      <td>1086493416</td>\n",
              "      <td>795953296</td>\n",
              "      <td>795625712</td>\n",
              "      <td>VISp</td>\n",
              "      <td>175</td>\n",
              "      <td>CAM2P.4</td>\n",
              "      <td>Vip-IRES-Cre</td>\n",
              "      <td>412036</td>\n",
              "      <td>F</td>\n",
              "    </tr>\n",
              "    <tr>\n",
              "      <th>2</th>\n",
              "      <td>3.24183</td>\n",
              "      <td>0.568772</td>\n",
              "      <td>0.0</td>\n",
              "      <td>0.0</td>\n",
              "      <td>1080895959</td>\n",
              "      <td>1086493416</td>\n",
              "      <td>795953296</td>\n",
              "      <td>795625712</td>\n",
              "      <td>VISp</td>\n",
              "      <td>175</td>\n",
              "      <td>CAM2P.4</td>\n",
              "      <td>Vip-IRES-Cre</td>\n",
              "      <td>412036</td>\n",
              "      <td>F</td>\n",
              "    </tr>\n",
              "    <tr>\n",
              "      <th>3</th>\n",
              "      <td>3.27414</td>\n",
              "      <td>0.414089</td>\n",
              "      <td>0.0</td>\n",
              "      <td>0.0</td>\n",
              "      <td>1080895959</td>\n",
              "      <td>1086493416</td>\n",
              "      <td>795953296</td>\n",
              "      <td>795625712</td>\n",
              "      <td>VISp</td>\n",
              "      <td>175</td>\n",
              "      <td>CAM2P.4</td>\n",
              "      <td>Vip-IRES-Cre</td>\n",
              "      <td>412036</td>\n",
              "      <td>F</td>\n",
              "    </tr>\n",
              "    <tr>\n",
              "      <th>4</th>\n",
              "      <td>3.30644</td>\n",
              "      <td>0.352505</td>\n",
              "      <td>0.0</td>\n",
              "      <td>0.0</td>\n",
              "      <td>1080895959</td>\n",
              "      <td>1086493416</td>\n",
              "      <td>795953296</td>\n",
              "      <td>795625712</td>\n",
              "      <td>VISp</td>\n",
              "      <td>175</td>\n",
              "      <td>CAM2P.4</td>\n",
              "      <td>Vip-IRES-Cre</td>\n",
              "      <td>412036</td>\n",
              "      <td>F</td>\n",
              "    </tr>\n",
              "  </tbody>\n",
              "</table>\n",
              "</div>"
            ],
            "text/plain": [
              "   timestamps       dff  events  filtered_events cell_roi_id cell_specimen_id  \\\n",
              "0     3.17722  0.665995     0.0              0.0  1080895959       1086493416   \n",
              "1     3.20953  0.319544     0.0              0.0  1080895959       1086493416   \n",
              "2     3.24183  0.568772     0.0              0.0  1080895959       1086493416   \n",
              "3     3.27414  0.414089     0.0              0.0  1080895959       1086493416   \n",
              "4     3.30644  0.352505     0.0              0.0  1080895959       1086493416   \n",
              "\n",
              "   ophys_experiment_id  ophys_session_id targeted_structure  imaging_depth  \\\n",
              "0            795953296         795625712               VISp            175   \n",
              "1            795953296         795625712               VISp            175   \n",
              "2            795953296         795625712               VISp            175   \n",
              "3            795953296         795625712               VISp            175   \n",
              "4            795953296         795625712               VISp            175   \n",
              "\n",
              "  equipment_name      cre_line  mouse_id sex  \n",
              "0        CAM2P.4  Vip-IRES-Cre    412036   F  \n",
              "1        CAM2P.4  Vip-IRES-Cre    412036   F  \n",
              "2        CAM2P.4  Vip-IRES-Cre    412036   F  \n",
              "3        CAM2P.4  Vip-IRES-Cre    412036   F  \n",
              "4        CAM2P.4  Vip-IRES-Cre    412036   F  "
            ]
          },
          "metadata": {
            "tags": []
          },
          "execution_count": 15
        }
      ]
    },
    {
      "cell_type": "markdown",
      "metadata": {
        "id": "Gv3yvJW3p21N"
      },
      "source": [
        "We now grab the cell IDs. We will only use one cell for the time being"
      ]
    },
    {
      "cell_type": "code",
      "metadata": {
        "id": "w0mRi6f6p7Pi",
        "colab": {
          "base_uri": "https://localhost:8080/"
        },
        "outputId": "a0d66276-ee67-4e40-feab-e82ae1db3379"
      },
      "source": [
        "cell_ids = nov_experiment_neural_data_VIP['cell_specimen_id'].unique()\n",
        "print('there are {} unique cells'.format(len(cell_ids)))\n",
        "print('cell ids are: {}'.format(cell_ids))\n",
        "\n",
        "# Choose only one neuron ID\n",
        "cell_id = cell_ids[0]\n"
      ],
      "execution_count": 16,
      "outputs": [
        {
          "output_type": "stream",
          "text": [
            "there are 33 unique cells\n",
            "cell ids are: [1086493416, 1086491936, 1086491347, 1086491059, 1086493697, ..., 1086491530, 1086492221, 1086491597, 1086491653, 1086490719]\n",
            "Length: 33\n",
            "Categories (33, int64): [1086493416, 1086491936, 1086491347, 1086491059, ..., 1086492221, 1086491597,\n",
            "                         1086491653, 1086490719]\n"
          ],
          "name": "stdout"
        }
      ]
    },
    {
      "cell_type": "code",
      "metadata": {
        "id": "gBXtm26Zp7fG"
      },
      "source": [
        "fam_single_cell_timeseries_VIP = fam_experiment_neural_data_VIP.query('cell_specimen_id == @cell_id')\n",
        "nov_single_cell_timeseries_VIP = nov_experiment_neural_data_VIP.query('cell_specimen_id == @cell_id')\n",
        "\n",
        "# fam_single_cell_timeseries_SST = fam_experiment_neural_data_SST.query('cell_specimen_id == @cell_id')\n",
        "# nov_single_cell_timeseries_SST = nov_experiment_neural_data_SST.query('cell_specimen_id == @cell_id')\n",
        "\n",
        "# fam_single_cell_timeseries_Exp = fam_experiment_neural_data_Exp.query('cell_specimen_id == @cell_id')\n",
        "# nov_single_cell_timeseries_Exp = nov_experiment_neural_data_Exp.query('cell_specimen_id == @cell_id')\n",
        "\n",
        "# fam_single_cell_timeseries_VIP.head(5)\n",
        "# fam_single_cell_timeseries_SST.head(5)\n",
        "# fam_single_cell_timeseries_Exp.head(5)\n",
        "# nov_single_cell_timeseries.head(5)"
      ],
      "execution_count": 17,
      "outputs": []
    },
    {
      "cell_type": "markdown",
      "metadata": {
        "id": "e_RcAuCiqmmh"
      },
      "source": [
        "Beautiful. Each neuron has three varieties of traces. \n",
        "\n",
        "`dff column` is the calcium fluorescence signal, normalized to background fluorescence.\n",
        "\n",
        "`events column` is deconvolved events from dff trace, which approximates neural firing rate and removes the slow decay of the Calcium signal (for more details, you can read EVENT DETECTION section in Visual Behavior whitepaper).\n",
        "\n",
        "`filtered_events` column is events smoothed with a half-gaussian kernel.\n",
        "\n",
        "We plot the deltaF/F time series for the full duration of the experiment below"
      ]
    },
    {
      "cell_type": "code",
      "metadata": {
        "id": "BHGANOPcrRVH",
        "colab": {
          "base_uri": "https://localhost:8080/",
          "height": 670
        },
        "outputId": "83f5ef14-0324-40d7-d35c-fd80a2dcdd2c"
      },
      "source": [
        "# VIP\n",
        "fig, ax = plt.subplots(figsize=(15,5))\n",
        "\n",
        "fam_single_cell_timeseries_VIP.plot(\n",
        "    x = 'timestamps',\n",
        "    y = ['dff'],\n",
        "    ax = ax,\n",
        "    color='blue',\n",
        "    alpha = 0.8\n",
        ")\n",
        "\n",
        "nov_single_cell_timeseries_VIP.plot(\n",
        "    x = 'timestamps',\n",
        "    y = ['dff'],\n",
        "    ax = ax,\n",
        "    color='green',\n",
        "    alpha = 0.5\n",
        ")\n",
        "\n",
        "ax.axes.axes.set_xlim(500,2000);\n",
        "\n",
        "# # SST \n",
        "# fig2, ax = plt.subplots(figsize=(15,5))\n",
        "\n",
        "# fam_single_cell_timeseries_SST.plot(\n",
        "#     x = 'timestamps',\n",
        "#     y = ['dff'],\n",
        "#     ax = ax,\n",
        "#     color='blue',\n",
        "#     alpha = 0.8\n",
        "# )\n",
        "\n",
        "# nov_single_cell_timeseries_SST.plot(\n",
        "#     x = 'timestamps',\n",
        "#     y = ['dff'],\n",
        "#     ax = ax,\n",
        "#     color='green',\n",
        "#     alpha = 0.5\n",
        "# )\n",
        "\n",
        "# ax.axes.axes.set_xlim(500,2000);\n",
        "\n",
        "# # Exp\n",
        "# fig3, ax = plt.subplots(figsize=(15,5))\n",
        "\n",
        "# fam_single_cell_timeseries_Exp.plot(\n",
        "#     x = 'timestamps',\n",
        "#     y = ['dff'],\n",
        "#     ax = ax,\n",
        "#     color='blue',\n",
        "#     alpha = 0.8\n",
        "# )\n",
        "\n",
        "# nov_single_cell_timeseries_Exp.plot(\n",
        "#     x = 'timestamps',\n",
        "#     y = ['dff'],\n",
        "#     ax = ax,\n",
        "#     color='green',\n",
        "#     alpha = 0.5\n",
        "# )\n",
        "\n",
        "# ax.axes.axes.set_xlim(500,2000);"
      ],
      "execution_count": 18,
      "outputs": [
        {
          "output_type": "error",
          "ename": "TypeError",
          "evalue": "ignored",
          "traceback": [
            "\u001b[0;31m---------------------------------------------------------------------------\u001b[0m",
            "\u001b[0;31mTypeError\u001b[0m                                 Traceback (most recent call last)",
            "\u001b[0;32m<ipython-input-18-5f41d95d0436>\u001b[0m in \u001b[0;36m<module>\u001b[0;34m()\u001b[0m\n\u001b[1;32m      7\u001b[0m     \u001b[0max\u001b[0m \u001b[0;34m=\u001b[0m \u001b[0max\u001b[0m\u001b[0;34m,\u001b[0m\u001b[0;34m\u001b[0m\u001b[0;34m\u001b[0m\u001b[0m\n\u001b[1;32m      8\u001b[0m     \u001b[0mcolor\u001b[0m\u001b[0;34m=\u001b[0m\u001b[0;34m'blue'\u001b[0m\u001b[0;34m,\u001b[0m\u001b[0;34m\u001b[0m\u001b[0;34m\u001b[0m\u001b[0m\n\u001b[0;32m----> 9\u001b[0;31m     \u001b[0malpha\u001b[0m \u001b[0;34m=\u001b[0m \u001b[0;36m0.8\u001b[0m\u001b[0;34m\u001b[0m\u001b[0;34m\u001b[0m\u001b[0m\n\u001b[0m\u001b[1;32m     10\u001b[0m )\n\u001b[1;32m     11\u001b[0m \u001b[0;34m\u001b[0m\u001b[0m\n",
            "\u001b[0;32m/usr/local/lib/python3.7/dist-packages/pandas/plotting/_core.py\u001b[0m in \u001b[0;36m__call__\u001b[0;34m(self, *args, **kwargs)\u001b[0m\n\u001b[1;32m    792\u001b[0m                     \u001b[0mdata\u001b[0m\u001b[0;34m.\u001b[0m\u001b[0mcolumns\u001b[0m \u001b[0;34m=\u001b[0m \u001b[0mlabel_name\u001b[0m\u001b[0;34m\u001b[0m\u001b[0;34m\u001b[0m\u001b[0m\n\u001b[1;32m    793\u001b[0m \u001b[0;34m\u001b[0m\u001b[0m\n\u001b[0;32m--> 794\u001b[0;31m         \u001b[0;32mreturn\u001b[0m \u001b[0mplot_backend\u001b[0m\u001b[0;34m.\u001b[0m\u001b[0mplot\u001b[0m\u001b[0;34m(\u001b[0m\u001b[0mdata\u001b[0m\u001b[0;34m,\u001b[0m \u001b[0mkind\u001b[0m\u001b[0;34m=\u001b[0m\u001b[0mkind\u001b[0m\u001b[0;34m,\u001b[0m \u001b[0;34m**\u001b[0m\u001b[0mkwargs\u001b[0m\u001b[0;34m)\u001b[0m\u001b[0;34m\u001b[0m\u001b[0;34m\u001b[0m\u001b[0m\n\u001b[0m\u001b[1;32m    795\u001b[0m \u001b[0;34m\u001b[0m\u001b[0m\n\u001b[1;32m    796\u001b[0m     \u001b[0;32mdef\u001b[0m \u001b[0mline\u001b[0m\u001b[0;34m(\u001b[0m\u001b[0mself\u001b[0m\u001b[0;34m,\u001b[0m \u001b[0mx\u001b[0m\u001b[0;34m=\u001b[0m\u001b[0;32mNone\u001b[0m\u001b[0;34m,\u001b[0m \u001b[0my\u001b[0m\u001b[0;34m=\u001b[0m\u001b[0;32mNone\u001b[0m\u001b[0;34m,\u001b[0m \u001b[0;34m**\u001b[0m\u001b[0mkwargs\u001b[0m\u001b[0;34m)\u001b[0m\u001b[0;34m:\u001b[0m\u001b[0;34m\u001b[0m\u001b[0;34m\u001b[0m\u001b[0m\n",
            "\u001b[0;32m/usr/local/lib/python3.7/dist-packages/pandas/plotting/_matplotlib/__init__.py\u001b[0m in \u001b[0;36mplot\u001b[0;34m(data, kind, **kwargs)\u001b[0m\n\u001b[1;32m     60\u001b[0m             \u001b[0mkwargs\u001b[0m\u001b[0;34m[\u001b[0m\u001b[0;34m\"ax\"\u001b[0m\u001b[0;34m]\u001b[0m \u001b[0;34m=\u001b[0m \u001b[0mgetattr\u001b[0m\u001b[0;34m(\u001b[0m\u001b[0max\u001b[0m\u001b[0;34m,\u001b[0m \u001b[0;34m\"left_ax\"\u001b[0m\u001b[0;34m,\u001b[0m \u001b[0max\u001b[0m\u001b[0;34m)\u001b[0m\u001b[0;34m\u001b[0m\u001b[0;34m\u001b[0m\u001b[0m\n\u001b[1;32m     61\u001b[0m     \u001b[0mplot_obj\u001b[0m \u001b[0;34m=\u001b[0m \u001b[0mPLOT_CLASSES\u001b[0m\u001b[0;34m[\u001b[0m\u001b[0mkind\u001b[0m\u001b[0;34m]\u001b[0m\u001b[0;34m(\u001b[0m\u001b[0mdata\u001b[0m\u001b[0;34m,\u001b[0m \u001b[0;34m**\u001b[0m\u001b[0mkwargs\u001b[0m\u001b[0;34m)\u001b[0m\u001b[0;34m\u001b[0m\u001b[0;34m\u001b[0m\u001b[0m\n\u001b[0;32m---> 62\u001b[0;31m     \u001b[0mplot_obj\u001b[0m\u001b[0;34m.\u001b[0m\u001b[0mgenerate\u001b[0m\u001b[0;34m(\u001b[0m\u001b[0;34m)\u001b[0m\u001b[0;34m\u001b[0m\u001b[0;34m\u001b[0m\u001b[0m\n\u001b[0m\u001b[1;32m     63\u001b[0m     \u001b[0mplot_obj\u001b[0m\u001b[0;34m.\u001b[0m\u001b[0mdraw\u001b[0m\u001b[0;34m(\u001b[0m\u001b[0;34m)\u001b[0m\u001b[0;34m\u001b[0m\u001b[0;34m\u001b[0m\u001b[0m\n\u001b[1;32m     64\u001b[0m     \u001b[0;32mreturn\u001b[0m \u001b[0mplot_obj\u001b[0m\u001b[0;34m.\u001b[0m\u001b[0mresult\u001b[0m\u001b[0;34m\u001b[0m\u001b[0;34m\u001b[0m\u001b[0m\n",
            "\u001b[0;32m/usr/local/lib/python3.7/dist-packages/pandas/plotting/_matplotlib/core.py\u001b[0m in \u001b[0;36mgenerate\u001b[0;34m(self)\u001b[0m\n\u001b[1;32m    277\u001b[0m     \u001b[0;32mdef\u001b[0m \u001b[0mgenerate\u001b[0m\u001b[0;34m(\u001b[0m\u001b[0mself\u001b[0m\u001b[0;34m)\u001b[0m\u001b[0;34m:\u001b[0m\u001b[0;34m\u001b[0m\u001b[0;34m\u001b[0m\u001b[0m\n\u001b[1;32m    278\u001b[0m         \u001b[0mself\u001b[0m\u001b[0;34m.\u001b[0m\u001b[0m_args_adjust\u001b[0m\u001b[0;34m(\u001b[0m\u001b[0;34m)\u001b[0m\u001b[0;34m\u001b[0m\u001b[0;34m\u001b[0m\u001b[0m\n\u001b[0;32m--> 279\u001b[0;31m         \u001b[0mself\u001b[0m\u001b[0;34m.\u001b[0m\u001b[0m_compute_plot_data\u001b[0m\u001b[0;34m(\u001b[0m\u001b[0;34m)\u001b[0m\u001b[0;34m\u001b[0m\u001b[0;34m\u001b[0m\u001b[0m\n\u001b[0m\u001b[1;32m    280\u001b[0m         \u001b[0mself\u001b[0m\u001b[0;34m.\u001b[0m\u001b[0m_setup_subplots\u001b[0m\u001b[0;34m(\u001b[0m\u001b[0;34m)\u001b[0m\u001b[0;34m\u001b[0m\u001b[0;34m\u001b[0m\u001b[0m\n\u001b[1;32m    281\u001b[0m         \u001b[0mself\u001b[0m\u001b[0;34m.\u001b[0m\u001b[0m_make_plot\u001b[0m\u001b[0;34m(\u001b[0m\u001b[0;34m)\u001b[0m\u001b[0;34m\u001b[0m\u001b[0;34m\u001b[0m\u001b[0m\n",
            "\u001b[0;32m/usr/local/lib/python3.7/dist-packages/pandas/plotting/_matplotlib/core.py\u001b[0m in \u001b[0;36m_compute_plot_data\u001b[0;34m(self)\u001b[0m\n\u001b[1;32m    412\u001b[0m         \u001b[0;31m# no non-numeric frames or series allowed\u001b[0m\u001b[0;34m\u001b[0m\u001b[0;34m\u001b[0m\u001b[0;34m\u001b[0m\u001b[0m\n\u001b[1;32m    413\u001b[0m         \u001b[0;32mif\u001b[0m \u001b[0mis_empty\u001b[0m\u001b[0;34m:\u001b[0m\u001b[0;34m\u001b[0m\u001b[0;34m\u001b[0m\u001b[0m\n\u001b[0;32m--> 414\u001b[0;31m             \u001b[0;32mraise\u001b[0m \u001b[0mTypeError\u001b[0m\u001b[0;34m(\u001b[0m\u001b[0;34m\"no numeric data to plot\"\u001b[0m\u001b[0;34m)\u001b[0m\u001b[0;34m\u001b[0m\u001b[0;34m\u001b[0m\u001b[0m\n\u001b[0m\u001b[1;32m    415\u001b[0m \u001b[0;34m\u001b[0m\u001b[0m\n\u001b[1;32m    416\u001b[0m         \u001b[0;31m# GH25587: cast ExtensionArray of pandas (IntegerArray, etc.) to\u001b[0m\u001b[0;34m\u001b[0m\u001b[0;34m\u001b[0m\u001b[0;34m\u001b[0m\u001b[0m\n",
            "\u001b[0;31mTypeError\u001b[0m: no numeric data to plot"
          ]
        },
        {
          "output_type": "display_data",
          "data": {
            "image/png": "[encoded data removed]",
            "text/plain": [
              "<Figure size 1080x360 with 1 Axes>"
            ]
          },
          "metadata": {
            "tags": [],
            "needs_background": "light"
          }
        }
      ]
    },
    {
      "cell_type": "markdown",
      "metadata": {
        "id": "sBdTijQnrt5y"
      },
      "source": [
        "All we need now is to load the stimulus data into memory"
      ]
    },
    {
      "cell_type": "code",
      "metadata": {
        "id": "jWuseBAtryTC"
      },
      "source": [
        "fam_stimulus_table_VIP = fam_experiment_VIP.stimulus_presentations\n",
        "nov_stimulus_table_VIP = nov_experiment_VIP.stimulus_presentations\n",
        "\n",
        "fam_stimulus_table.head(10)\n",
        "# nov_stimulus_table.head(10)"
      ],
      "execution_count": null,
      "outputs": []
    },
    {
      "cell_type": "markdown",
      "metadata": {
        "id": "qsSVvJ1Jr4KY"
      },
      "source": [
        "With the stimulus information and the neural data now both in memory we can create an event triggered response using the `mindscope_utilities` function."
      ]
    },
    {
      "cell_type": "code",
      "metadata": {
        "id": "9FyNCo9SsUvx"
      },
      "source": [
        "\n",
        "# VIP\n",
        "etr_fam = mindscope_utilities.event_triggered_response(\n",
        "    data = fam_experiment_neural_data_VIP.query('cell_specimen_id == @cell_id'),\n",
        "    t = 'timestamps',\n",
        "    y = 'dff',\n",
        "    event_times = fam_stimulus_table.query('is_change == True')['start_time'],\n",
        "    t_before=0,\n",
        "    t_after=.6,\n",
        "    output_sampling_rate = 50,\n",
        ")\n",
        "etr_nov = mindscope_utilities.event_triggered_response(\n",
        "    data = nov_experiment_neural_data_VIP.query('cell_specimen_id == @cell_id'),\n",
        "    t = 'timestamps',\n",
        "    y = 'dff',\n",
        "    event_times = nov_stimulus_table.query('is_change == True')['start_time'],\n",
        "    t_before=0,\n",
        "    t_after=.6,\n",
        "    output_sampling_rate = 50,\n",
        ")\n",
        "# SST\n",
        "\n",
        "# Exp"
      ],
      "execution_count": null,
      "outputs": []
    },
    {
      "cell_type": "markdown",
      "metadata": {
        "id": "ngaeeQ64sYO8"
      },
      "source": [
        "ALRIGHT! Lets make some plots."
      ]
    },
    {
      "cell_type": "code",
      "metadata": {
        "id": "3exi42GkscRZ"
      },
      "source": [
        "sns.lineplot(\n",
        "    data=etr_fam,\n",
        "    x='time',\n",
        "    y='dff',\n",
        "    n_boot=200,\n",
        "    color='blue',\n",
        "    label='SST familiar'\n",
        ")\n",
        "sns.lineplot(\n",
        "    data=etr_nov,\n",
        "    x='time',\n",
        "    y='dff',\n",
        "    n_boot=200,\n",
        "    color='green',\n",
        "    label='SST novel'\n",
        ")"
      ],
      "execution_count": null,
      "outputs": []
    },
    {
      "cell_type": "markdown",
      "metadata": {
        "id": "3-0PLH8bGyA3"
      },
      "source": [
        "**Save outputs**"
      ]
    },
    {
      "cell_type": "code",
      "metadata": {
        "id": "TMQjO6CsI27F"
      },
      "source": [
        "# VIP\n",
        "dataframe.to_csv('etr_fam.csv')\n",
        "\n",
        "\n",
        "\n",
        "# SST\n",
        "\n",
        "\n",
        "# Exp"
      ],
      "execution_count": null,
      "outputs": []
    }
  ]
}